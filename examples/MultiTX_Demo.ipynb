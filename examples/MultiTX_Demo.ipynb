{
 "cells": [
  {
   "cell_type": "markdown",
   "metadata": {},
   "source": [
    "# Multi-TX/TL\n",
    "\n",
    "Matthieu Kratz (BE240 Submission)"
   ]
  },
  {
   "cell_type": "markdown",
   "metadata": {},
   "source": [
    "## Why this model?"
   ]
  },
  {
   "cell_type": "markdown",
   "metadata": {},
   "source": [
    "Like most genetic circuit models, you typically start with a model that captures the two fundamental processes of transcription and translation. These processes can modelled with varying degrees of complexity, ranging from a basic tx/tl model (__Equation 1__) to complex models that simulate tx/tl at a base pair level. For my project, it was of particular importance that I accurately model the sequestration of transcriptional machinery. Further, I was working without RPU data, making typical models that assume some maximum steady state saturation e.g. positive proportional hill intractable for my system. \n",
    "\n",
    "\\begin{align}\n",
    "\\\\ \\\\\n",
    "&G \\xrightarrow{ktx} T + G \\\\ \\\\ \n",
    "&\\textbf{Equation 1.} \\ \\ \\text{Simple Transcription}\n",
    "\\\\\n",
    "\\end{align}\n",
    "\n",
    "\n",
    "\n",
    "Hence, I needed a model that gave reasonable steady state transcription and translation dynamics from non-RPU parameters, all while accurately tracking the sequestration of the relevant machinery. "
   ]
  },
  {
   "cell_type": "markdown",
   "metadata": {},
   "source": [
    "## The Multi-TX Model"
   ]
  },
  {
   "cell_type": "markdown",
   "metadata": {},
   "source": [
    "The model CRN is below and the mechanism effectively relies on accounting for all possible RNAp occupancy states, including the various transitions between these occupancy states.\n",
    "\n",
    "\\begin{align}\n",
    "\\\\ \\\\\n",
    "&\\textbf{1. Binding} \\\\ \n",
    "&T7_p + T7_p:G_n  \\underset{kT72}{\\overset{kT71}\\rightleftharpoons} T7_p:G_{n\\alpha}  \\ \\ , \\   \\text{n $\\neq$ $n_{max}$} \\\\ \\\\\n",
    "&\\textbf{2. Closed --> Open} \\\\ \n",
    "&T7_p:G_{n\\alpha}  \\xrightarrow{k_{iso}} T7_p:G_{n+1}  \\ \\ , \\   \\text{n $\\neq$ $n_{max}$} \\\\ \\\\\n",
    "&\\textbf{3. TX} \\\\ \n",
    "&T7_p:G_{n\\alpha} \\xrightarrow{ktx} nT7_m + nT7_p + T7_p:G_{0\\alpha} \\ \\ , \\  \\text{n $\\neq$ 0} \\\\ \n",
    "&T7_p:G_n \\xrightarrow{ktx} nT7_m + nT7_p + T7_p:G_{0} \\ \\ , \\  \\text{n $\\neq$ 0} \\\\\n",
    "\\end{align}\n",
    "\n",
    "kT71 --> Promoter binding rate constant (bimolecular)\n",
    "\n",
    "kT72 --> Promoter unbinding rate constant (unimolecular)\n",
    "\n",
    "k_iso --> Closed to open complex transition rate constant (unimolecular)\n",
    "\n",
    "ktx --> Single polymerase mRNA synthesis rate constant (unimolecular)"
   ]
  },
  {
   "cell_type": "markdown",
   "metadata": {},
   "source": [
    "A couple of comments:\n",
    "- We explicitly model the process of transitioning from the closed ($T7_p:G_{n\\alpha}$) to open complex ($T7_p:G_{n+1}$). This a pretty slow reaction in vivo, and in the various iterations of this model, including this seemed to be key in accurately reflecting transcription dynamics.\n",
    "\n",
    "- $n_{max}$ refers to the maximum possible occupancy of the gene. This is the physical limit which is ultimately determined by the footprint of the polymerase and the length of the gene. In relation to the point above, without isomerization, this physical limit is always met. With the explicit isomerization, this physical saturation is not met (with my parameter set at least).\n",
    "\n",
    "- Polymerase can only be added one at a time to existing genes i.e. cannot have multiple binding events or closed complexes simultaneously.\n",
    "\n",
    "- We have two TX reactions, one from the closed state and the other from the open state, both with $N$ actively transcribing polymerases. We decided to allow release from the closed state as there is no reason why one polymerase in the closed form should inhibit of other activitely transcribing polymerases. Further, at a modelling level, not allowing release from the closed state results in excessive sequestration of polymerase due to the long time scale of isomerization.\n",
    "\n",
    "- In both TX reactions, the entirety of the $N$ polymerases (bar the one in the closed state) are simultaneously release, along with $N$ transcripts and the unoccupied gene ($T7_p:G_{0}$)"
   ]
  },
  {
   "cell_type": "markdown",
   "metadata": {},
   "source": [
    "## Biocrnpyler multi_tx Mechanism subclass"
   ]
  },
  {
   "cell_type": "markdown",
   "metadata": {},
   "source": [
    "Subclass should be availabe via `from biocrnpyler import mechanism`, code is below for clarity"
   ]
  },
  {
   "cell_type": "markdown",
   "metadata": {},
   "source": [
    "Couple of comments:\n",
    "- The subclass has been designed to be used in concert with the Promoter and DNA assemblies subclasses\n",
    "\n",
    "- Have to define a maximum occupancy (int) and cognate polymerase (species or str) when instantiating \n",
    "\n",
    "- The various complex species are generated within the subclass from the names of the polymerase and dna objects in the DNAassembly object. They are defined as species with DNA material types.\n",
    "    "
   ]
  },
  {
   "cell_type": "markdown",
   "metadata": {},
   "source": [
    "## Example: T7 Polymerase Transcription of GFP mRNA"
   ]
  },
  {
   "cell_type": "code",
   "execution_count": 1,
   "metadata": {},
   "outputs": [
    {
     "name": "stderr",
     "output_type": "stream",
     "text": [
      "C:\\Users\\mkratz\\Anaconda3\\lib\\site-packages\\biocrnpyler-0.2-py3.7.egg\\biocrnpyler\\__init__.py:36: UserWarning: No module named 'fa2'\n",
      "C:\\Users\\mkratz\\Anaconda3\\lib\\site-packages\\biocrnpyler-0.2-py3.7.egg\\biocrnpyler\\__init__.py:37: UserWarning: plotting is disabled because you are missing some libraries\n"
     ]
    }
   ],
   "source": [
    "from biocrnpyler import *\n",
    "\n",
    "class multi_tx(Mechanism):\n",
    "    '''\n",
    "    Multi-RNAp Transcription w/ Isomerization:\n",
    "    Detailed transcription mechanism accounting for each individual \n",
    "    RNAp occupancy states of gene.\n",
    "    \n",
    "    n ={0, max_occ}\n",
    "    DNA:RNAp_n + RNAp <--> DNA:RNAp_n_c --> DNA:RNAp_n+1\n",
    "    DNA:RNAp_n --> DNA:RNAp_0 + n RNAp + n mRNA\n",
    "    DNA:RNAp_n_c --> DNA:RNAp_0_c + n RNAp + n mRNA\n",
    "    \n",
    "    n --> number of open configuration RNAp on DNA\n",
    "    max_occ --> Physical maximum number of RNAp on DNA (based on RNAp and DNA dimensions)\n",
    "    DNA:RNAp_n --> DNA with n open configuration RNAp on it\n",
    "    DNA:RNAp_n_c --> DNA with n open configuration RNAp and 1 closed configuration RNAp on it\n",
    "    \n",
    "    For more details, see examples/MultiTX_Demo.ipynb\n",
    "    '''\n",
    "    \n",
    "    # initialize mechanism subclass\n",
    "    def __init__(self, pol, name='multi_tx', mechanism_type='transcription', **keywords):\n",
    "\n",
    "        if isinstance(pol,str):\n",
    "            self.pol = Species(name=pol, material_type='protein')\n",
    "        \n",
    "        elif isinstance(pol,Species):\n",
    "            self.pol = pol\n",
    "        \n",
    "        else:\n",
    "            raise ValueError(\"'pol' must be a string or Species\")\n",
    "            \n",
    "            \n",
    "        Mechanism.__init__(self, name=name, mechanism_type=mechanism_type, **keywords)\n",
    "    \n",
    "    # species update\n",
    "    def update_species(self, dna, transcript, component, part_id, **keywords):\n",
    "        max_occ = int(component.get_parameter(\"max_occ\", part_id = part_id, mechanism = self))\n",
    "        cp_open = []\n",
    "        cp_closed = []\n",
    "        for n in range(1,max_occ + 1):\n",
    "            name_open = self.pol.name + 'x' + dna.name + '_' + str(n)\n",
    "            cp_open.append(ComplexSpecies([dna]+[self.pol for i in range(n)],name=name_open))\n",
    "            if n > 1:\n",
    "                name_closed = self.pol.name + 'x' + dna.name + '_closed' + '_' + str(n-1)\n",
    "                cp_closed.append(ComplexSpecies([dna]+[self.pol for i in range(n-1)],name=name_closed))\n",
    "            else:\n",
    "                name_closed = self.pol.name + 'x' + dna.name + '_closed' + '_' + str(0)\n",
    "                cp_closed.append(ComplexSpecies([dna]+[self.pol for i in range(1)],name=name_closed))\n",
    "        \n",
    "        cp_misc = [self.pol,dna,transcript]\n",
    "        \n",
    "        \n",
    "        return cp_open + cp_closed + cp_misc\n",
    "    \n",
    "    def update_reactions(self, dna, transcript, component, part_id, **keywords):\n",
    "        \n",
    "        '''\n",
    "    DNA:RNAp_n + RNAp <--> DNA:RNAp_n_c --> DNA:RNAp_n+1\n",
    "    kf1 = k1, kr1 = k2, kf2 = k_iso\n",
    "    DNA:RNAp_n --> DNA:RNAp_0 + n RNAp + n mRNA\n",
    "    kf = ktx_solo\n",
    "    DNA:RNAp_n_c --> DNA:RNAp_0_c + n RNAp + n mRNA\n",
    "    kf = ktx_solo\n",
    "        \n",
    "    max_occ =  maximum occupancy of gene (physical limit)\n",
    "        '''\n",
    "        \n",
    "        # parameter loading\n",
    "        k1 = component.get_parameter(\"k1\", part_id = part_id, mechanism = self)\n",
    "        k2 = component.get_parameter(\"k2\", part_id = part_id, mechanism = self)\n",
    "        k_iso = component.get_parameter(\"k_iso\", part_id = part_id, mechanism = self)\n",
    "        ktx_solo = component.get_parameter(\"ktx_solo\", part_id = part_id, mechanism = self)\n",
    "        max_occ = int(component.get_parameter(\"max_occ\", part_id = part_id, mechanism = self))\n",
    "        \n",
    "        # complex species instantiation\n",
    "        cp_open = []\n",
    "        cp_closed = []\n",
    "        for n in range(1,max_occ + 1):\n",
    "            name_open = self.pol.name + 'x' + dna.name + '_' + str(n)\n",
    "            cp_open.append(ComplexSpecies([dna]+[self.pol for i in range(n)],name=name_open))\n",
    "            if n > 1:\n",
    "                name_closed = self.pol.name + 'x' + dna.name + '_closed' + '_' + str(n-1)\n",
    "                cp_closed.append(ComplexSpecies([dna]+[self.pol for i in range(n-1)],name=name_closed))\n",
    "            else:\n",
    "                name_closed = self.pol.name + 'x' + dna.name + '_closed' + '_' + str(0)\n",
    "                cp_closed.append(ComplexSpecies([dna]+[self.pol for i in range(1)],name=name_closed))\n",
    "                \n",
    "        \n",
    "        # Reactions\n",
    "        # polymerase + complex(n) --> complex(n_closed)\n",
    "        rxn_open_pf = [Reaction(inputs=[self.pol, cp_open[n]], outputs=[cp_closed[n+1]], k=k1) for n in range(0,max_occ-1)]\n",
    "        rxn_open_pr = [Reaction(inputs=[cp_closed[n+1]], outputs=[self.pol, cp_open[n],], k=k2) for n in range(0,max_occ-1)]\n",
    "        \n",
    "        # isomerization\n",
    "        rxn_iso = [Reaction(inputs=[cp_closed[n]], outputs=[cp_open[n]], k=k_iso) for n in range(0,max_occ)]\n",
    "        \n",
    "        # release/transcription from open and closed states\n",
    "        rxn_release_open =  []\n",
    "        rxn_release_closed = []\n",
    "        for n in range(0,max_occ):\n",
    "            rxn_temp1 = Reaction(inputs= [cp_open[n]], outputs=[self.pol for i in range(n+1)] + \n",
    "                                 [transcript for i in range(n+1)] + [dna], k=ktx_solo)\n",
    "            rxn_release_open.append(rxn_temp1)\n",
    "        \n",
    "        for n in range(1,max_occ):\n",
    "            rxn_temp2 = Reaction(inputs= [cp_closed[n]], outputs=[self.pol for i in range(n)] + \n",
    "                                 [transcript for i in range(n)] + [cp_closed[0]], k=ktx_solo)\n",
    "            rxn_release_closed.append(rxn_temp2)\n",
    "            \n",
    "        # missing reactions (0 --> 0_closed and v.v. 0_closed --> 0)\n",
    "        rxn_m1 = Reaction(inputs=[dna,self.pol], outputs=[cp_closed[0]], k=k1)\n",
    "        rxn_m2 = Reaction(inputs=[cp_closed[0]], outputs=[dna,self.pol], k=k2)\n",
    "        \n",
    "        rxn_all = rxn_open_pf + rxn_open_pr + rxn_iso + rxn_release_open + rxn_release_closed + [rxn_m1, rxn_m2]\n",
    "        \n",
    "        return rxn_all"
   ]
  },
  {
   "cell_type": "markdown",
   "metadata": {},
   "source": [
    "First we define a dilution mixture class, a mixture based of ExpressionExtract which adds dilution and degredation interactions to RNA species, respectively. I haven't added this for proteins as it makes it easier to glean the degree of sequestration present with this mechanism. In practical use, you would of course allow your polymerase to be diluted."
   ]
  },
  {
   "cell_type": "code",
   "execution_count": 2,
   "metadata": {},
   "outputs": [],
   "source": [
    "class DilutionMixture(Mixture):\n",
    "    def __init__(self, name=\"\", **keywords):\n",
    "        \n",
    "        simple_transcription = SimpleTranscription() #Transcription will not involve machinery\n",
    "        simple_translation = SimpleTranslation()\n",
    "        \n",
    "        default_mechanisms = {\n",
    "            \"transcription\": simple_transcription, #This will be overwritten by the NegativeHillPromotor\n",
    "            \"translation\": simple_translation\n",
    "        }\n",
    "    \n",
    "        #By Default Species are diluted S-->0 Unless:\n",
    "        # They are of type 'dna'\n",
    "        # They have the attribute 'machinery'\n",
    "        dilution_mechanism = Dilution(filter_dict = {\"dna\":False,'protein':False,'complex':False}, default_on = True)\n",
    "        dilution_mrn = Dilution(name = \"rna_degredation\", filter_dict = {\"rna\":True}, default_on = False)\n",
    "\n",
    "        #Add this mechanism to a dictionary which is passed into the Mixture txtl.TxTlExtract\n",
    "        global_mechanisms = {\"dilution\":dilution_mechanism, \"rna_degredation\":dilution_mrn}\n",
    "        \n",
    "        #Always call the superclass __init__ with **keywords\n",
    "        Mixture.__init__(self, name=name, default_mechanisms=default_mechanisms, global_mechanisms = global_mechanisms, **keywords)"
   ]
  },
  {
   "cell_type": "markdown",
   "metadata": {},
   "source": [
    "Now we define a DNA assembly that use our mechanism in the following steps:\n",
    "- Create a species for the relevant polymerase\n",
    "- Create multi_tx object, give a maximum occupancy and polymerase (must be species or str)\n",
    "- Associate this mechanism with a promoter\n",
    "- Place this promoter into a DNA assembly\n",
    "\n",
    "And voila, the cassette regulated by T7p is ready to use!"
   ]
  },
  {
   "cell_type": "code",
   "execution_count": 3,
   "metadata": {},
   "outputs": [],
   "source": [
    "# Define Polymerase, and max occupancy and instatiate Mechanism Object\n",
    "T7P = Species('T7p','protein')\n",
    "MX = multi_tx(pol=T7P,name='MX')\n",
    "\n",
    "# create promoter object, associated MX and params with it\n",
    "pT7 = Promoter(name='pT7',mechanisms={'transcription':MX})\n",
    "\n",
    "# place promoter object into DNA assembly\n",
    "PFL = DNAassembly('PFL',dna=Species('T7',material_type='dna'),promoter=pT7,transcript='GFP')\n",
    "\n",
    "# create simple promoter and DNA assembly objects that synthesize polymerase, uncomment if you want\n",
    "# a constant source of T7p\n",
    "# pJ = Promoter('J23107',mechanisms={'transcription':OneStepGeneExpression()})\n",
    "# SC = DNAassembly('SCF',dna='T7_source',promoter=pJ,protein=T7P)\n",
    "# Test_EX = DilutionMixture(components=[PFL,SC],parameter_file = \"parameters.txt\")\n",
    "# CRN = Test_EX.compile_crn()\n",
    "\n",
    "# make extract with T7p source and GFP and compile CRN \n",
    "Test_EX = DilutionMixture(components=[PFL],parameter_file = \"params_demo.txt\")\n",
    "CRN1 = Test_EX.compile_crn()"
   ]
  },
  {
   "cell_type": "code",
   "execution_count": 4,
   "metadata": {},
   "outputs": [
    {
     "data": {
      "image/png": "[encoded data removed]",
      "text/plain": [
       "<Figure size 1296x576 with 2 Axes>"
      ]
     },
     "metadata": {
      "needs_background": "light"
     },
     "output_type": "display_data"
    }
   ],
   "source": [
    "import numpy as np\n",
    "import matplotlib.pyplot as plt\n",
    "\n",
    "ts = np.arange(0,2000,1)\n",
    "x0_dict = {repr(T7P):10000,repr(PFL.dna):1}\n",
    "\n",
    "# Do not use simulate_with_bioscrape_via_sbml, not working at time of writing (5/31/2020) because of a bug related to sbml model writing \n",
    "try:\n",
    "    R1= CRN1.simulate_with_bioscrape(ts, initial_condition_dict = x0_dict, stochastic = False,)\n",
    "\n",
    "    fig, ax = plt.subplots(1,2,figsize=(18,8))\n",
    "    ax[0].set_title('Polymerase Levels',pad=20,fontdict={'fontsize':18})\n",
    "    ax[0].plot(R1['protein_T7p'],linewidth=3)\n",
    "    ax[0].set_xlabel('Time (sec)',labelpad=15,fontdict={'fontsize':14})\n",
    "    ax[0].set_ylabel('Polymerase Count',labelpad=15,fontdict={'fontsize':14})\n",
    "\n",
    "    ax[1].set_title('Transcript Levels',pad=20,fontdict={'fontsize':18})\n",
    "    ax[1].plot(R1['rna_GFP'],linewidth=3,c='k')\n",
    "    ax[1].set_xlabel('Time (sec)',labelpad=15,fontdict={'fontsize':14})\n",
    "    ax[1].set_ylabel('Transcript Count',labelpad=15,fontdict={'fontsize':14})\n",
    "except ModuleNotFoundError:\n",
    "    pass"
   ]
  },
  {
   "cell_type": "markdown",
   "metadata": {},
   "source": [
    "## Comparison of Transcript SS with RPU Data"
   ]
  },
  {
   "cell_type": "markdown",
   "metadata": {},
   "source": [
    "Here we will do a head to head comparison with a simple transcription model built using RPU data. I consider this to effectively be the ground truth for the SS Transcript Count, although it should be noted this comparison does not necessary validate any of the pre-SS dynamics as the simple transcription model assumes immediate saturation. RPU data is from Qi et al.(2012) and RPU standard is from supplement of Nielsen et al. (2016)."
   ]
  },
  {
   "cell_type": "code",
   "execution_count": 5,
   "metadata": {},
   "outputs": [],
   "source": [
    "# place promoter object into DNA assembly\n",
    "PFL = DNAassembly('PFL',dna='T7',promoter='pT7',transcript='GFP')\n",
    "\n",
    "# make extract with T7p source and GFP and compile CRN \n",
    "Test_EX = DilutionMixture(components=[PFL],parameter_file = \"params_demo.txt\")\n",
    "CRN2 = Test_EX.compile_crn()"
   ]
  },
  {
   "cell_type": "code",
   "execution_count": 6,
   "metadata": {},
   "outputs": [
    {
     "name": "stdout",
     "output_type": "stream",
     "text": [
      "\n",
      " \n",
      "\n",
      "MX Model predicts 119.0 transcripts and RPU Model predicts 109.0 transcripts at SS \n",
      " \n",
      "\n"
     ]
    },
    {
     "data": {
      "image/png": "[encoded data removed]",
      "text/plain": [
       "<Figure size 720x432 with 1 Axes>"
      ]
     },
     "metadata": {
      "needs_background": "light"
     },
     "output_type": "display_data"
    }
   ],
   "source": [
    "import numpy as np\n",
    "import matplotlib.pyplot as plt\n",
    "\n",
    "ts = np.arange(0,2000,1)\n",
    "x0_dict = {repr(PFL.dna):1}\n",
    "\n",
    "# Do not use simulate_with_bioscrape_via_sbml, not working at time of writing (5/31/2020) because of a bug related to sbml model writing\n",
    "try:\n",
    "    R2 = CRN2.simulate_with_bioscrape(ts, initial_condition_dict = x0_dict, stochastic = False,)\n",
    "\n",
    "    fig = plt.figure(figsize=(10,6))\n",
    "    plt.title('Transcript Levels',pad=20,fontdict={'fontsize':18})\n",
    "    plt.plot(R1['rna_GFP'],linewidth=3,c='k',label='MTX Model')\n",
    "    plt.plot(R2['rna_GFP'],linewidth=3,c='b', label='RPU Model')\n",
    "    plt.xlabel('Time (sec)',labelpad=15,fontdict={'fontsize':14})\n",
    "    plt.ylabel('Transcript Count',labelpad=15,fontdict={'fontsize':14})\n",
    "    plt.legend(fontsize=14)\n",
    "\n",
    "    print('\\n \\n')\n",
    "    print(f\"MX Model predicts {np.round(R1['rna_GFP'].iloc[-1])} transcripts and RPU Model predicts {np.round(R2['rna_GFP'].iloc[-1])} transcripts at SS \\n \\n\")\n",
    "except ModuleNotFoundError:\n",
    "    pass"
   ]
  },
  {
   "cell_type": "markdown",
   "metadata": {},
   "source": [
    "The two models seem to agree pretty well, with some minor difference. This is pretty cool given the fact that MX model uses indirect parameters (promoter affinity, isomerization and tx rates) to predict this SS value. Of course, it's also important to keep in mind that alternative models typically do to not account for the constant sequestration of the polymerase machinery to sustain this SS transcript level. As such, they may not reflect key dynamics resulting from machinery allocation/sharing e.g. retroactivity in tx/tl."
   ]
  },
  {
   "cell_type": "markdown",
   "metadata": {},
   "source": [
    "## Putative Multi-TL Model"
   ]
  },
  {
   "cell_type": "markdown",
   "metadata": {},
   "source": [
    "The general model of binding, isomerization and production can be readily extended to the process of translation. However, there are several caveats for translation. \n",
    "\n",
    "- First of all, I don't have any direct data like RPU experiments to compare my model with. All I can say is that with biologically reasonable parameter sets, you get something like a few hundred proteins per mRNA (RBZ in excess) and e. coli has a protein to mRNA ratio in that range (100:1 - 1000:1) (Taniguchi et al.(2010) or bionumbers book). \n",
    "\n",
    "- Second of all, since we're no longer working with DNA complexes, the mRNA-RBZ complexes should be subject to degredation/dilution. However, it seems that at the level of the biology, initiation can have a stabilizing effect and for elongation it is uncertain (Roy et al. (2013)). In my simulations, I've effectively done as if only dilution is applied to these complexes, but there is an argument to include some form of active degredation (at a reduced rate). Depending on how this implemented, one may need to make a new degredation mechanism where the complexes effectively releases the ribosomes i.e. only mRNA degraded. This is also complicated by the fact that using subclasses like ComplexSpecies() results in inheritance of degredation/material properties. "
   ]
  },
  {
   "cell_type": "markdown",
   "metadata": {},
   "source": [
    "## Quick Example "
   ]
  },
  {
   "cell_type": "code",
   "execution_count": 7,
   "metadata": {},
   "outputs": [],
   "source": [
    "from biocrnpyler import *\n",
    "import warnings\n",
    "\n",
    "class multi_tl(Mechanism):\n",
    "    '''\n",
    "    Multi-RBZ Translation w/ Isomerization:\n",
    "    Detailed translation mechanism accounting for each individual \n",
    "    RBZ occupancy states of mRNA. Still needs some work, so use with caution,\n",
    "    read all warnings and consult the example notebook.\n",
    "    \n",
    "    n ={0, max_occ}\n",
    "    mRNA:RBZ_n + RBZ <--> mRNA:RBZ_n_c --> mRNA:RBZ_n+1\n",
    "    mRNA:RBZ_n --> mRNA:RBZ_0 + n RBZ + n Protein\n",
    "    mRNA:RBZ_n_c --> mRNA:RBZ_0_c + n RBZ + n Protein\n",
    "    \n",
    "    n --> number of open configuration RBZ on mRNA\n",
    "    max_occ --> Physical maximum number of RBZ on mRNA (based on RBZ and mRNA dimensions)\n",
    "    mRNA:RBZ_n --> mRNA with n open configuration RBZ on it\n",
    "    mRNA:RBZ_n_c --> mRNA with n open configuration RBZ and 1 closed configuration RBZ on it\n",
    "    \n",
    "    For more details, see examples/MultiTX_Demo.ipynb\n",
    "    '''    \n",
    "    \n",
    "    # initialize mechanism subclass\n",
    "    def __init__(self, ribosome, name='multi_tl', mechanism_type='translation', **keywords):\n",
    "\n",
    "        if isinstance(ribosome,str):\n",
    "            self.ribosome = Species(name=ribosome, material_type='protein')\n",
    "        \n",
    "        elif isinstance(ribosome,Species):\n",
    "            self.ribosome = ribosome\n",
    "        \n",
    "        else:\n",
    "            raise ValueError(\"'ribosome' must be a string or Species\")\n",
    "        \n",
    "        warnings.warn('This mechanism still needs some extra validation, use at your own peril and read the warnings!')\n",
    "        warnings.warn(\"To properly use this mechanism, set dilution for mRNA-RBZ complexes!\")\n",
    "        warnings.warn(\"I've set RBZ and mRNA-RBZ complexes as protein Species to apply dilution to them, edit if you want something else!\")\n",
    "\n",
    "        Mechanism.__init__(self, name=name, mechanism_type=mechanism_type, **keywords)\n",
    "    \n",
    "    # species update\n",
    "    def update_species(self, transcript, protein, component, part_id, **keywords):\n",
    "        max_occ = int(component.get_parameter(\"max_occ\", part_id = part_id, mechanism = self))\n",
    "        cp_open = []\n",
    "        cp_closed = []\n",
    "        for n in range(1,max_occ + 1):\n",
    "            name_open = self.ribosome.name + 'x' + transcript.name + '_' + str(n)\n",
    "            cp_open.append(ComplexSpecies([transcript]+[self.ribosome for i in range(n)],name=name_open))\n",
    "            \n",
    "            if n > 1:\n",
    "                name_closed = self.ribosome.name + 'x' + transcript.name + '_closed' + '_' + str(n-1)\n",
    "                cp_closed.append(ComplexSpecies([transcript]+[self.ribosome for i in range(n-1)],name=name_closed))\n",
    "            else:\n",
    "                name_closed = self.ribosome.name + 'x' + transcript.name + '_closed' + '_' + str(0)\n",
    "                cp_closed.append(ComplexSpecies([transcript]+[self.ribosome for i in range(1)],name=name_closed))\n",
    "                \n",
    "\n",
    "        cp_misc = [self.ribosome,transcript,protein]\n",
    "\n",
    "        return cp_open + cp_closed + cp_misc\n",
    "    \n",
    "    def update_reactions(self, transcript, protein, component, part_id, **keywords):\n",
    "        '''\n",
    "    mRNA:RBZ_n + RBZ <--> mRNA:RBZ_n_c --> mRNA:RBZ_n+1\n",
    "    kf1 = kbr, kr1 = kur, kf2 = k_iso_r\n",
    "    mRNA:RBZ_n --> mRNA:RBZ_0 + n RBZ + n Protein\n",
    "    kf = ktl_solo\n",
    "    mRNA:RBZ_n_c --> mRNA:RBZ_0_c + n RBZ + n Protein\n",
    "    kf = ktl_solo\n",
    "        '''\n",
    "        \n",
    "        # parameter loading\n",
    "        kbr = component.get_parameter(\"kbr\", part_id = part_id, mechanism = self)\n",
    "        kur = component.get_parameter(\"kur\", part_id = part_id, mechanism = self)\n",
    "        k_iso_r = component.get_parameter(\"k_iso_r\", part_id = part_id, mechanism = self)\n",
    "        ktl_solo = component.get_parameter(\"ktl_solo\", part_id = part_id, mechanism = self)\n",
    "        max_occ = int(component.get_parameter(\"max_occ\", part_id = part_id, mechanism = self))\n",
    "\n",
    "        \n",
    "        # complex species instantiation\n",
    "        cp_open = []\n",
    "        cp_closed = []\n",
    "        for n in range(1,max_occ + 1):\n",
    "            name_open = self.ribosome.name + 'x' + transcript.name + '_' + str(n)\n",
    "            cp_open.append(ComplexSpecies([transcript]+[self.ribosome for i in range(n)],name=name_open))\n",
    "            \n",
    "            if n > 1:\n",
    "                name_closed = self.ribosome.name + 'x' + transcript.name + '_closed' + '_' + str(n-1)\n",
    "                cp_closed.append(ComplexSpecies([transcript]+[self.ribosome for i in range(n-1)],name=name_closed))\n",
    "            else:\n",
    "                name_closed = self.ribosome.name + 'x' + transcript.name + '_closed' + '_' + str(0)\n",
    "                cp_closed.append(ComplexSpecies([transcript]+[self.ribosome for i in range(1)],name=name_closed))\n",
    "        \n",
    "        # Reactions\n",
    "        # ribosome + complex(n) --> complex(n_closed)\n",
    "        rxn_open_pf = [Reaction(inputs=[self.ribosome, cp_open[n]], outputs=[cp_closed[n+1]], k=kbr) for n in range(0,max_occ-1)]\n",
    "        rxn_open_pr = [Reaction(inputs=[cp_closed[n+1]], outputs=[self.ribosome, cp_open[n],], k=kur) for n in range(0,max_occ-1)]\n",
    "        \n",
    "        # isomerization\n",
    "        rxn_iso = [Reaction(inputs=[cp_closed[n]], outputs=[cp_open[n]], k=k_iso_r) for n in range(0,max_occ)]\n",
    "        \n",
    "        # release/translation from open and closed states\n",
    "        rxn_release_open =  []\n",
    "        rxn_release_closed = []\n",
    "        for n in range(0,max_occ):\n",
    "            rxn_temp1 = Reaction(inputs= [cp_open[n]], outputs=[self.ribosome for i in range(n+1)] + \n",
    "                                 [protein for i in range(n+1)] + [transcript], k=ktl_solo)\n",
    "            rxn_release_open.append(rxn_temp1)\n",
    "        \n",
    "        for n in range(1,max_occ):\n",
    "            rxn_temp2 = Reaction(inputs= [cp_closed[n]], outputs=[self.ribosome for i in range(n)] + \n",
    "                                 [protein for i in range(n)] + [cp_closed[0]], k=ktl_solo)\n",
    "            rxn_release_closed.append(rxn_temp2)\n",
    "            \n",
    "        # missing reactions (0 --> 0_closed and v.v. 0_closed --> 0)\n",
    "        rxn_m1 = Reaction(inputs=[transcript,self.ribosome], outputs=[cp_closed[0]], k=kbr)\n",
    "        rxn_m2 = Reaction(inputs=[cp_closed[0]], outputs=[transcript,self.ribosome], k=kur)\n",
    "        \n",
    "        rxn_all = rxn_open_pf + rxn_open_pr + rxn_iso + rxn_release_open + rxn_release_closed + [rxn_m1, rxn_m2]\n",
    "        \n",
    "        return rxn_all"
   ]
  },
  {
   "cell_type": "code",
   "execution_count": 8,
   "metadata": {},
   "outputs": [],
   "source": [
    "class DilutionMixture(Mixture):\n",
    "    def __init__(self, name=\"\", **keywords):\n",
    "        \n",
    "        simple_transcription = SimpleTranscription() #Transcription will not involve machinery\n",
    "        simple_translation = SimpleTranslation()\n",
    "        \n",
    "        default_mechanisms = {\n",
    "            \"transcription\": simple_transcription, #This will be overwritten by the NegativeHillPromotor\n",
    "            \"translation\": simple_translation\n",
    "        }\n",
    "    \n",
    "        #By Default Species are diluted S-->0 Unless:\n",
    "        # They are of type 'dna'\n",
    "        # They have the attribute 'machinery'\n",
    "        dilution_mechanism = Dilution(filter_dict = {\"dna\":False,'protein':True,'complex':True}, default_on = True)\n",
    "        dilution_mrn = Dilution(name = \"rna_degredation\", filter_dict = {\"rna\":True}, default_on = False)\n",
    "\n",
    "        #Add this mechanism to a dictionary which is passed into the Mixture txtl.TxTlExtract\n",
    "        global_mechanisms = {\"dilution\":dilution_mechanism, \"rna_degredation\":dilution_mrn}\n",
    "        \n",
    "        #Always call the superclass __init__ with **keywords\n",
    "        Mixture.__init__(self, name=name, default_mechanisms=default_mechanisms, global_mechanisms = global_mechanisms, **keywords)"
   ]
  },
  {
   "cell_type": "markdown",
   "metadata": {},
   "source": [
    "PFL is transcribed through simple transcription and translated through my multi_tl mechanism. We also have a constitutive source of our RBZ being produced to provide a constant saturating concentration of RBZ."
   ]
  },
  {
   "cell_type": "code",
   "execution_count": 9,
   "metadata": {},
   "outputs": [
    {
     "name": "stderr",
     "output_type": "stream",
     "text": [
      "C:\\Users\\mkratz\\Anaconda3\\lib\\site-packages\\ipykernel_launcher.py:36: UserWarning: This mechanism still needs some extra validation, use at your own peril and read the warnings!\n",
      "C:\\Users\\mkratz\\Anaconda3\\lib\\site-packages\\ipykernel_launcher.py:37: UserWarning: To properly use this mechanism, set dilution for mRNA-RBZ complexes!\n",
      "C:\\Users\\mkratz\\Anaconda3\\lib\\site-packages\\ipykernel_launcher.py:38: UserWarning: I've set RBZ and mRNA-RBZ complexes as protein Species to apply dilution to them, edit if you want something else!\n"
     ]
    }
   ],
   "source": [
    "# Instantiate RBZ species\n",
    "RBZ = Species('RBZ',material_type='protein')\n",
    "\n",
    "# make RBZ source\n",
    "JP  = Promoter('J23101')\n",
    "RBZ_S = DNAassembly('RBZ_source',promoter=JP,transcript=RBZ)\n",
    "\n",
    "# Instantiate mechanism and mixture\n",
    "ML = multi_tl(RBZ)\n",
    "PFL = DNAassembly('PFL',dna='T7',rbs='RBSG',promoter='pT7',transcript='GFP',protein='GFP')\n",
    "EM = DilutionMixture('EM',components=[PFL,RBZ_S],parameter_file = \"params_demo.txt\",mechanisms={'translation':ML})\n",
    "CRN3 = EM.compile_crn()"
   ]
  },
  {
   "cell_type": "code",
   "execution_count": 10,
   "metadata": {},
   "outputs": [
    {
     "name": "stdout",
     "output_type": "stream",
     "text": [
      "\n",
      "\n",
      "The ratio of protein to mRNA is 209.0 protein per mRNA\n",
      "\n",
      "\n",
      "The average mRNA occupancy is 11.0 ribosomes per mRNA\n",
      "\n",
      " \n",
      "\n"
     ]
    },
    {
     "data": {
      "image/png": "[encoded data removed]",
      "text/plain": [
       "<Figure size 1296x576 with 2 Axes>"
      ]
     },
     "metadata": {
      "needs_background": "light"
     },
     "output_type": "display_data"
    }
   ],
   "source": [
    "import numpy as np\n",
    "import matplotlib.pyplot as plt\n",
    "\n",
    "ts = np.arange(0,10000,1)\n",
    "x0_dict = {repr(RBZ_S.dna):100,repr(PFL.dna):1}\n",
    "\n",
    "try:\n",
    "    # Do not use simulate_with_bioscrape_via_sbml, not working at time of writing (5/31/2020) because of a bug related to sbml model writing \n",
    "    R3 = CRN3.simulate_with_bioscrape(ts, initial_condition_dict = x0_dict, stochastic = False,)\n",
    "\n",
    "    fig, ax = plt.subplots(1,2,figsize=(18,8))\n",
    "    ax[0].set_title('GFP Protein Levels',pad=20,fontdict={'fontsize':18})\n",
    "    ax[0].plot(R3['protein_GFP'],linewidth=3)\n",
    "    ax[0].set_xlabel('Time (sec)',labelpad=15,fontdict={'fontsize':14})\n",
    "    ax[0].set_ylabel('GFP Protein Count',labelpad=15,fontdict={'fontsize':14})\n",
    "\n",
    "    ax[1].set_title('GFP Transcript Levels',pad=20,fontdict={'fontsize':18})\n",
    "    ax[1].plot(R3['rna_GFP'],linewidth=3,c='k')\n",
    "    ax[1].set_xlabel('Time (sec)',labelpad=15,fontdict={'fontsize':14})\n",
    "    ax[1].set_ylabel('GFP Transcript Count',labelpad=15,fontdict={'fontsize':14})\n",
    "\n",
    "\n",
    "    # tiny script to aggregate T7m containing species\n",
    "    import pandas as pd\n",
    "    j = pd.DataFrame()\n",
    "    for col in R3.columns:\n",
    "        if 'xGFP' in col:\n",
    "            j[col] = R3[col]\n",
    "    j['sum'] = j.sum(axis=1)\n",
    "\n",
    "    # tiny script to calculate total ribosomes bound to mRNA\n",
    "    rbz_sum = 0\n",
    "    for col in j.columns[0:-1]:\n",
    "        if 'closed' in col:\n",
    "            c = int(col.split('_')[-1])\n",
    "            c+=1\n",
    "        else:\n",
    "            c = int(col.split('_')[-1])\n",
    "        rbz_sum += c * j[col].iloc[-1]\n",
    "\n",
    "    print('\\n')\n",
    "    print(f\"The ratio of protein to mRNA is {np.round(R3['protein_GFP'].iloc[-1]/j['sum'].iloc[-1])} protein per mRNA\")\n",
    "    print('\\n')\n",
    "    print(f\"The average mRNA occupancy is {np.round(rbz_sum/j['sum'].iloc[-1])} ribosomes per mRNA\")\n",
    "    print('\\n \\n')\n",
    "\n",
    "except ModuleNotFoundError:\n",
    "    pass"
   ]
  },
  {
   "cell_type": "markdown",
   "metadata": {},
   "source": [
    "GFP transcript count is very low as all of it is currently occupied in various RBZ-transcript complexes"
   ]
  },
  {
   "cell_type": "markdown",
   "metadata": {},
   "source": [
    "# Future Work"
   ]
  },
  {
   "cell_type": "markdown",
   "metadata": {},
   "source": [
    "- Want to do more rigorous validation of multi-tx mechanism. As part of that, I first plan on comparing RPU data of existing consitutive promoters and non-native polymerase expression systems e.g. T5 with what the multi-tx model would predict. \n",
    "- Is there data out there that would help validate the predicted RNAp occupancy of genes from the multi-tx model (same story for multi-tl model)?\n",
    "- Eventually want to develop a multi-tx mechanism that can be used for TF-mediated transcription.\n",
    "- Start looking towards validating multi-tl model, currently plan on seeing what data and parameters I could scrape from existing resource e.g. BCD RBS binding rates from biocrnpyler. \n",
    "- Do some model comparison using bioscrape inference, where I generate parameters with RPU data model and fit parameters (vary known and unknown parameters) from the MTX model. Definitely very interesting for deriving isomerization rates as that seems hard to come by in literature and seems to be a key part of the model in determining system behaviour (Pre-SS and SS dynamics)."
   ]
  },
  {
   "cell_type": "markdown",
   "metadata": {},
   "source": [
    "# Mentioned Papers and Parameter Resources"
   ]
  },
  {
   "cell_type": "markdown",
   "metadata": {},
   "source": [
    "T7 parameters:\n",
    "- Promoter Binding and Unbinding: Jia, Y., Kumar, A., & Patel, S. S. (1996). Equilibrium and Stopped-flow Kinetic Studies of Interaction between T7 RNA Polymerase and Its Promoters Measured by Protein and 2-Aminopurine Fluorescence Changes. Journal of Biological Chemistry , 271(48), 30451–30458. https://doi.org/10.1074/jbc.271.48.30451 \n",
    "- Isomerization Rate: Skinner, G. M., Baumann, C. G., Quinn, D. M., Molloy, J. E., & Hoggett, J. G. (2004). Promoter Binding, Initiation, and Elongation By Bacteriophage T7 RNA Polymerase: A SINGLE-MOLECULE VIEW OF THE TRANSCRIPTION CYCLE . Journal of Biological Chemistry , 279(5), 3239–3244. https://doi.org/10.1074/jbc.M310471200 \n",
    "- Translation Rate (T7p is VERY fast): Kochetkov, S. N., Rusakova, E. E., & Tunitskaya, V. L. (1998). Recent studies of T7 RNA polymerase mechanism. FEBS Letters, 440(3), 264–267. https://doi.org/https://doi.org/10.1016/S0014-5793(98)01484-7\n",
    "   \n",
    "Translation Parameters:\n",
    "- RBS Binding and Unbinding: Chandra, F., & Del Vecchio, D. (2016). The Effects of Ribosome Autocatalysis and Negative Feedback in Resource Competition. bioRxiv. https://doi.org/10.1101/042127\n",
    "- Isomerization Rate: Draper, D. E. (1993). Mechanisms of Translational Initiation and Repression in Prokaryotes BT  - The Translational Apparatus: Structure, Function, Regulation, Evolution. In K. H. Nierhaus, F. Franceschi, A. R. Subramanian, V. A. Erdmann, & B. Wittmann-Liebold (Eds.) (pp. 197–207). Boston, MA: Springer US. https://doi.org/10.1007/978-1-4615-2407-6_19\n",
    "\n",
    "Misc:\n",
    "- mRNA Degredation: Roy, B., & Jacobson, A. (2013). The intimate relationships of mRNA decay and translation. Trends in Genetics : TIG, 29(12), 691–699. https://doi.org/10.1016/j.tig.2013.09.002\n",
    "- RPU Data: Nielsen, A. A. K., Der, B. S., Shin, J., Vaidyanathan, P., Paralanov, V., Strychalski, E. A., … Voigt, C. A. (2016). Genetic circuit design automation. Science, 352(6281), aac7341. https://doi.org/10.1126/science.aac7341 and Qi, L., Haurwitz, R. E., Shao, W., Doudna, J. A., & Arkin, A. P. (2012). RNA processing enables predictable programming of gene expression. Nature Biotechnology, 30(10), 1002–1006. https://doi.org/10.1038/nbt.2355\n",
    "- Protein:mRNA ratios: Taniguchi, Y., Choi, P. J., Li, G.-W., Chen, H., Babu, M., Hearn, J., … Xie, X. S. (2010). Quantifying E. coli Proteome and Transcriptome with Single-Molecule Sensitivity in Single Cells. Science, 329(5991), 533 LP – 538. https://doi.org/10.1126/science.1188308\n",
    "    "
   ]
  }
 ],
 "metadata": {
  "kernelspec": {
   "display_name": "Python 3",
   "language": "python",
   "name": "python3"
  },
  "language_info": {
   "codemirror_mode": {
    "name": "ipython",
    "version": 3
   },
   "file_extension": ".py",
   "mimetype": "text/x-python",
   "name": "python",
   "nbconvert_exporter": "python",
   "pygments_lexer": "ipython3",
   "version": "3.7.6"
  }
 },
 "nbformat": 4,
 "nbformat_minor": 4
}
