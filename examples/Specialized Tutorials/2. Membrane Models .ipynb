{
 "cells": [
  {
   "cell_type": "markdown",
   "metadata": {},
   "source": [
    "# IPTG transport membrane model using BioCRNpyler\n",
    "\n",
    "Consider the following membrane model CRN:\n",
    "\n",
    "1. IPTG_external + transport_protein $\\leftrightarrow$ IPTG_transport_protein \n",
    "1. IPTG_transport_protein $\\leftrightarrow$ IPTG_internal\n",
    "\n",
    "To create this model, we need two species IPTG (one in the external compartment and one in internal). Then, we need to create the appropriate reactions to create a CRN model for this membrane."
   ]
  },
  {
   "cell_type": "code",
   "execution_count": 10,
   "metadata": {},
   "outputs": [
    {
     "name": "stdout",
     "output_type": "stream",
     "text": [
      "\n",
      "Directly printing a CRN shows the string representation of the species used in BioCRNpyler:\n",
      "Species = IPTG_internal, IPTG_external, protein_transport_X_internal, IPTG_X_complex_internal\n",
      "Reactions = [\n",
      "\tIPTG+protein[transport_X] <--> IPTG_X_complex\n",
      "\tIPTG_X_complex <--> IPTG+protein[transport_X]\n",
      "]\n",
      "\n",
      "CRN.pretty_print(...) is a function that prints a more customizable version of the CRN, but doesn't show the proper string representation of species.\n",
      "Species(N = 4) = {\n",
      "protein[transport_X] (@ 0),  IPTG_X_complex (@ 0),  IPTG (@ 0),  IPTG (@ 0),  \n",
      "}\n",
      "\n",
      "Reactions (2) = [\n",
      "0. IPTG+protein[transport_X] <--> IPTG_X_complex\n",
      " Kf=k_forward * IPTG_internal * protein_transport_X_internal\n",
      " Kr=k_reverse * IPTG_X_complex_internal\n",
      "  k_forward=0.01\n",
      "  k_reverse=0.2\n",
      "\n",
      "1. IPTG_X_complex <--> IPTG+protein[transport_X]\n",
      " Kf=k_forward * IPTG_X_complex_internal\n",
      " Kr=k_reverse * IPTG_external * protein_transport_X_internal\n",
      "  k_forward=0.1\n",
      "  k_reverse=0.01\n",
      "\n",
      "]\n"
     ]
    },
    {
     "data": {
      "text/plain": [
       "True"
      ]
     },
     "execution_count": 10,
     "metadata": {},
     "output_type": "execute_result"
    }
   ],
   "source": [
    "from biocrnpyler import *\n",
    "\n",
    "# Create two compartments:\n",
    "external = Compartment(\"external\", size = 4e6, unit = \"nanolitre\")\n",
    "internal = Compartment(\"internal\", size = 1e-6, unit = \"litre\")\n",
    "\n",
    "IPTG_int = Species(\"IPTG\", compartment = internal)\n",
    "IPTG_ext = Species(\"IPTG\", compartment = external)\n",
    "\n",
    "transport_protein_X = Species(\"transport_X\", compartment = internal, material_type = \"protein\")\n",
    "IPTG_X_complex = Species(\"IPTG_X_complex\", compartment = internal)\n",
    "\n",
    "kb = 0.01 #binding rate\n",
    "kd = 0.2 #unbindind rate\n",
    "R1 = Reaction.from_massaction([IPTG_int, transport_protein_X], [IPTG_X_complex], k_forward = kb, k_reverse = kd)\n",
    "\n",
    "k_tr = 0.1 #transport (out) rate\n",
    "\n",
    "R2 = Reaction.from_massaction([IPTG_X_complex], [IPTG_ext, transport_protein_X], k_forward = k_tr, k_reverse = kb)\n",
    "\n",
    "\n",
    "#Make a CRN\n",
    "CRN = ChemicalReactionNetwork(species = [IPTG_int, IPTG_ext, transport_protein_X, IPTG_X_complex], \n",
    "                              reactions = [R1, R2])\n",
    "\n",
    "#CRNs can be printed in two different ways\n",
    "print(\"\\nDirectly printing a CRN shows the string representation of the species used in BioCRNpyler:\")\n",
    "print(CRN)\n",
    "\n",
    "print(\"\\nCRN.pretty_print(...) is a function that prints a more customizable version of the CRN, but doesn't show the proper string representation of species.\")\n",
    "print(CRN.pretty_print(show_materials = True, show_rates = True, show_attributes = True, show_compartments = True))\n",
    "\n",
    "CRN.write_sbml_file('IPTG_membrane.xml')"
   ]
  },
  {
   "cell_type": "markdown",
   "metadata": {},
   "source": [
    "## Quickly create species inside different compartments with BioCRNpyler:"
   ]
  },
  {
   "cell_type": "code",
   "execution_count": 9,
   "metadata": {},
   "outputs": [
    {
     "name": "stdout",
     "output_type": "stream",
     "text": [
      "IPTG_internal\n",
      "internal\n"
     ]
    }
   ],
   "source": [
    "S1 = Species(\"IPTG\", compartment = \"internal\")\n",
    "print(S1)\n",
    "print(S1.compartment.name)"
   ]
  },
  {
   "cell_type": "code",
   "execution_count": null,
   "metadata": {},
   "outputs": [],
   "source": []
  }
 ],
 "metadata": {
  "kernelspec": {
   "display_name": "Python 3",
   "language": "python",
   "name": "python3"
  },
  "language_info": {
   "codemirror_mode": {
    "name": "ipython",
    "version": 3
   },
   "file_extension": ".py",
   "mimetype": "text/x-python",
   "name": "python",
   "nbconvert_exporter": "python",
   "pygments_lexer": "ipython3",
   "version": "3.7.4"
  }
 },
 "nbformat": 4,
 "nbformat_minor": 2
}
