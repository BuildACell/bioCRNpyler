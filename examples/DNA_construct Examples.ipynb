{
 "cells": [
  {
   "cell_type": "markdown",
   "metadata": {},
   "source": [
    "# DNA_construct Introduction\n",
    "DNA_construct is a flexible way to indicate a DNA sequence.\n",
    "\n",
    "A DNA sequence is composed of a string of nucleotides. The sequence of these nucleotides can allow binding of other biomolecules such as proteins or RNA. We choose to annotate known binding interactions and other features of DNA sequences by considering them to be \"DNA parts\". a \"part\" has a certain function, and the order and orientation of parts on a dna sequence describes the overall function of that DNA sequence.\n",
    "\n",
    "For example, a `Promoter` is a part which binds to RNA polymerase and causes everything downstream to be transcribed into RNA. A `Terminator`, then, is a sequence which stops the transcription of DNA into RNA. Therefore, anything between a `Promoter` and a `Terminator` gets turned into RNA.\n",
    "\n",
    "Other parts such as a Ribosome Binding Site or `RBS`, binds to the ribosome, but only if it is made of RNA and not DNA. Thus, an `RBS` is _like_ a `Promoter`, but instead of RNA it makes Protein. As always the position and orientation of parts determines what those parts actually do. If your sequence contains a Coding Sequence (`CDS`) _before_ an `RBS`, then the ribosome actually cannot translate that protein. Likewise if your `RBS` is after a `Terminator`, that `RBS` never gets turned into RNA.\n",
    "\n",
    "This type of logic is incorporated into `DNA_construct`."
   ]
  },
  {
   "cell_type": "markdown",
   "metadata": {},
   "source": [
    "The basic workflow is to first define a list of parts, then string them together into a `DNA_construct`"
   ]
  },
  {
   "cell_type": "code",
   "execution_count": 1,
   "metadata": {
    "tags": []
   },
   "outputs": [
    {
     "name": "stdout",
     "output_type": "stream",
     "text": [
      "imports done!\n",
      "TxEnumerator returning, [RNA_construct = UTR1_GFP_t16]\n",
      "\n",
      "[ptet_0, RNA_construct = UTR1_GFP_t16]\n",
      "\n",
      "CRN species\n",
      "dna[dna[ptet-forward]:dna[UTR1-forward]:dna[GFP-forward]:dna[t16-forward]]\n",
      "\n",
      "CRN reactions\n",
      "\n"
     ]
    }
   ],
   "source": [
    "from biocrnpyler import *\n",
    "try:\n",
    "    #dnaplotlib is a cool library for plotting DNAs.\n",
    "    #please use my fork located at https://github.com/dr3y/dnaplotlib\n",
    "    #to install it type: pip install git+git://github.com/dr3y/dnaplotlib.git@master\n",
    "    import dnaplotlib as dpl\n",
    "    %matplotlib inline\n",
    "    dpl_enabled = True\n",
    "except (ModuleNotFoundError,ImportError) as e:\n",
    "    dpl_enabled = False\n",
    "print(\"imports done!\")\n",
    "\n",
    "def plotNetwork(inCRN,use_pretty_print=True,colordict = None,iterations=2000,rseed=30,posscale=1,export=False):\n",
    "    try:\n",
    "        from bokeh.models import (Plot , Range1d)\n",
    "\n",
    "        import bokeh.plotting\n",
    "        import bokeh.io\n",
    "        bokeh.io.output_notebook() #this makes the graph appear in line with the notebook\n",
    "        if(colordict is None):\n",
    "            colordict={\"complex\":\"cyan\",\"protein\":\"green\",\n",
    "                        \"GFP\":\"lightgreen\",\n",
    "                        \"RFP\":\"red\",\n",
    "                        \"ribosome\":\"blue\",\n",
    "                        \"dna\":\"white\",\"rna\":\"orange\",\n",
    "                        \"ligand\":\"pink\",\"phosphate\":\"yellow\",\"nothing\":\"purple\"}\n",
    "        layout_str = \"force\"\n",
    "        DG, DGspec, DGrxn = generate_networkx_graph(inCRN,use_pretty_print=use_pretty_print,colordict=colordict) #this creates the networkx objects\n",
    "        plot = Plot(plot_width=500, plot_height=500, x_range=Range1d(-500, 500), y_range=Range1d(-500, 500)) #this generates a \n",
    "        if(export):\n",
    "            plot.output_backend = \"svg\"\n",
    "        graphPlot(DG,DGspec,DGrxn,plot,layout=layout_str,posscale=posscale,iterations=iterations,rseed=rseed) #now you draw the network on the plot. Layout \"force\" is \n",
    "        bokeh.io.show(plot) #if you don't type this the plot won't show\n",
    "        if(export):\n",
    "            bokeh.io.export_svgs(plot, \"plot_file.svg\")\n",
    "            \n",
    "    except ModuleNotFoundError:\n",
    "        return None\n",
    "\n",
    "\n",
    "\n",
    "\n",
    "ptet = RegulatedPromoter(\"ptet\",[\"tetr\"],leak=True) #this is a repressible promoter\n",
    "pconst = Promoter(\"pconst\") #constitutive promoter\n",
    "utr1 = RBS(\"UTR1\") #regular RBS\n",
    "gfp = CDS(\"GFP\",\"GFP\")\n",
    "rfp = CDS(\"RFP\",\"RFP\")\n",
    "t16 = Terminator(\"t16\") #a terminator stops transcription\n",
    "\n",
    "\n",
    "#now that the parts are defined, we can put together our construct.\n",
    "parameters={\"cooperativity\":2,\"kb\":100, \"ku\":10, \"ktx\":.05, \"ktl\":.2, \"kdeg\":2,\"kint\":.05}\n",
    "\n",
    "construct_1 = DNA_construct([[ptet,\"forward\"],[utr1,\"forward\"],[gfp,\"forward\"],[t16,\"forward\"]],\\\n",
    "                                mechanisms = {\"transcription\":Transcription_MM(Species(\"RNAP\",material_type=\"protein\")),\\\n",
    "                                    \"translation\":Translation_MM(Species(\"Ribosome\",material_type=\"protein\")),\\\n",
    "                                        \"binding\":One_Step_Cooperative_Binding()},parameters=parameters) \n",
    "''\n",
    "w = construct_1.enumerate_components()\n",
    "print()\n",
    "print(w)\n",
    "\n",
    "x = construct_1.update_species()\n",
    "print()\n",
    "print(\"CRN species\")\n",
    "print('\\n'.join([a.pretty_print() for a in x]))\n",
    "\n",
    "y = construct_1.update_reactions()\n",
    "print()\n",
    "print(\"CRN reactions\")\n",
    "print('\\n'.join([a.pretty_print() for a in y]))\n",
    "#'''\n"
   ]
  },
  {
   "cell_type": "code",
   "execution_count": null,
   "metadata": {
    "scrolled": true,
    "tags": []
   },
   "outputs": [
    {
     "name": "stdout",
     "output_type": "stream",
     "text": [
      "imports done!\n"
     ]
    },
    {
     "data": {
      "image/png": "[encoded data removed]",
      "text/plain": [
       "<Figure size 216x79.2 with 1 Axes>"
      ]
     },
     "metadata": {
      "needs_background": "light"
     },
     "output_type": "display_data"
    },
    {
     "name": "stdout",
     "output_type": "stream",
     "text": [
      "TxEnumerator returning, [RNA_construct = UTR1_GFP_t16, RNA_construct = GFP_t16]\n"
     ]
    },
    {
     "data": {
      "image/png": "[encoded data removed]",
      "text/plain": [
       "<Figure size 162x79.2 with 1 Axes>"
      ]
     },
     "metadata": {
      "needs_background": "light"
     },
     "output_type": "display_data"
    },
    {
     "data": {
      "image/png": "[encoded data removed]",
      "text/plain": [
       "<Figure size 108x79.2 with 1 Axes>"
      ]
     },
     "metadata": {
      "needs_background": "light"
     },
     "output_type": "display_data"
    },
    {
     "data": {
      "image/png": "[encoded data removed]",
      "text/plain": [
       "<Figure size 162x79.2 with 1 Axes>"
      ]
     },
     "metadata": {
      "needs_background": "light"
     },
     "output_type": "display_data"
    },
    {
     "name": "stdout",
     "output_type": "stream",
     "text": [
      "TxEnumerator returning, [RNA_construct = UTR1_GFP_t16, RNA_construct = GFP_t16, RNA_construct = RFP_t16]\n"
     ]
    },
    {
     "data": {
      "image/png": "[encoded data removed]",
      "text/plain": [
       "<Figure size 162x79.2 with 1 Axes>"
      ]
     },
     "metadata": {
      "needs_background": "light"
     },
     "output_type": "display_data"
    },
    {
     "data": {
      "image/png": "[encoded data removed]",
      "text/plain": [
       "<Figure size 108x79.2 with 1 Axes>"
      ]
     },
     "metadata": {
      "needs_background": "light"
     },
     "output_type": "display_data"
    },
    {
     "data": {
      "image/png": "[encoded data removed]",
      "text/plain": [
       "<Figure size 108x79.2 with 1 Axes>"
      ]
     },
     "metadata": {
      "needs_background": "light"
     },
     "output_type": "display_data"
    },
    {
     "name": "stdout",
     "output_type": "stream",
     "text": [
      "ptet_GFP_t16\n",
      "t16_r_RFP_r_pconst_r\n",
      "recursion 0\n",
      "comps to enumerate 5 [DNA_construct = ptet_GFP_t16, DNA_construct = t16_r_RFP_r_pconst_r, Protein: RNAP, Protein: Ribo, Protein: RNAase]\n",
      "TxEnumerator returning, [RNA_construct = UTR1_GFP_t16, RNA_construct = GFP_t16, RNA_construct = RFP_t16]\n",
      "enumerating DNA_construct = ptet_GFP_t16 [ptet_0, RNA_construct = UTR1_GFP_t16, RNA_construct = GFP_t16, RNA_construct = RFP_t16]\n",
      "TxEnumerator returning, [RNA_construct = UTR1_GFP_t16, RNA_construct = GFP_t16, RNA_construct = RFP_t16]\n",
      "TxEnumerator returning, [RNA_construct = UTR1_GFP_t16, RNA_construct = GFP_t16, RNA_construct = RFP_t16]\n",
      "enumerating DNA_construct = t16_r_RFP_r_pconst_r [pconst_2_r, RNA_construct = UTR1_GFP_t16, RNA_construct = GFP_t16, RNA_construct = RFP_t16]\n",
      "TxEnumerator returning, [RNA_construct = UTR1_GFP_t16, RNA_construct = GFP_t16, RNA_construct = RFP_t16]\n",
      "enumerating Protein: RNAP []\n",
      "enumerating Protein: Ribo []\n",
      "enumerating Protein: RNAase []\n",
      "recursion 1\n",
      "comps to enumerate 8 [ptet_0, RNA_construct = UTR1_GFP_t16, RNA_construct = GFP_t16, RNA_construct = RFP_t16, pconst_2_r, RNA_construct = UTR1_GFP_t16, RNA_construct = GFP_t16, RNA_construct = RFP_t16]\n",
      "enumerating ptet_0 []\n",
      "enumerating RNA_construct = UTR1_GFP_t16 [UTR1_0, GFP_1]\n",
      "enumerating RNA_construct = GFP_t16 []\n",
      "enumerating RNA_construct = RFP_t16 []\n",
      "enumerating pconst_2_r []\n",
      "enumerating RNA_construct = UTR1_GFP_t16 [UTR1_0, GFP_1]\n",
      "enumerating RNA_construct = GFP_t16 []\n",
      "enumerating RNA_construct = RFP_t16 []\n",
      "enumerating UTR1_0 []\n",
      "enumerating GFP_1 []\n",
      "enumerating UTR1_0 []\n",
      "enumerating GFP_1 []\n",
      "recursion 2\n",
      "comps to enumerate 12 [ptet_0, RNA_construct = UTR1_GFP_t16, RNA_construct = GFP_t16, RNA_construct = RFP_t16, pconst_2_r, RNA_construct = UTR1_GFP_t16, RNA_construct = GFP_t16, RNA_construct = RFP_t16, UTR1_0, GFP_1, UTR1_0, GFP_1]\n",
      "enumerating ptet_0 []\n",
      "enumerating RNA_construct = UTR1_GFP_t16 [UTR1_0, GFP_1]\n"
     ]
    }
   ],
   "source": [
    "from biocrnpyler import *\n",
    "try:\n",
    "    #dnaplotlib is a cool library for plotting DNAs.\n",
    "    #please use my fork located at https://github.com/dr3y/dnaplotlib\n",
    "    #to install it type: pip install git+git://github.com/dr3y/dnaplotlib.git@master\n",
    "    import dnaplotlib as dpl\n",
    "    dpl_enabled = True\n",
    "except (ModuleNotFoundError,ImportError) as e:\n",
    "    dpl_enabled = False\n",
    "\n",
    "print(\"imports done!\")\n",
    "\n",
    "#part definitions below\n",
    "\n",
    "ptet = RegulatedPromoter(\"ptet\",[\"tetr\"],leak=True) #this is a repressible promoter\n",
    "pconst = Promoter(\"pconst\") #constitutive promoter\n",
    "pcomb = CombinatorialPromoter(\"pcomb\",[\"arac\",\"laci\"], leak=False,\n",
    "                              tx_capable_list = [[\"arac\"], [\"laci\"]]) #the Combinations A and B or just A or just B be transcribed\n",
    "utr1 = RBS(\"UTR1\") #regular RBS\n",
    "utr2 = RBS(\"UTR1\") #regular RBS\n",
    "gfp = CDS(\"GFP\",\"GFP\") #a CDS has a name and a protein name. so this one is called GFP and the protein is also called GFP\n",
    "fusrfp = CDS(\"fusRFP\",\"RFP\",no_stop_codons=[\"forward\"]) #you can say that a protein has no stop codon. This is a little different from a fusion protein, because in this case you are saying that the ribosome reads through two proteins but still produces two distinct proteins, rather than one fused protein. This can happen in the case of the ta peptide which causes a peptide bond not to be formed while making a protein.\n",
    "rfp = CDS(\"RFP\",\"RFP\") #regular RFP\n",
    "cfp = CDS(\"CFP\",\"CFP\") #cfp\n",
    "t16 = Terminator(\"t16\") #a terminator stops transcription\n",
    "\n",
    "\n",
    "#now that the parts are defined, we can put together our construct.\n",
    "#construct_1 = DNA_construct([[ptet,\"forward\"],[utr1,\"forward\"],[gfp,\"forward\"],[t16,\"forward\"]])\n",
    "#construct_2 = DNA_construct([[t16,\"reverse\"],[rfp,\"reverse\"],[utr2,\"reverse\"],[pconst,\"reverse\"]])\n",
    "\n",
    "construct_1 = DNA_construct([[ptet,\"forward\"],[gfp,\"forward\"],[t16,\"forward\"]])\n",
    "construct_2 = DNA_construct([[t16,\"reverse\"],[rfp,\"reverse\"],[pconst,\"reverse\"]])\n",
    "\n",
    "#now, we are using dnaplotlib to plot the constructs\n",
    "\n",
    "\n",
    "if(dpl_enabled):\n",
    "    plotConstruct(construct_1,debug=False,plot_rnas=True)\n",
    "    plotConstruct(construct_2,debug=False,plot_rnas=True)\n",
    "    print(construct_1.show())\n",
    "    print(construct_2.show())\n",
    "\n",
    "#some very basic parameters are defined\n",
    "parameters={\"cooperativity\":2,\"kb\":100, \"ku\":10, \"ktx\":.05, \"ktl\":.2, \"kdeg\":2,\"kint\":.05}\n",
    "\n",
    "components = [construct_1,construct_2]\n",
    "myMixture = TxTlExtract(name = \"txtl\", parameters = parameters, components = components)\n",
    "myCRN = myMixture.compile_crn()\n",
    "\n"
   ]
  },
  {
   "cell_type": "markdown",
   "metadata": {},
   "source": [
    "You can see that for the first construct, your DNA is given an automatic name: `ptet_f_UTR1_f_GFP_f_t16_f`. \n",
    "\n",
    "The RNA made from your DNA is also given an automatic name: `UTR1_f_GFP_f_t16_f`\n",
    "\n",
    "Likewise for the second construct, which I've made in reverse to make the difference more apparent. Though you'll see that the RNA from the second construct is still produced in the right orientation, so the RNA is shown in the forwards direction.\n",
    "\n",
    "This is because DNA and RNA are now represented as an OrderedPolymer. Each member of the OrderedPolymer represents a part. So, in the case of promoters or RBSes, you'll see ribosomes and polymerases bind directly to the part inside the OrderedPolymer."
   ]
  },
  {
   "cell_type": "code",
   "execution_count": null,
   "metadata": {
    "tags": []
   },
   "outputs": [],
   "source": [
    "#here we are plotting the network diagram and simulating the system with some basic parameters\n",
    "\n",
    "plotNetwork(myCRN)\n",
    "try:\n",
    "    import numpy as np\n",
    "    import matplotlib.pyplot as plt\n",
    "    timepoints = np.linspace(0, 200, 1000)\n",
    "    x0 = {construct_1.get_species():5.0,\n",
    "        construct_2.get_species():2.0, \"protein_RNAP\":10., \"protein_Ribo\":50.}\n",
    "    Re1 = myCRN.simulate_with_bioscrape_via_sbml(timepoints, initial_condition_dict = x0)\n",
    "    if(Re1 is not None):\n",
    "        plt.plot(timepoints,Re1[\"protein_GFP\"], label = \"protein_GFP\")\n",
    "        plt.plot(timepoints,Re1[\"protein_RFP\"], label = \"protein_RFP\")\n",
    "        plt.title(\"Time trace of two DNA system\")\n",
    "        plt.xlabel(\"time\")\n",
    "        plt.ylabel(\"protein\")\n",
    "        plt.legend()\n",
    "except ModuleNotFoundError:\n",
    "    print('please install the plotting libraries: pip install biocrnpyler[all]')\n",
    "\n",
    "\n"
   ]
  },
  {
   "cell_type": "markdown",
   "metadata": {},
   "source": [
    "That seems pretty straightforward but now let's see what happens if we put both on the same piece of DNA:\n",
    "\n"
   ]
  },
  {
   "cell_type": "code",
   "execution_count": null,
   "metadata": {
    "tags": []
   },
   "outputs": [],
   "source": [
    "construct_3 = DNA_construct([[ptet,\"forward\"],[utr1,\"forward\"],[gfp,\"forward\"],[t16,\"forward\"],[t16,\"reverse\"],[rfp,\"reverse\"],[utr1,\"reverse\"],[pconst,\"reverse\"]])\n",
    "#now, we are using dnaplotlib to plot the constructs\n",
    "\n",
    "if(dpl_enabled):\n",
    "    plotConstruct(construct_3,debug=False,plot_rnas=True)\n",
    "    print(construct_3.show())\n",
    "\n",
    "#some very basic parameters are defined\n",
    "parameters={\"cooperativity\":2,\"kb\":100, \"ku\":10, \"ktx\":.05, \"ktl\":.2, \"kdeg\":2,\"kint\":.05}\n",
    "\n",
    "components = [construct_3]\n",
    "myMixture = TxTlExtract(name = \"txtl\", parameters = parameters, components = components)\n",
    "myCRN = myMixture.compile_crn()\n",
    "''\n",
    "try:\n",
    "    import numpy as np\n",
    "    import matplotlib.pyplot as plt\n",
    "    timepoints = np.linspace(0, 200, 1000)\n",
    "    x0 = {construct_3.get_species():5.0, \"protein_GFP\":20,\"protein_RNAP\":10., \"protein_Ribo\":50.,\"protein_arac\":20}\n",
    "    #I started the GFP at a slightly elevated value so you can see the two lines on top of each other in the graph\n",
    "    Re1 = myCRN.simulate_with_bioscrape_via_sbml(timepoints, initial_condition_dict = x0)\n",
    "    if(Re1 is not None):\n",
    "        plt.plot(timepoints,Re1[\"protein_GFP\"], label = \"protein_GFP\")\n",
    "        plt.plot(timepoints,Re1[\"protein_RFP\"], label = \"protein_RFP\")\n",
    "        #plt.plot(timepoints,Re1[\"rna_mydna\"], label = \"rna_mydna\")\n",
    "        #plt.gca().set_yscale(\"log\")\n",
    "        plt.title(\"Time trace of single DNA system\")\n",
    "        plt.xlabel(\"time\")\n",
    "        plt.ylabel(\"protein\")\n",
    "        plt.legend()\n",
    "        \n",
    "except ModuleNotFoundError:\n",
    "    print('please install the plotting libraries: pip install biocrnpyler[all]')\n",
    "#'''"
   ]
  },
  {
   "cell_type": "markdown",
   "metadata": {},
   "source": [
    "The same RNAs and proteins are made, but the network diagram should be a bit more complicated, owing to the combinatorial binding to the DNA molecule"
   ]
  },
  {
   "cell_type": "code",
   "execution_count": null,
   "metadata": {
    "tags": []
   },
   "outputs": [],
   "source": [
    "plotNetwork(myCRN)\n"
   ]
  },
  {
   "cell_type": "markdown",
   "metadata": {},
   "source": [
    "Now you can see that many more arrows lead to each RNA. But there is still only one promoter per RNA, how can it be? Well, now that both promoters and transcripts are on the same DNA, we must take into account the fact that you can have both promoters with RNA polymerase bound, so for example Promoter1 can lead to RNA1 whether or not Promoter2 is bound by RNAP.\n",
    "\n",
    "We can even make a more complicated DNA construct, such as what happens before and after a promoter is \"flipped\" by integrase activity"
   ]
  },
  {
   "cell_type": "code",
   "execution_count": null,
   "metadata": {
    "tags": []
   },
   "outputs": [],
   "source": [
    "attB = AttachmentSite(\"attB\",\"attB\",integrase=\"Bxb1\")\n",
    "attP = AttachmentSite(\"attP\",\"attP\",integrase=\"Bxb1\")\n",
    "attL = AttachmentSite(\"attL\",\"attL\",integrase=\"Bxb1\")\n",
    "attR = AttachmentSite(\"attR\",\"attR\",integrase=\"Bxb1\")\n",
    "\n",
    "\n",
    "construct_1 = DNA_construct([[t16,\"reverse\"],[rfp,\"reverse\"],[utr1,\"reverse\"],[attP,\"forward\"],[pconst,\"forward\"],[attB,\"reverse\"],[utr1,\"forward\"],[gfp,\"forward\"],[t16,\"forward\"]])\n",
    "construct_2 = DNA_construct([[t16,\"reverse\"],[rfp,\"reverse\"],[utr1,\"reverse\"],[attR,\"forward\"],[pconst,\"reverse\"],[attL,\"reverse\"],[utr1,\"forward\"],[gfp,\"forward\"],[t16,\"forward\"]])\n",
    "#now, we are using dnaplotlib to plot the constructs\n",
    "\n",
    "if(dpl_enabled):\n",
    "    plotConstruct(construct_1,debug=False,plot_rnas=True)\n",
    "    plotConstruct(construct_2,debug=False,plot_rnas=True)\n",
    "    plotConstruct(construct_1,debug=False,plot_rnas=True,plot_dna_test=False)\n",
    "    plotConstruct(construct_2,debug=False,plot_rnas=True,plot_dna_test=False)\n",
    "\n",
    "#some very basic parameters are defined\n",
    "parameters={\"cooperativity\":2,\"kb\":100, \"ku\":10, \"ktx\":.05, \"ktl\":.2, \"kdeg\":2,\"kint\":.05}\n",
    "\n",
    "components = [construct_1,construct_2]\n",
    "myMixture = TxTlExtract(name = \"txtl\", parameters = parameters, components = components)\n",
    "myCRN = myMixture.compile_crn()\n",
    "print(\"done\")"
   ]
  },
  {
   "cell_type": "markdown",
   "metadata": {},
   "source": [
    "And we can see that this construct 'knows' that a forward facing promoter will not produce RNAs that face the reverse direction."
   ]
  },
  {
   "cell_type": "code",
   "execution_count": null,
   "metadata": {
    "tags": []
   },
   "outputs": [],
   "source": [
    "\n",
    "\n",
    "plotNetwork(myCRN)"
   ]
  },
  {
   "cell_type": "markdown",
   "metadata": {},
   "source": []
  },
  {
   "cell_type": "markdown",
   "metadata": {},
   "source": [
    "# Overview for developers\n",
    "Several key additions had to be made to biocrnpyler to make this possible. \n",
    "\n",
    "1. `Complex()` is a new function that you should use every time you want to make a ComplexSpecies. It should do exactly the same thing as the ComplexSpecies constructor, unless one of the species that you gave it is an OrderedComplexSpecies that has a 'bindloc' attribute, then instead of making a ComplexSpecies the function will make an OrderedComplexSpecies that is correctly formed.\n",
    "\n",
    "2. `OrderedPolymer` `OrderedMonomer` and `OrderedPolymerSpecies` are new data members that represent sequences of parts. A piece of DNA with many binding sites is represented as an OrderedPolymerSpecies. Because mechanisms and Components are agnostic of binding location; that is to say, they usually have code that looks like this: `make_complex([dna,protein])`, we must give them some way of knowing _where_ on that `dna` the `protein` should end up. To do this, you must pass an `OrderedMonomer` into a `Component` which belongs to an `OrderedPolymer`. Through the use of the `Complex()` function, the proper complex will be made, to the correct member of the `OrderedPolymer` which the `OrderedMonomer` belongs to.\n",
    "\n",
    "3. `DNA_part` inherits from `Component`, and every dna part such as `Promoter` now inherits from `DNA_part` instead of `Component`. This allows the storage of things like position, direction, and parent construct inside anything that used to be a `Component`\n",
    "\n",
    "4. `CDS` is a `DNA_part` which gives rise to a `Species`. It felt weird to put `Protein` objects into a DNA sequence so I created this. It only makes the protein if it is read in the 'forward' direction.\n",
    "\n",
    "4. `DNA_construct` contains a list of `DNA_part`s together with their directions. `DNA_construct` also has `update_species()` and `update_reactions()` so that it can generate the necessary species and reactions if it will be part of a CRN. Likewise, `RNA_construct` does the same thing for RNA. A `DNA_construct` can give rise to many `RNA_construct`s when it compiles. This is done through the action of `explore_txtl()`\n",
    "\n",
    "5. `explore_txtl()` is a function of `DNA_construct` which figures out the RNA and Proteins that a DNA produces. It works basically by going along a DNA part by part, remembering which parts came before, and taking into account the directions of parts. In general it will traverse a `DNA_construct` in the \"forward\" and \"reverse\" directions. It is hard coded to know that `RBS` parts make proteins and `Promoter` parts make RNAs, but only when their orientation is \"forward\" relative to the direction it's currently looking at. Other things are taken account too, for example, an `RBS` can only make a `Protein` if it is part of an RNA. Most of this logic is encapsulated in an object called `TxTl_explorer`.\n",
    "\n",
    "6. `update_components()` is a function of `DNA_construct` which creates many copies of the `DNA_part`s which make up the `DNA_construct`. This is necessary for making all combinatorial complexes. First, every `DNA_part` is fed in an `OrderedComplexSpecies` corresponding to the unbound DNA, which has the appropriate \"bindloc_\". Then, the `Species` produced by `update_species()` each have complexes in only one location. All possible combinations of bound species are then generated from this set of `OrderedComplexSpecies`. Then, these combinatorial complexes are fed _back_ into the `DNA_part`s, generating a new `DNA_part` that is responsible for generating species and reactions that include that combinatorial complex. For example, if you have  `DNA_construct` containing a `Promoter` and an `AttachmentSite`, then `update_components()` should generate two `Promoter` parts, one that has the unbound `OrderedComplexSpecies` and one that has an `OrderedComplexSpecies` that has integrases bound to it. Then, these new `Component`s can be used to make species and reactions using their respective `update_species()` and `update_reactions()`\n"
   ]
  },
  {
   "cell_type": "code",
   "execution_count": null,
   "metadata": {
    "tags": []
   },
   "outputs": [],
   "source": [
    "#Another complex DNA_construct example, where both DNA and RNA can be bound combinatorially\n",
    "ptet.color=\"forestgreen\"\n",
    "utr1.color = \"tan\"\n",
    "t16.color=\"black\"\n",
    "gfp.color=\"green\"\n",
    "rfp.color=\"red\"\n",
    "polycis_construct = DNA_construct([[t16,\"reverse\"],[cfp,\"reverse\"],[utr1,\"reverse\"],[pconst,\"reverse\"],[ptet,\"forward\"],[utr1,\"forward\"],[gfp,\"forward\"],[utr1,\"forward\"],[rfp,\"forward\"],[t16,\"forward\"]],circular=True)\n",
    "if(dpl_enabled):\n",
    "    plotConstruct(polycis_construct,debug=False,plot_rnas=True,showlabels=[RegulatedPromoter,RBS,CDS,Terminator])\n",
    "\n",
    "\n",
    "#some very basic parameters are defined\n",
    "parameters={\"cooperativity\":2,\"kb\":100, \"ku\":10, \"ktx\":.05, \"ktl\":.2, \"kdeg\":2,\"kint\":.05,\"kdil\":.5}\n",
    "\n",
    "components = [polycis_construct]\n",
    "myMixture = TxTlDilutionMixture(name = \"txtl\", parameters = parameters, components = components)\n",
    "myCRN = myMixture.compile_crn()\n"
   ]
  },
  {
   "cell_type": "code",
   "execution_count": null,
   "metadata": {
    "tags": []
   },
   "outputs": [],
   "source": [
    "colordict={\"complex\":\"cyan\",\"protein\":\"green\",\n",
    "            \"GFP\":\"lightgreen\",\n",
    "            \"Ribo\":\"pink\",\n",
    "            \"RNAP\":\"skyblue\",\n",
    "            \"RFP\":\"red\",\n",
    "            \"CFP\":\"blue\",\n",
    "            \"ribosome\":\"blue\",\n",
    "            \"dna\":\"white\",\"rna\":\"orange\",\n",
    "            \"ligand\":\"pink\",\"phosphate\":\"yellow\",\"nothing\":\"purple\"}\n",
    "plotNetwork(myCRN,colordict=colordict,iterations=2000,rseed=11,posscale=.2,export=False)"
   ]
  }
 ],
 "metadata": {
  "kernelspec": {
   "display_name": "Python 3",
   "language": "python",
   "name": "python3"
  },
  "language_info": {
   "codemirror_mode": {
    "name": "ipython",
    "version": 3
   },
   "file_extension": ".py",
   "mimetype": "text/x-python",
   "name": "python",
   "nbconvert_exporter": "python",
   "pygments_lexer": "ipython3",
   "version": "3.7.4"
  }
 },
 "nbformat": 4,
 "nbformat_minor": 2
}
