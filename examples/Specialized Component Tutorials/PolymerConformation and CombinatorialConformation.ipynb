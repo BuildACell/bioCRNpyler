{
 "cells": [
  {
   "cell_type": "markdown",
   "metadata": {},
   "source": [
    "# PolymerConformation and CombinatorialConformation\n",
    "\n",
    "BioCRNpyler contains a number of specialized classes to represent conformations (secondary structures) of Polymers and the reactions involved in producing these conformations. This notebook provides an introduction to these features and examples of how to use them.\n",
    "\n",
    "__PolymerConformation__ is a Species that represents 1 or more OrderedPolymerSpecies with a set of complexes describing how these OrderedPolymerSpecies are in contact.\n",
    "\n",
    "__CombinatorialConformation__ is a Component which wraps around PolymerConformations (containing just a single Polymer) and enumerates binding and unbinding reactions in order to form different Conformations, similarly to the CombinatorialComplex Component.\n",
    "\n",
    "__CombinatorialConformationPromoter__ is a combination of CombinatorialConformation and a Promoter which can be used to represent the dynamic structure DNA in settings coupled to transcription."
   ]
  },
  {
   "cell_type": "markdown",
   "metadata": {},
   "source": [
    "# Example 1: PolymerConformations\n",
    "\n",
    "In this example, we will consider an OrderedPolymerSpecies AABC and build a PolymerConformation with two internal Complexes: AB and ACS. Here, S is an external species not part of the polymer. PolymerConformations easiest to build iteratively, one Complex at a time."
   ]
  },
  {
   "cell_type": "code",
   "execution_count": 1,
   "metadata": {},
   "outputs": [
    {
     "name": "stdout",
     "output_type": "stream",
     "text": [
      "pc is an emtpy PolymerConformation, which represents as an OrderedPolymerSpecies: ordered_polymer_A_A_B_C_\n",
      "pc contains no complexes: []\n",
      "pc contains one polymer: [ordered_polymer_A_A_B_C_]\n",
      "\n",
      "c1: complex_A_B_\n",
      "pc1: conformation__ordered_polymer_A_A_B_C__p0l0p0l2_complex_A_B__\n",
      "pc1 contains one complex: [complex_A_B_]\n",
      "pc1 contains one polymer: [ordered_polymer_A_A_B_C_]\n",
      "\n",
      "c2: complex_A_C_S_\n",
      "pc2: conformation__ordered_polymer_A_A_B_C__p0l0p0l2_complex_A_B__p0l1p0l3n_complex_A_C_S__\n",
      "pc2 contains two complexes: [complex_A_B_, complex_A_C_S_]\n",
      "pc2 contains one polymer: [ordered_polymer_A_A_B_C_]\n",
      "\n",
      "c3: complex_A_C_S_\n",
      "pc3 conformation__ordered_polymer_A_A_B_C__ordered_polymer_A_A_B_C__p0l0p0l2_complex_A_B__p0l1p1l3n_complex_A_C_S__\n",
      "pc3 contains two complexes: [complex_A_B_, complex_A_C_S_]\n",
      "pc3 contains two polymers: [ordered_polymer_A_A_B_C_, ordered_polymer_A_A_B_C_]\n"
     ]
    }
   ],
   "source": [
    "from biocrnpyler import OrderedPolymerSpecies, PolymerConformation, Complex, Species\n",
    "\n",
    "A, B, C, S = Species(\"A\"), Species(\"B\"), Species(\"C\"), Species(\"S\")\n",
    "\n",
    "#First Create an PolymerConformation wrapped around a single string of Monomers (e.g. a Polymer)\n",
    "#This PolymerConformation has no internal complexes\n",
    "pc = PolymerConformation(polymer = [A, A, B, C])\n",
    "print(\"pc is an emtpy PolymerConformation, which represents as an OrderedPolymerSpecies:\", pc)\n",
    "print(\"pc contains no complexes:\", pc.complexes)\n",
    "print(\"pc contains one polymer:\", pc.polymers)\n",
    "\n",
    "#Make a polymer conformation indirectly using the Complex function to join the monomers inside a Polymer\n",
    "c1 = Complex([pc.polymers[0][0], pc.polymers[0][2]]) #Form a Complex A:B\n",
    "print('\\nc1:', c1)\n",
    "pc1 = c1.parent #This complex has a parent which is a PolymerConformation\n",
    "print('pc1:', pc1)\n",
    "print(\"pc1 contains one complex:\", pc1.complexes)\n",
    "print(\"pc1 contains one polymer:\", pc1.polymers)\n",
    "\n",
    "#Next, take the polymer inside the new conformation and add a new contact which now includes an additional species S\n",
    "#Notice how pc1's internal polymer is used, this way the same polymer has two contacts\n",
    "c2 = Complex([pc1.polymers[0][1], pc1.polymers[0][3], S])\n",
    "print(\"\\nc2:\", c2)\n",
    "pc2 = c2.parent\n",
    "print(\"pc2:\", pc2)\n",
    "print(\"pc2 contains two complexes:\", pc2.complexes)\n",
    "print(\"pc2 contains one polymer:\", pc2.polymers)\n",
    "\n",
    "#Now we produce a complex between two different polymers\n",
    "#Notice that pc1 is used for one polymer and p is used for the other polymer.\n",
    "#This represents the binding of two seperate polymers\n",
    "c3 = Complex([pc1.polymers[0][1], pc.polymers[0][3], S])\n",
    "print(\"\\nc3:\", c3)\n",
    "pc3 = c3.parent\n",
    "print(\"pc3\", pc3)\n",
    "print(\"pc3 contains two complexes:\", pc3.complexes)\n",
    "print(\"pc3 contains two polymers:\", pc3.polymers)"
   ]
  },
  {
   "cell_type": "markdown",
   "metadata": {},
   "source": [
    "# Example 2: CombinatorialConformation\n",
    "\n",
    "CombinatorialConformation is a Component which produces species and reactions allowing for the binding and unbinding of complexes in a PolymerConformation with a single internal polymer. This component transforms a set of initial_states to a set of final_states via a set of intermediate_states. Abstractly, this can be written\n",
    "\n",
    "## Initial States $\\rightleftharpoons$ Intermediate States $\\rightleftharpoons$ Final States\n",
    "\n",
    "Here $\\rightleftharpoons$ denote combinatorial binding to form the different complexes in the PolymerConformation. All Excluded States found during enumeration are skipped. If no initial_states are given, the CombinatorialConformation defaults to the unbound Polymer inside the PolymerConformation in the Final States. If no intermediate states are given, initial states convert directly to final states.\n",
    "\n",
    "Note that parameters for transitions between states can be stored under particular IDs using the state_part_ids {species:id} keyword. If None, the str(s0)-str(sf) is the default part_id for a transition between s0 and sf.\n",
    "\n",
    "First, we consider a simple example to produce the PolymerConformation pc2 in the previous cell."
   ]
  },
  {
   "cell_type": "code",
   "execution_count": 2,
   "metadata": {},
   "outputs": [
    {
     "name": "stdout",
     "output_type": "stream",
     "text": [
      "geting combinations between ordered_polymer_A_A_B_C_ and conformation__ordered_polymer_A_A_B_C__p0l0p0l2_complex_A_B__p0l1p0l3n_complex_A_C_S__\n",
      "computing species changes between ordered_polymer_A_A_B_C_ and conformation__ordered_polymer_A_A_B_C__p0l0p0l2_complex_A_B__p0l1p0l3n_complex_A_C_S__\n"
     ]
    },
    {
     "ename": "UnboundLocalError",
     "evalue": "local variable 'c0' referenced before assignment",
     "output_type": "error",
     "traceback": [
      "\u001b[1;31m---------------------------------------------------------------------------\u001b[0m",
      "\u001b[1;31mUnboundLocalError\u001b[0m                         Traceback (most recent call last)",
      "\u001b[1;32m<ipython-input-2-55542843c6e6>\u001b[0m in \u001b[0;36m<module>\u001b[1;34m\u001b[0m\n\u001b[0;32m      6\u001b[0m \u001b[0mM\u001b[0m \u001b[1;33m=\u001b[0m \u001b[0mMixture\u001b[0m\u001b[1;33m(\u001b[0m\u001b[0mcomponents\u001b[0m \u001b[1;33m=\u001b[0m \u001b[1;33m[\u001b[0m\u001b[0mcc\u001b[0m\u001b[1;33m]\u001b[0m\u001b[1;33m,\u001b[0m \u001b[0mparameters\u001b[0m \u001b[1;33m=\u001b[0m \u001b[0mparams\u001b[0m\u001b[1;33m)\u001b[0m\u001b[1;33m\u001b[0m\u001b[1;33m\u001b[0m\u001b[0m\n\u001b[0;32m      7\u001b[0m \u001b[1;33m\u001b[0m\u001b[0m\n\u001b[1;32m----> 8\u001b[1;33m \u001b[0mCRN\u001b[0m \u001b[1;33m=\u001b[0m \u001b[0mM\u001b[0m\u001b[1;33m.\u001b[0m\u001b[0mcompile_crn\u001b[0m\u001b[1;33m(\u001b[0m\u001b[1;33m)\u001b[0m\u001b[1;33m\u001b[0m\u001b[1;33m\u001b[0m\u001b[0m\n\u001b[0m\u001b[0;32m      9\u001b[0m \u001b[1;33m\u001b[0m\u001b[0m\n\u001b[0;32m     10\u001b[0m \u001b[0mprint\u001b[0m\u001b[1;33m(\u001b[0m\u001b[0mCRN\u001b[0m\u001b[1;33m.\u001b[0m\u001b[0mpretty_print\u001b[0m\u001b[1;33m(\u001b[0m\u001b[1;33m)\u001b[0m\u001b[1;33m)\u001b[0m\u001b[1;33m\u001b[0m\u001b[1;33m\u001b[0m\u001b[0m\n",
      "\u001b[1;32mC:\\ProgramData\\Anaconda3\\lib\\site-packages\\biocrnpyler-1.1.0-py3.7.egg\\biocrnpyler\\mixture.py\u001b[0m in \u001b[0;36mcompile_crn\u001b[1;34m(self, recursion_depth, initial_concentration_dict, return_enumerated_components, initial_concentrations_at_end, copy_objects, add_reaction_species)\u001b[0m\n\u001b[0;32m    482\u001b[0m         \u001b[0mspecies\u001b[0m \u001b[1;33m=\u001b[0m \u001b[1;33m[\u001b[0m\u001b[1;33m]\u001b[0m\u001b[1;33m\u001b[0m\u001b[1;33m\u001b[0m\u001b[0m\n\u001b[0;32m    483\u001b[0m         \u001b[1;32mfor\u001b[0m \u001b[0mcomponent\u001b[0m \u001b[1;32min\u001b[0m \u001b[0menumerated_components\u001b[0m\u001b[1;33m:\u001b[0m\u001b[1;33m\u001b[0m\u001b[1;33m\u001b[0m\u001b[0m\n\u001b[1;32m--> 484\u001b[1;33m             \u001b[0mself\u001b[0m\u001b[1;33m.\u001b[0m\u001b[0madd_species_to_crn\u001b[0m\u001b[1;33m(\u001b[0m\u001b[0mcomponent\u001b[0m\u001b[1;33m.\u001b[0m\u001b[0mupdate_species\u001b[0m\u001b[1;33m(\u001b[0m\u001b[1;33m)\u001b[0m\u001b[1;33m,\u001b[0m \u001b[0mcomponent\u001b[0m\u001b[1;33m,\u001b[0m \u001b[0mno_initial_concentrations\u001b[0m \u001b[1;33m=\u001b[0m \u001b[0minitial_concentrations_at_end\u001b[0m\u001b[1;33m,\u001b[0m \u001b[0mcopy_species\u001b[0m \u001b[1;33m=\u001b[0m \u001b[0mcopy_objects\u001b[0m\u001b[1;33m)\u001b[0m\u001b[1;33m\u001b[0m\u001b[1;33m\u001b[0m\u001b[0m\n\u001b[0m\u001b[0;32m    485\u001b[0m \u001b[1;33m\u001b[0m\u001b[0m\n\u001b[0;32m    486\u001b[0m         \u001b[1;31m#Append Reactions from each Component\u001b[0m\u001b[1;33m\u001b[0m\u001b[1;33m\u001b[0m\u001b[1;33m\u001b[0m\u001b[0m\n",
      "\u001b[1;32mC:\\ProgramData\\Anaconda3\\lib\\site-packages\\biocrnpyler-1.1.0-py3.7.egg\\biocrnpyler\\components_combinatorial_conformation.py\u001b[0m in \u001b[0;36mupdate_species\u001b[1;34m(self)\u001b[0m\n\u001b[0;32m    315\u001b[0m                         \u001b[1;31m#Get combinatorial species between s0 and sf\u001b[0m\u001b[1;33m\u001b[0m\u001b[1;33m\u001b[0m\u001b[1;33m\u001b[0m\u001b[0m\n\u001b[0;32m    316\u001b[0m                         \u001b[1;32mif\u001b[0m \u001b[1;33m(\u001b[0m\u001b[0ms0\u001b[0m\u001b[1;33m,\u001b[0m \u001b[0msf\u001b[0m\u001b[1;33m)\u001b[0m \u001b[1;32mnot\u001b[0m \u001b[1;32min\u001b[0m \u001b[0mself\u001b[0m\u001b[1;33m.\u001b[0m\u001b[0mcombination_dict\u001b[0m\u001b[1;33m:\u001b[0m\u001b[1;33m\u001b[0m\u001b[1;33m\u001b[0m\u001b[0m\n\u001b[1;32m--> 317\u001b[1;33m                             \u001b[0mself\u001b[0m\u001b[1;33m.\u001b[0m\u001b[0mcombination_dict\u001b[0m\u001b[1;33m[\u001b[0m\u001b[0ms0\u001b[0m\u001b[1;33m,\u001b[0m \u001b[0msf\u001b[0m\u001b[1;33m]\u001b[0m \u001b[1;33m=\u001b[0m \u001b[0mself\u001b[0m\u001b[1;33m.\u001b[0m\u001b[0mget_combinations_between\u001b[0m\u001b[1;33m(\u001b[0m\u001b[0ms0\u001b[0m\u001b[1;33m,\u001b[0m \u001b[0msf\u001b[0m\u001b[1;33m)\u001b[0m\u001b[1;33m\u001b[0m\u001b[1;33m\u001b[0m\u001b[0m\n\u001b[0m\u001b[0;32m    318\u001b[0m \u001b[1;33m\u001b[0m\u001b[0m\n\u001b[0;32m    319\u001b[0m                         \u001b[1;31m#iterate through combinations of species between s0 and sf\u001b[0m\u001b[1;33m\u001b[0m\u001b[1;33m\u001b[0m\u001b[1;33m\u001b[0m\u001b[0m\n",
      "\u001b[1;32mC:\\ProgramData\\Anaconda3\\lib\\site-packages\\biocrnpyler-1.1.0-py3.7.egg\\biocrnpyler\\components_combinatorial_conformation.py\u001b[0m in \u001b[0;36mget_combinations_between\u001b[1;34m(self, s0, sf)\u001b[0m\n\u001b[0;32m    198\u001b[0m         \"\"\"\n\u001b[0;32m    199\u001b[0m         \u001b[0mprint\u001b[0m\u001b[1;33m(\u001b[0m\u001b[1;34m\"geting combinations between\"\u001b[0m\u001b[1;33m,\u001b[0m \u001b[0ms0\u001b[0m\u001b[1;33m,\u001b[0m \u001b[1;34m\"and\"\u001b[0m\u001b[1;33m,\u001b[0m \u001b[0msf\u001b[0m\u001b[1;33m)\u001b[0m\u001b[1;33m\u001b[0m\u001b[1;33m\u001b[0m\u001b[0m\n\u001b[1;32m--> 200\u001b[1;33m         \u001b[0mX\u001b[0m \u001b[1;33m=\u001b[0m \u001b[0mself\u001b[0m\u001b[1;33m.\u001b[0m\u001b[0mcompute_species_changes\u001b[0m\u001b[1;33m(\u001b[0m\u001b[0ms0\u001b[0m\u001b[1;33m,\u001b[0m \u001b[0msf\u001b[0m\u001b[1;33m)\u001b[0m\u001b[1;33m\u001b[0m\u001b[1;33m\u001b[0m\u001b[0m\n\u001b[0m\u001b[0;32m    201\u001b[0m \u001b[1;33m\u001b[0m\u001b[0m\n\u001b[0;32m    202\u001b[0m \u001b[1;33m\u001b[0m\u001b[0m\n",
      "\u001b[1;32mC:\\ProgramData\\Anaconda3\\lib\\site-packages\\biocrnpyler-1.1.0-py3.7.egg\\biocrnpyler\\components_combinatorial_conformation.py\u001b[0m in \u001b[0;36mcompute_species_changes\u001b[1;34m(self, s0, sf)\u001b[0m\n\u001b[0;32m    154\u001b[0m                 \u001b[0msub_complex_species_and_inds\u001b[0m \u001b[1;33m=\u001b[0m \u001b[1;33m[\u001b[0m\u001b[1;33m]\u001b[0m\u001b[1;33m\u001b[0m\u001b[1;33m\u001b[0m\u001b[0m\n\u001b[0;32m    155\u001b[0m                 \u001b[0msub_complex_species_and_inds_str\u001b[0m \u001b[1;33m=\u001b[0m \u001b[1;33m[\u001b[0m\u001b[1;33m]\u001b[0m\u001b[1;33m\u001b[0m\u001b[1;33m\u001b[0m\u001b[0m\n\u001b[1;32m--> 156\u001b[1;33m                 \u001b[0mmerged_complexes\u001b[0m\u001b[1;33m[\u001b[0m\u001b[0mcf\u001b[0m\u001b[1;33m,\u001b[0m \u001b[0mpf_inds\u001b[0m\u001b[1;33m]\u001b[0m \u001b[1;33m=\u001b[0m \u001b[1;33m[\u001b[0m\u001b[0mc0\u001b[0m\u001b[1;33m]\u001b[0m\u001b[1;33m\u001b[0m\u001b[1;33m\u001b[0m\u001b[0m\n\u001b[0m\u001b[0;32m    157\u001b[0m \u001b[1;33m\u001b[0m\u001b[0m\n\u001b[0;32m    158\u001b[0m \u001b[1;33m\u001b[0m\u001b[0m\n",
      "\u001b[1;31mUnboundLocalError\u001b[0m: local variable 'c0' referenced before assignment"
     ]
    }
   ],
   "source": [
    "from biocrnpyler import CombinatorialConformation, Mixture\n",
    "\n",
    "cc = CombinatorialConformation(final_states = [pc2])\n",
    "\n",
    "params = {\"kf\":1.0, \"kr\":1.0}\n",
    "M = Mixture(components = [cc], parameters = params)\n",
    "\n",
    "CRN = M.compile_crn()\n",
    "\n",
    "print(CRN.pretty_print())"
   ]
  },
  {
   "cell_type": "markdown",
   "metadata": {},
   "source": [
    "## Example 2 Continued:\n",
    "\n",
    "The enumerated reactions can be restricted by choosing a set of intermediate states, initial states, and excluded states."
   ]
  },
  {
   "cell_type": "code",
   "execution_count": null,
   "metadata": {},
   "outputs": [],
   "source": [
    "from biocrnpyler import CombinatorialConformation, Mixture\n",
    "params = {\"kf\":1.0, \"kr\":1.0}\n",
    "\n",
    "#Use a different initial state\n",
    "cc1 = CombinatorialConformation(initial_states = [pc1], final_states = [pc2])\n",
    "M1 = Mixture(components = [cc1], parameters = params)\n",
    "CRN1 = M1.compile_crn()\n",
    "print(\"CRN starting at a different initial state:\\n\", CRN1.pretty_print())\n",
    "\n",
    "#Use default initial state but contrain the intermediate states\n",
    "cc2 = CombinatorialConformation(intermediate_states = [pc1], final_states = [pc2])\n",
    "M2 = Mixture(components = [cc2], parameters = params)\n",
    "CRN2 = M2.compile_crn()\n",
    "print(\"CRN with contrained intermediate states:\\n\", CRN2.pretty_print())\n",
    "\n",
    "#Exclude a particular state\n",
    "cc3 = CombinatorialConformation(excluded_states = [pc1], final_states = [pc2])\n",
    "M3 = Mixture(components = [cc3], parameters = params)\n",
    "CRN3 = M2.compile_crn()\n",
    "print(\"CRN starting at a different initial state:\\n\", CRN3.pretty_print())"
   ]
  },
  {
   "cell_type": "markdown",
   "metadata": {},
   "source": [
    "# Example 3: CombinatorialConformationPromoter\n",
    "\n",
    "The CombinatorialConformationPromoter is a combination of Promoter and CombinatorialConformation that can be used to model transcription. In this example, we build a simple model of the Lac Operon. This sequence has 3 Lac Repressor binding sites. The Lac Repressor Tetramer can induce looping between any two of these binding sites. Looping between binding site 1 and 3 or binding site 2 and 3 obscures the polymerase binding site and does not allow DNA to be transcribed. This is accomplished by producing the saturated looped and unlooped PolymerConformations which are used as final states. All states with lacR bound to location 3 are passed in as promoter_states with promoter_states_on = False to toggle repression of these states. By default, all other enumerated states will be transcribable."
   ]
  },
  {
   "cell_type": "code",
   "execution_count": null,
   "metadata": {},
   "outputs": [],
   "source": [
    "from biocrnpyler import CombinatorialConformationPromoter, Mixture, DNAassembly, SimpleTranscription, SimpleTranslation\n",
    "\n",
    "lac_site, pol_site, lacR = Species(\"L\"), Species(\"P\"), Species(\"lacR\")\n",
    "\n",
    "#Operon without LacR Bound\n",
    "FreeOperon = PolymerConformation(polymer = [lac_site, lac_site, pol_site, lac_site])\n",
    "\n",
    "#Operons with LacR bound in 1 position\n",
    "lacR0 = Complex([FreeOperon.polymers[0][0], lacR]).parent\n",
    "lacR1 = Complex([FreeOperon.polymers[0][1], lacR]).parent\n",
    "lacR3 = Complex([FreeOperon.polymers[0][3], lacR]).parent\n",
    "\n",
    "#Operon with lacR bound in 2 positions (this is just used to make the 3 position case)\n",
    "lacR03 = Complex([lacR3.polymers[0][0], lacR]).parent\n",
    "lacR13 = Complex([lacR3.polymers[0][1], lacR]).parent\n",
    "#Operon with LacR Bound in 3 positions\n",
    "lacR013 = Complex([lacR03.polymers[0][1], lacR]).parent\n",
    "\n",
    "#Operons with LacR bound in two positions and a loop\n",
    "SaturatedLoop01 = Complex([lacR3.polymers[0][0], lacR3.polymers[0][1], lacR]).parent #Transcribable\n",
    "SaturatedLoop03 = Complex([lacR1.polymers[0][0], lacR1.polymers[0][3], lacR]).parent #Not Transcribable\n",
    "SaturatedLoop13 = Complex([lacR0.polymers[0][1], lacR0.polymers[0][3], lacR]).parent #Not Transcribable\n",
    "\n",
    "CCP = CombinatorialConformationPromoter(\n",
    "    promoter_states = [SaturatedLoop03, SaturatedLoop13, lacR3, lacR03, lacR13, lacR013],\n",
    "    promoter_states_on = False,\n",
    "    promoter_location = 2,\n",
    "    initial_states = [FreeOperon], \n",
    "    intermediate_states = [lacR0, lacR1, lacR3], \n",
    "    final_states = [lacR013, SaturatedLoop01, SaturatedLoop03, SaturatedLoop13])\n",
    "\n",
    "#Create a DNAassembly\n",
    "A = DNAassembly(name = \"lac\", promoter = CCP, rbs = \"rbs\", protein = \"betagal\")\n",
    "\n",
    "mechanisms = [SimpleTranscription(), SimpleTranslation()]\n",
    "\n",
    "M = Mixture(components = [A], mechanisms = mechanisms, parameters = {\"kf\":1.0, \"kr\":1.0, \"ktx\":1.0, \"ktl\":1.0})\n",
    "\n",
    "CRN = M.compile_crn()\n",
    "\n",
    "print(CRN.pretty_print(show_rates = False))"
   ]
  },
  {
   "cell_type": "code",
   "execution_count": null,
   "metadata": {},
   "outputs": [],
   "source": []
  },
  {
   "cell_type": "code",
   "execution_count": null,
   "metadata": {},
   "outputs": [],
   "source": []
  }
 ],
 "metadata": {
  "kernelspec": {
   "display_name": "Python 3",
   "language": "python",
   "name": "python3"
  },
  "language_info": {
   "codemirror_mode": {
    "name": "ipython",
    "version": 3
   },
   "file_extension": ".py",
   "mimetype": "text/x-python",
   "name": "python",
   "nbconvert_exporter": "python",
   "pygments_lexer": "ipython3",
   "version": "3.7.4"
  }
 },
 "nbformat": 4,
 "nbformat_minor": 4
}
