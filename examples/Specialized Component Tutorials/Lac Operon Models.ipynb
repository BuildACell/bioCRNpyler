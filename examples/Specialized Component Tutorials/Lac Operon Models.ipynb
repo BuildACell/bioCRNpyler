{
 "cells": [
  {
   "cell_type": "code",
   "execution_count": null,
   "metadata": {},
   "outputs": [],
   "source": [
    "from biocrnpyler import CombinatorialConformationPromoter, Mixture, DNAassembly, SimpleTranscription, SimpleTranslation\n",
    "\n",
    "lac_site, pol_site, lacR = Species(\"L\"), Species(\"P\"), Species(\"lacR\")\n",
    "\n",
    "#Operon without LacR Bound\n",
    "FreeOperon = PolymerConformation(polymer = [lac_site, lac_site, pol_site, lac_site])\n",
    "\n",
    "#Operons with LacR bound in 1 position\n",
    "lacR0 = Complex([FreeOperon.polymers[0][0], lacR]).parent\n",
    "lacR1 = Complex([FreeOperon.polymers[0][1], lacR]).parent\n",
    "lacR3 = Complex([FreeOperon.polymers[0][3], lacR]).parent\n",
    "\n",
    "#Operon with lacR bound in 2 positions (this is just used to make the 3 position case)\n",
    "lacR03 = Complex([lacR3.polymers[0][0], lacR]).parent\n",
    "lacR13 = Complex([lacR3.polymers[0][1], lacR]).parent\n",
    "#Operon with LacR Bound in 3 positions\n",
    "lacR013 = Complex([lacR03.polymers[0][1], lacR]).parent\n",
    "\n",
    "#Operons with LacR bound in two positions and a loop\n",
    "SaturatedLoop01 = Complex([lacR3.polymers[0][0], lacR3.polymers[0][1], lacR]).parent #Transcribable\n",
    "SaturatedLoop03 = Complex([lacR1.polymers[0][0], lacR1.polymers[0][3], lacR]).parent #Not Transcribable\n",
    "SaturatedLoop13 = Complex([lacR0.polymers[0][1], lacR0.polymers[0][3], lacR]).parent #Not Transcribable\n",
    "\n",
    "CCP = CombinatorialConformationPromoter(\n",
    "    promoter_states = [SaturatedLoop03, SaturatedLoop13, lacR3, lacR03, lacR13, lacR013],\n",
    "    promoter_states_on = False,\n",
    "    promoter_location = 2,\n",
    "    initial_states = [FreeOperon], \n",
    "    intermediate_states = [lacR0, lacR1, lacR3], \n",
    "    final_states = [lacR013, SaturatedLoop01, SaturatedLoop03, SaturatedLoop13])\n",
    "\n",
    "#Create a DNAassembly\n",
    "A = DNAassembly(name = \"lac\", promoter = CCP, rbs = \"rbs\", protein = \"betagal\")\n",
    "\n",
    "mechanisms = [SimpleTranscription(), SimpleTranslation()]\n",
    "\n",
    "M = Mixture(components = [A], mechanisms = mechanisms, parameters = {\"kf\":1.0, \"kr\":1.0, \"ktx\":1.0, \"ktl\":1.0})\n",
    "\n",
    "CRN = M.compile_crn()\n",
    "\n",
    "print(CRN.pretty_print(show_rates = False))"
   ]
  }
 ],
 "metadata": {
  "kernelspec": {
   "display_name": "Python 3",
   "language": "python",
   "name": "python3"
  },
  "language_info": {
   "codemirror_mode": {
    "name": "ipython",
    "version": 3
   },
   "file_extension": ".py",
   "mimetype": "text/x-python",
   "name": "python",
   "nbconvert_exporter": "python",
   "pygments_lexer": "ipython3",
   "version": "3.7.4"
  }
 },
 "nbformat": 4,
 "nbformat_minor": 4
}
