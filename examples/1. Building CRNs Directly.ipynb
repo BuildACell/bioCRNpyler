{
 "cells": [
  {
   "cell_type": "markdown",
   "metadata": {},
   "source": [
    "# Building Chemical Reaction Networks (CRNs) Directly with BioCRNpyler\n",
    "\n",
    "**Overview:**  This tutorial shows how to use [BioCRNpyler](https://github.com/BuildACell/BioCRNPyler) to represent simple CRNs\n",
    "\n",
    "## What is a CRN?\n",
    "A CRN is a widely established model of chemistry and biochemistry.\n",
    "* A set of species $S$\n",
    "* A set of reactions $R$ interconvert species $I_r$ to $O_r$\n",
    "\n",
    "\\begin{align}\n",
    "\\\\\n",
    "I \\xrightarrow[]{\\rho(s)} O\n",
    "\\\\\n",
    "\\end{align}\n",
    "\n",
    " * $I$ and $O$ are multisets of species $S$. \n",
    " * $\\rho(s): S \\to \\mathbb{R}$ is a function that determines how fast the reaction occurs.\n"
   ]
  },
  {
   "cell_type": "code",
   "execution_count": 2,
   "metadata": {},
   "outputs": [],
   "source": [
    "#Import everything from biocrnpyler\n",
    "from biocrnpyler import *\n",
    "\n",
    "#Used for simulating and plotting\n",
    "import numpy as np\n",
    "import pylab as plt"
   ]
  },
  {
   "cell_type": "markdown",
   "metadata": {},
   "source": [
    "## Combining Species and Reactions into a CRN\n",
    "\n",
    "The following code defines a species called 'S' made out of material 'material'. Species can also have attributes to help identify them. Note that Species with the same name, but different materials or attributes are considered different species in terms of the reactions they participate in.\n",
    "\n",
    "    S = Species('name', material_type = 'material', attributes = [])\n",
    "\n",
    "The collowing code produces a reaction R\n",
    "    \n",
    "    R = Reaction(Inputs, Outputs, k)\n",
    "\n",
    "here Inputs and Outputs must both be a list of Species. the parameter k is the rate constant of the reaction. By default, propensities in BioCRNpyler are massaction:\n",
    "\n",
    "### $\\rho(S) = k \\Pi_{s} s^{I_s}$\n",
    "\n",
    "Note: for stochastic models mass action propensities are $\\rho(S) = k \\Pi_{s} s!/(s - I_s)!$.\n",
    "\n",
    "Massaction reactions can be made reversible with the k_rev keyword:\n",
    "\n",
    "    R_reversible = Reaction(Inputs, Outputs, k, k_rev = krev)\n",
    "\n",
    "is the same as two reactions:\n",
    "\n",
    "    R = Reaction(Inputs, Outputs, k)\n",
    "    Rrev = Reaction(Outputs, Inputs, krev)\n",
    "\n",
    "\n",
    "Finally, a CRN can be made by combining species and reactions:\n",
    "\n",
    "    CRN = ChemicalReactionNetwork(species = species, reactions = reactions)\n"
   ]
  },
  {
   "cell_type": "code",
   "execution_count": 3,
   "metadata": {},
   "outputs": [
    {
     "name": "stdout",
     "output_type": "stream",
     "text": [
      "Species can be printed to show their string representation: m1_A_attribute m1_B m2_B D\n",
      "\n",
      "Reactions can be printed as well:\n",
      " m1_A_attribute --> 2 m1_B        massaction: k_f(m1_A_attribute)=3.0*m1_A_attribute \n",
      " m1_B --> m2_B + D        massaction: k_f(m1_B)=1.4*m1_B\n",
      "\n",
      "Directly printing a CRN shows the string representation of the species used in BioCRNpyler:\n",
      "Species = m1_A_attribute, m1_B, m2_B, D\n",
      "Reactions = [\n",
      "\tm1_A_attribute --> 2 m1_B        massaction: k_f(m1_A_attribute)=3.0*m1_A_attribute\n",
      "\tm1_B --> m2_B + D        massaction: k_f(m1_B)=1.4*m1_B\n",
      "]\n",
      "\n",
      "CRN.pretty_print(...) is a function that prints a more customizable version of the CRN, but doesn't show the proper string representation of species.\n",
      "Species (4) = {0. m1[A(attribute)], 1. m1[B], 2. m2[B], 3. D}\n",
      "Reactions (2) = [\n",
      "0. m1[A(attribute)] --> 2 m1[B]        \n",
      "        massaction: k_f(m1[A(attribute)])=3.0*m1[A(attribute)]\n",
      "1. m1[B] --> m2[B] + D        \n",
      "        massaction: k_f(m1[B])=1.4*m1[B]\n",
      "]\n"
     ]
    }
   ],
   "source": [
    "#Example: Model the CRN consisting of: A --> 2B, 2B <--> B + C where C has the same name as B but a new material\n",
    "A = Species(\"A\", material_type = \"m1\", attributes = [\"attribute\"])\n",
    "B = Species(\"B\", material_type = \"m1\")\n",
    "C = Species(\"B\", material_type = \"m2\")\n",
    "D = Species(\"D\")\n",
    "\n",
    "print(\"Species can be printed to show their string representation:\", A, B, C, D)\n",
    "\n",
    "#Reaction Rates\n",
    "k1 = 3.\n",
    "k2 = 1.4\n",
    "k2rev = 0.15\n",
    "\n",
    "#Reaciton Objects\n",
    "R1 = Reaction([A], [B, B], k1)\n",
    "R2 = Reaction([B], [C, D], k2)\n",
    "\n",
    "print(\"\\nReactions can be printed as well:\\n\", R1,\"\\n\", R2)\n",
    "\n",
    "#Make a CRN\n",
    "CRN = ChemicalReactionNetwork(species = [A, B, C, D], reactions = [R1, R2])\n",
    "\n",
    "#CRNs can be printed in two different ways\n",
    "print(\"\\nDirectly printing a CRN shows the string representation of the species used in BioCRNpyler:\")\n",
    "print(CRN)\n",
    "\n",
    "print(\"\\nCRN.pretty_print(...) is a function that prints a more customizable version of the CRN, but doesn't show the proper string representation of species.\")\n",
    "print(CRN.pretty_print(show_materials = True, show_rates = True, show_attributes = True))"
   ]
  },
  {
   "cell_type": "markdown",
   "metadata": {},
   "source": [
    "## CRNs can be saved as SBML and simulated\n",
    "\n",
    "To save a CRN as SBML:\n",
    "\n",
    "    CRN.write_sbml_file(\"file_name.xml\")\n",
    "\n",
    "To simulate a CRN with biosrape:\n",
    "\n",
    "    Results, Model = CRN_expression.simulate_with_bioscrape(timepoints, initial_condition_dict = x0)\n",
    "\n",
    "Where x0 is a dictionary: x0 = {str(species_name):initial_value}"
   ]
  },
  {
   "cell_type": "code",
   "execution_count": 6,
   "metadata": {},
   "outputs": [
    {
     "data": {
      "image/png": "[encoded data removed]",
      "text/plain": [
       "<Figure size 432x288 with 1 Axes>"
      ]
     },
     "metadata": {
      "needs_background": "light"
     },
     "output_type": "display_data"
    }
   ],
   "source": [
    "#Saving and simulating a CRN\n",
    "CRN.write_sbml_file(\"build_crns_directly.xml\")\n",
    "\n",
    "#Initial conditions can be set with a dictionary:\n",
    "x0 = {str(A):120}\n",
    "timepoints = np.linspace(0, 1, 100)#Timepoints to simulate over\n",
    "\n",
    "R = CRN.simulate_with_bioscrape(timepoints = timepoints, initial_condition_dict = x0)\n",
    "#Can also simulate and save at the same time\n",
    "#R, M = CRN.simulate_with_bioscrape_via_sbml(timepoints = timepoints, initial_condition_dict = x0, file_name = \"build_crns_directly.xml\")\n",
    "\n",
    "if R is not False and R is not None: #Check to ensure simulation worked\n",
    "    #Results are in a Pandas Dictionary and can be accessed via string-names of species\n",
    "    plt.plot(R['time'], R[str(A)], label = \"A\")\n",
    "    plt.plot(R['time'], R[str(B)], label = \"B\")\n",
    "    plt.plot(R['time'], R[str(C)], \"--\", label = \"C\")\n",
    "    plt.plot(R['time'], R[str(D)],\":\", label = \"D\")\n",
    "    plt.legend()"
   ]
  },
  {
   "cell_type": "markdown",
   "metadata": {},
   "source": [
    "## ComplexSpecies and OrderedComplexSpecies\n",
    "\n",
    "When Species bind together to form complexes, it is recommended to use the ComplexSpecies, Multimer, or OrderedComplexSpecies subclasses which contain information about the species inside of them. ComplexSpecies treats its internal species as an unordered multiset. Multimer contains $n$ compies of a sinlge Species. OrderedComplexSpecies treats its internal species as an ordered list.\n",
    "\n",
    "_Note: These objects do not automatically generate binding reactions. To do that, use the Component wrappers ChemicalComplex and OrderedChemicalComplex._"
   ]
  },
  {
   "cell_type": "code",
   "execution_count": null,
   "metadata": {},
   "outputs": [],
   "source": [
    "A = Species(\"A\", material_type = \"m1\")\n",
    "B = Species(\"B\", material_type = \"m1\")\n",
    "B2 = Species(\"B\", material_type = \"m2\")\n",
    "\n",
    "print(\"\\nFor ComplexSpecies, the order of the elements does not matter:\")\n",
    "C1 = ComplexSpecies([A, B, B2, A])\n",
    "C2 = ComplexSpecies([B, A, B2, A])\n",
    "print(\"C1=ComplexSpecies([A, B, B2, A])=\", C1)\n",
    "print(\"C2=ComplexSpecies([B, A, B2, A])=\", C2)\n",
    "print(\"C1==C2 ==>\", C1==C2)\n",
    "\n",
    "print(\"\\nMultimers are the same as ComplexSpecies:\")\n",
    "M1 = ComplexSpecies([A]*3)\n",
    "M2 = Multimer(A, 3)\n",
    "print(\"ComplexSpecies([A]*3)\", M1)\n",
    "print(\"Multimer(A, 3)\", M2)\n",
    "print(\"M1 == M2 ==>\", M1 == M2)\n",
    "\n",
    "print(\"\\nFor OrderedComplexSpecies, the Order Does Matter:\")\n",
    "C3 = OrderedComplexSpecies([A, B, B2, A])\n",
    "C4 = OrderedComplexSpecies([B, A, B2, A])\n",
    "print(\"C3=OrderedComplexSpecies([A, B, B2, A])=\", C3)\n",
    "print(\"C4=OrderedComplexSpecies([B, A, B2, A])=\", C4)\n",
    "print(\"C3==C4 ==>\", C3==C4)\n",
    "\n",
    "print(\"\\nComplexSpecies (and the OrderedComplexSpecies and Multimers) are Species and can be used in reactions:\")\n",
    "R = Reaction([A, B, B2, A], [C1], k = 10)\n",
    "print(\"Reaction([A, B, B2, A], [C1], k = 10)=\")\n",
    "print(R)"
   ]
  },
  {
   "cell_type": "markdown",
   "metadata": {},
   "source": [
    "## Non-massaction propensities in BioCRNpyler\n",
    "By default, BioCRNpyler assumes that propensities are massaction with only one parameter, the rate constant $k$. However, non-massaction propensities are also supported. However, additional propensity types are also supported. When creating a reaction with non-massaction propensities, a propensity_params dictionary must be passed into the chemical_reaction_network.reaction constructor with the appropriate parameters for that particular propensity type. The supported propensity types and their relevant parameters are:\n",
    "\n",
    "1. \"massaction\": $\\rho(S) = k \\Pi_{s} s^{I_s}$. Required parameters: \"k\" the rate constant. Note: for stochastic models mass action propensities are $\\rho(S) = k \\Pi_{s} s!/(s - I_s)!$.\n",
    "2. \"positivehill\": $\\rho(s) = k \\frac{s^n}{(K^n+s^n)}$. Requried parameters: rate constant \"k\", offset \"K\", hill coefficient \"n\", hill species \"s1\".\n",
    "3. \"negativehill\": $\\rho(s) = k \\frac{1}{(K^n+s^n)}$. Requried parameters: rate constant \"k\", offset \"K\", hill coefficient \"n\", hill species \"s1\".\n",
    "4. \"proportionalpositivehill\": $\\rho(s) = k d \\frac{s^n}{(K^n+s^n)}$. Requried parameters: rate constant \"k\", offset \"K\", hill coefficient \"n\", hill species \"s1\", propritional species \"d\".\n",
    "5. \"proportionalnegativehill\": $\\rho(s) = k d \\frac{1}{(K^n+s^n)}$. Requried parameters: rate constant \"k\", offset \"K\", hill coefficient \"n\", hill species \"s1\", propritional species \"d\".\n",
    "6. \"general\": $\\rho(s) = f(s)$ where $f$ can be any algebraic function typed as a string. Required parameters: \"rate\" an algebraic expression including species and model parameters written as a string.\n",
    "\n",
    "The following notebook contains examples of the propensity types support by BioCRNpyler applied to a very simple model of genetic activation and repression."
   ]
  },
  {
   "cell_type": "code",
   "execution_count": null,
   "metadata": {},
   "outputs": [],
   "source": [
    "from biocrnpyler.chemical_reaction_network import Species, Reaction, ComplexSpecies, ChemicalReactionNetwork\n",
    "\n",
    "#Parameter Values\n",
    "kb = 100\n",
    "ku = 10\n",
    "kex = 1.\n",
    "kd = .1\n",
    "\n",
    "#Species\n",
    "G = Species(name = \"G\", material_type = \"dna\") #DNA\n",
    "A = Species(name = \"A\", material_type = \"protein\") #Activator\n",
    "GA = ComplexSpecies([G, A, A]) #Activated Gene\n",
    "X = Species(name = \"X\", material_type = \"protein\")\n",
    "\n",
    "rxnd = Reaction([X], [], kd)\n",
    "\n",
    "#Massaction Activation\n",
    "species1 = [G, A, GA, X]\n",
    "rxn0_1 = Reaction([G, A, A], [GA], k=kb, k_rev = ku)\n",
    "rxn0_2 = Reaction([GA], [GA, X], k=kex)\n",
    "CRN0 = ChemicalReactionNetwork(species1, [rxn0_1, rxn0_2, rxnd])\n",
    "print(\"\\nMassaction Activation\", repr(CRN0))\n",
    "\n",
    "#Massaction Repressed\n",
    "rxn1_1 = Reaction([G, A, A], [GA], k=kb, k_rev = ku)\n",
    "rxn1_2 = Reaction([G], [G, X], k=kex)\n",
    "CRN1 = ChemicalReactionNetwork(species1, [rxn1_1, rxn1_2, rxnd])\n",
    "print(\"\\nMassaction Repression\", repr(CRN1))\n",
    "\n",
    "#hill positive\n",
    "species2 = [G, A, X]\n",
    "rxn2_1 = Reaction([G], [G, X], propensity_type = \"hillpositive\", propensity_params = {\"k\":kex, \"n\":2, \"K\":float(kb/ku), \"s1\":A})\n",
    "CRN2 = ChemicalReactionNetwork(species2, [rxn2_1, rxnd])\n",
    "print(\"\\nHill Positive CRN\", repr(CRN2))\n",
    "\n",
    "#proportional hill positive\n",
    "rxn3_1 = Reaction([G], [G, X], propensity_type = \"proportionalhillpositive\", propensity_params = {\"k\":kex, \"n\":2, \"K\":float(kb/ku), \"s1\":A, \"d\":G})\n",
    "CRN3 = ChemicalReactionNetwork(species2, [rxn3_1, rxnd])\n",
    "print(\"\\nProportional Hill Positive CRN\", repr(CRN3))\n",
    "\n",
    "#hill Negative\n",
    "rxn4_1 = Reaction([G], [G, X], propensity_type = \"hillnegative\", propensity_params = {\"k\":kex, \"n\":2, \"K\":float(kb/ku), \"s1\":A})\n",
    "CRN4 = ChemicalReactionNetwork(species2, [rxn4_1, rxnd])\n",
    "print(\"\\nHill Negative CRN\", repr(CRN4))\n",
    "\n",
    "#proportional hill negative\n",
    "rxn5_1 = Reaction([G], [G, X], propensity_type = \"proportionalhillnegative\", propensity_params = {\"k\":kex, \"n\":2, \"K\":float(kb/ku), \"s1\":A, \"d\":G})\n",
    "CRN5 = ChemicalReactionNetwork(species2, [rxn5_1, rxnd])\n",
    "print(\"\\nProportional Hill Negative CRN\", repr(CRN5))"
   ]
  }
 ],
 "metadata": {
  "kernelspec": {
   "display_name": "Python 3",
   "language": "python",
   "name": "python3"
  },
  "language_info": {
   "codemirror_mode": {
    "name": "ipython",
    "version": 3
   },
   "file_extension": ".py",
   "mimetype": "text/x-python",
   "name": "python",
   "nbconvert_exporter": "python",
   "pygments_lexer": "ipython3",
   "version": "3.7.4"
  }
 },
 "nbformat": 4,
 "nbformat_minor": 4
}
