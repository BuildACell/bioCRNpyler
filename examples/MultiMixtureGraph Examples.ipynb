{
 "cells": [
  {
   "cell_type": "code",
   "execution_count": 1,
   "id": "f293d3a0",
   "metadata": {
    "scrolled": true
   },
   "outputs": [],
   "source": [
    " # Diffusion on a Latticefrom biocrnpyler import MultiMixtureGraph, Mixture, Component, Mechanism, Species, Compartment, Complex, Reaction\n",
    "import numpy as np\n",
    "from biocrnpyler import *"
   ]
  },
  {
   "cell_type": "markdown",
   "id": "8742f31e",
   "metadata": {},
   "source": [
    "# Introduction"
   ]
  },
  {
   "cell_type": "markdown",
   "id": "fb52a22e",
   "metadata": {},
   "source": [
    "As we know from the other BioCRNpyler examples, BioCRNpyler is a tool developed to compile CRNs. Before the MultiMixtureGraph class was added, the largest abstraction of CRNs that BioCRNpyler could handle was a Mixture. Here, we expand that by creating a MultiMixtureGraph, which describes the connections between multiple mixtures. This is helpful for modeling interactions between different mixtures, such as diffusion or transport. \n",
    "\n",
    "In this notebook, we explore the functionality of the MultiMixtureGraph class such that users have a starting point from which to implement their own funcitonalities.  "
   ]
  },
  {
   "cell_type": "markdown",
   "id": "ded141d7",
   "metadata": {},
   "source": [
    "#### The Role of Compartments\n",
    "\n",
    "This is important to understand the MultiMixtureGraph as a whole. In the MultiMixtureGraph class, Compartments serve to hold local information about a mixture. Compartments have a name and a dictionary of relationships to describe local information, linking a compartment to other compartments. For example, in Compartment A's relationship dictionary, it could have the key \"external\" linking it to compartment B, which describes (in the biological/chemical  representation) A being inside of B. \n",
    "\n",
    "In the MultiMixtureGraph, each mixtures has a single associated compartment."
   ]
  },
  {
   "cell_type": "markdown",
   "id": "c0a35576",
   "metadata": {},
   "source": [
    "# Main Functionality"
   ]
  },
  {
   "cell_type": "markdown",
   "id": "31a4d1df",
   "metadata": {},
   "source": [
    "The functions below do not include the basic getters/setters. \n",
    "\n",
    "#### add_mixture: Adding a Mixture\n",
    "Parameters: Mixture, Compartment = None\n",
    "\n",
    "This makes the graph aware of a Mixture. The user will input a mixture and the MultiMixtureGraph class will copy it and create it an associated compartment with a unique compartment name (unless a compartment or compartment name respectivley is already provided). This class deals with name collisions by appending unique integers to the end of repeated names. \n",
    "\n",
    "#### add_mixtures: Adding multiple Mixtures\n",
    "Parameters: Mixtures : List of Mixture, Compartment = None: List of Compartment \n",
    "\n",
    "This does the same thing as add_mixture, but allows user to add more than one mixture at once. \n",
    "\n",
    "#### connect: Connecting two Mixtures that have already been added\n",
    "Parameters: Compartment name 1 : String , Compartment name 2: String , relationship of 2 to 1: String, relationship of 1 to 2 : String \n",
    "\n",
    "The mixtures being connected must be added to the MultiMixtureGraph by one of the two methods above. Connect links these two in the internal representation of the Mixture graph. The relationship parameters specify how the two are locally related to each other, which is information that is integrated into the respective Compartments.\n",
    "\n",
    "#### combine_multi_mixture_graph\n",
    "\n",
    "*This is a class method*\n",
    "\n",
    "Parameters: MultiMixtureGraphs: List of MultiMixtureGraphs, shared: dictionary, new_name: String \n",
    "\n",
    "This method combines two MultiMixtureGraphs into one. The list of MultiMixtureGraphs is those that you want to combine. It can be more than 2. \"shared\" is of the form string -> list of Compartment names, in which each list of Compartment names index matches to the list of MultiMixtureGraphs given in the previous parameter. This dictionary dictates which compartments should be shared when we are combining two MultiMixtureGraphs (e.g. fusing two cells to have the same cytoplasm). The new_name parameter is what the name of the new MultiMixtureGraph will be. \n",
    "\n",
    "#### compile_crn\n",
    "\n",
    "Compiles the CRN. You can set add_passive_diffusion to True based on a passive_diffusion_dict that details the diffusion rate of specific species. You can also add some univ_rxns as a quick way of adding reactions that can apply to the whole MultiMixtureGraph. "
   ]
  },
  {
   "cell_type": "markdown",
   "id": "f0a37b5b",
   "metadata": {},
   "source": [
    "# Wrappers\n",
    "\n",
    "This class has some additional wrapper functions for ease of use. \n",
    "\n",
    "#### Lattice Wrapper (create_diffusion_lattice)\n",
    "*This is a class method*\n",
    "\n",
    "Parameters: n: int, diffusion_species : List of species, mmg_name : string\n",
    "\n",
    "This class creates an simple n x n lattice of mixtures with species diffusing between them."
   ]
  },
  {
   "cell_type": "markdown",
   "id": "f851669f",
   "metadata": {},
   "source": [
    " ------------\n",
    "\n",
    "# Examples\n"
   ]
  },
  {
   "cell_type": "markdown",
   "id": "4b62f79d",
   "metadata": {},
   "source": [
    " # Diffusion on a Lattice"
   ]
  },
  {
   "cell_type": "markdown",
   "id": "43361db2",
   "metadata": {},
   "source": [
    "Here, a 3x3 lattice is constructed with 9 different mixtures placed into a MultiMixtureGraph and connected to their Moore neighbors (N,S,E,W, and diagonals). They all share a substrate (species s) but no reactions were actively defined between them. However, passive diffusion reacitons were created when the CRN was compiled. Note that the passive diffusion rate is set to 0.2 (arbitrarily). "
   ]
  },
  {
   "cell_type": "code",
   "execution_count": 8,
   "id": "fc878dd6",
   "metadata": {
    "scrolled": false
   },
   "outputs": [
    {
     "name": "stdout",
     "output_type": "stream",
     "text": [
      "PROBLEM1\n"
     ]
    },
    {
     "ename": "ValueError",
     "evalue": "Your mixtures, mixture map, and compartment maps are not consistent!",
     "output_type": "error",
     "traceback": [
      "\u001b[0;31m---------------------------------------------------------------------------\u001b[0m",
      "\u001b[0;31mValueError\u001b[0m                                Traceback (most recent call last)",
      "Input \u001b[0;32mIn [8]\u001b[0m, in \u001b[0;36m<cell line: 16>\u001b[0;34m()\u001b[0m\n\u001b[1;32m     13\u001b[0m mixtures\u001b[38;5;241m.\u001b[39mappend(Mixture(\u001b[38;5;124m\"\u001b[39m\u001b[38;5;124mm8\u001b[39m\u001b[38;5;124m\"\u001b[39m))\n\u001b[1;32m     14\u001b[0m mixtures\u001b[38;5;241m.\u001b[39mappend(Mixture(\u001b[38;5;124m\"\u001b[39m\u001b[38;5;124mm9\u001b[39m\u001b[38;5;124m\"\u001b[39m))\n\u001b[0;32m---> 16\u001b[0m mmg \u001b[38;5;241m=\u001b[39m \u001b[43mMultiMixtureGraph\u001b[49m\u001b[43m(\u001b[49m\u001b[38;5;124;43m\"\u001b[39;49m\u001b[38;5;124;43mmmg\u001b[39;49m\u001b[38;5;124;43m\"\u001b[39;49m\u001b[43m)\u001b[49m\n\u001b[1;32m     18\u001b[0m \u001b[38;5;28;01mfor\u001b[39;00m mixture \u001b[38;5;129;01min\u001b[39;00m mixtures:\n\u001b[1;32m     19\u001b[0m     mixture\u001b[38;5;241m.\u001b[39madd_species(s)\n",
      "File \u001b[0;32m~/opt/anaconda3/lib/python3.9/site-packages/biocrnpyler-1.1.1-py3.9.egg/biocrnpyler/multi_mixture_graph.py:51\u001b[0m, in \u001b[0;36mMultiMixtureGraph.__init__\u001b[0;34m(self, name, mixtures, parameters, parameter_file, compartment_mixture_map, compartment_name_map, mixture_graph, mixtures_no_copy, **kwargs)\u001b[0m\n\u001b[1;32m     48\u001b[0m         mixture_graph[item] \u001b[38;5;241m=\u001b[39m []\n\u001b[1;32m     50\u001b[0m \u001b[38;5;28;01mif\u001b[39;00m \u001b[38;5;28mself\u001b[39m\u001b[38;5;241m.\u001b[39mcheck_consistency() \u001b[38;5;129;01mis\u001b[39;00m \u001b[38;5;28;01mFalse\u001b[39;00m:\n\u001b[0;32m---> 51\u001b[0m     \u001b[38;5;28;01mraise\u001b[39;00m \u001b[38;5;167;01mValueError\u001b[39;00m(\u001b[38;5;124m\"\u001b[39m\u001b[38;5;124mYour mixtures, mixture map, and compartment maps are not consistent!\u001b[39m\u001b[38;5;124m\"\u001b[39m)\n\u001b[1;32m     52\u001b[0m \u001b[38;5;66;03m# TODO \u001b[39;00m\n\u001b[1;32m     53\u001b[0m \u001b[38;5;28mself\u001b[39m\u001b[38;5;241m.\u001b[39mdiffusion_rxns \u001b[38;5;241m=\u001b[39m []\n",
      "\u001b[0;31mValueError\u001b[0m: Your mixtures, mixture map, and compartment maps are not consistent!"
     ]
    }
   ],
   "source": [
    "s = Species(\"substrate\")\n",
    "\n",
    "mixtures = []\n",
    "compartment_names= []\n",
    "\n",
    "mixtures.append(Mixture(\"m1\"))\n",
    "mixtures.append(Mixture(\"m2\"))\n",
    "mixtures.append(Mixture(\"m3\"))\n",
    "mixtures.append(Mixture(\"m4\"))\n",
    "mixtures.append(Mixture(\"m5\"))\n",
    "mixtures.append(Mixture(\"m6\"))\n",
    "mixtures.append(Mixture(\"m7\"))\n",
    "mixtures.append(Mixture(\"m8\"))\n",
    "mixtures.append(Mixture(\"m9\"))\n",
    "\n",
    "mmg = MultiMixtureGraph(\"mmg\")\n",
    "\n",
    "for mixture in mixtures:\n",
    "    mixture.add_species(s)\n",
    "    m, cn, c = mmg.add_mixture(mixture)\n",
    "    compartment_names.append(cn)\n",
    "\n",
    "mmg.connect(compartment_names[0], compartment_names[1], \"diff1\", \"diff1\")\n",
    "mmg.connect(compartment_names[0], compartment_names[4], \"diff2\", \"diff2\")\n",
    "mmg.connect(compartment_names[0], compartment_names[3], \"diff3\", \"diff3\")\n",
    "mmg.connect(compartment_names[1], compartment_names[2], \"diff4\", \"diff4\")\n",
    "mmg.connect(compartment_names[1], compartment_names[3], \"diff5\", \"diff5\")\n",
    "mmg.connect(compartment_names[1], compartment_names[5], \"diff6\", \"diff6\")\n",
    "mmg.connect(compartment_names[2], compartment_names[5], \"diff7\", \"diff7\")\n",
    "mmg.connect(compartment_names[2], compartment_names[4], \"diff8\", \"diff8\")\n",
    "mmg.connect(compartment_names[5], compartment_names[8], \"diff9\", \"diff9\")\n",
    "mmg.connect(compartment_names[5], compartment_names[7], \"diff10\", \"diff10\")\n",
    "mmg.connect(compartment_names[4], compartment_names[8], \"diff11\", \"diff11\")\n",
    "mmg.connect(compartment_names[4], compartment_names[7], \"diff12\", \"diff12\")\n",
    "mmg.connect(compartment_names[4], compartment_names[6], \"diff13\", \"diff13\")\n",
    "mmg.connect(compartment_names[3], compartment_names[7], \"diff14\", \"diff14\")\n",
    "mmg.connect(compartment_names[3], compartment_names[6], \"diff15\", \"diff15\")\n",
    "\n",
    "CRN = mmg.compile_crn(df = 0.2) \n",
    "\n",
    "# print(\"CRN STRING REPRESENTATION: \\n\",CRN, \"\\n\\n\")\n",
    "# print(\"CRN PRETTY-PRINT REPRESENTATION:\\n\",\n",
    "#       CRN.pretty_print(show_rates = True, show_attributes = True, show_materials = True, show_keys = False))\n"
   ]
  },
  {
   "cell_type": "markdown",
   "id": "6babd0f9",
   "metadata": {},
   "source": [
    "To simulate, we plot a representation of the concentrations of s in each mixture. We can see that over time, the mixtures settle to a uniform discribution of concentration, as expected with even diffusion."
   ]
  },
  {
   "cell_type": "code",
   "execution_count": 3,
   "id": "b1e79996",
   "metadata": {
    "scrolled": true
   },
   "outputs": [],
   "source": [
    "timepoints = np.arange(0, 100, 1)\n",
    "x0_dict = {\"substrate_m1_1\": 80.}\n",
    "stochastic = False\n",
    "results = CRN.simulate_with_bioscrape_via_sbml(timepoints, initial_condition_dict = x0_dict, stochastic = stochastic)"
   ]
  },
  {
   "cell_type": "code",
   "execution_count": 5,
   "id": "e75cb8d0",
   "metadata": {
    "scrolled": true
   },
   "outputs": [
    {
     "data": {
      "image/png": "[encoded data removed]",
      "text/plain": [
       "<Figure size 432x288 with 8 Axes>"
      ]
     },
     "metadata": {
      "needs_background": "light"
     },
     "output_type": "display_data"
    }
   ],
   "source": [
    "%matplotlib inline\n",
    "import pylab as plt8u\n",
    "\n",
    "grids = []\n",
    "for i in range(4):\n",
    "    grids.append(np.zeros((3,3)))\n",
    "grid_vals = [0, 2, 5, 10]\n",
    "\n",
    "for i in range(3):\n",
    "    for j in range(3):\n",
    "        for k in range(len(grids)):\n",
    "            grid = grids[k]\n",
    "            grid[i][j] = int(results[\"substrate_m\"+ str(i+j+1)+\"_1\"][grid_vals[k]])\n",
    "       \n",
    "\n",
    "figure, axis = plt.subplots(2, 2)\n",
    "  \n",
    "# For Sine Function\n",
    "\n",
    "grid_c = 0\n",
    "for i in range(2):\n",
    "    for j in range(2):\n",
    "        cb = axis[i, j].pcolormesh(grids[grid_c])\n",
    "        figure.colorbar(cb, ax=axis[i,j])\n",
    "        axis[i,j].set_title(\"At time\" + str(grid_vals[grid_c]))\n",
    "        grid_c += 1\n",
    "        \n",
    "\n",
    "plt.subplots_adjust(left=0.1,\n",
    "                    bottom=0.1, \n",
    "                    right=0.9, \n",
    "                    top=0.9, \n",
    "                    wspace=0.4, \n",
    "                    hspace=0.4)\n",
    "plt.show()\n"
   ]
  },
  {
   "cell_type": "markdown",
   "id": "29e13b51",
   "metadata": {},
   "source": [
    "To see this in a different way, observe in the plot below how all concentrations converge to the same level, which is consistent with what happens in passive diffusion. "
   ]
  },
  {
   "cell_type": "code",
   "execution_count": 5,
   "id": "d426332e",
   "metadata": {
    "scrolled": true
   },
   "outputs": [],
   "source": [
    "timepoints = np.arange(0, 50, .01)\n",
    "x0_dict = {\"substrate_m1_1\": 40., \"substrate_m2_1\": 5., \"substrate_m3_1\": 0., \"substrate_m4_1\": 100., \n",
    "           \"substrate_m5_1\": 25.,\"substrate_m6_1\": 2., \"substrate_m7_1\": 75.,\"substrate_m8_1\": 60., \n",
    "           \"substrate_m9_1\": 10.}\n",
    "stochastic = False\n",
    "results2 = CRN.simulate_with_bioscrape_via_sbml(timepoints, initial_condition_dict = x0_dict, stochastic = stochastic)"
   ]
  },
  {
   "cell_type": "code",
   "execution_count": 6,
   "id": "329112bc",
   "metadata": {
    "scrolled": true
   },
   "outputs": [
    {
     "data": {
      "image/png": "[encoded data removed]",
      "text/plain": [
       "<Figure size 432x288 with 1 Axes>"
      ]
     },
     "metadata": {
      "needs_background": "light"
     },
     "output_type": "display_data"
    }
   ],
   "source": [
    "if results2 is not None:\n",
    "    plt.plot(timepoints, results2[\"substrate_m1_1\"],label = \"Lattice Point 1\")\n",
    "    plt.plot(timepoints, results2[\"substrate_m2_1\"],label = \"Lattice Point 2\")\n",
    "    plt.plot(timepoints, results2[\"substrate_m3_1\"],label = \"Lattice Point 3\")\n",
    "    plt.plot(timepoints, results2[\"substrate_m4_1\"],label = \"Lattice Point 4\")\n",
    "    plt.plot(timepoints, results2[\"substrate_m5_1\"],label = \"Lattice Point 5\")\n",
    "    plt.plot(timepoints, results2[\"substrate_m6_1\"],label = \"Lattice Point 6\")\n",
    "    plt.plot(timepoints, results2[\"substrate_m7_1\"],label = \"Lattice Point 7\")\n",
    "    plt.plot(timepoints, results2[\"substrate_m8_1\"],label = \"Lattice Point 8\")\n",
    "    plt.plot(timepoints, results2[\"substrate_m9_1\"],label = \"Lattice Point 9\")\n",
    "    plt.xlabel(\"Time\")\n",
    "    plt.ylabel(\"Concentration\")\n",
    "    plt.title(\"Diffusion over a 3x3 lattice with various initial concentrations across the lattice\")\n",
    "\n",
    "    plt.legend(loc='center left', bbox_to_anchor=(1, 0.5))"
   ]
  },
  {
   "cell_type": "markdown",
   "id": "68240273",
   "metadata": {},
   "source": [
    "# Membrane Transport"
   ]
  },
  {
   "cell_type": "markdown",
   "id": "bc0f3877",
   "metadata": {},
   "source": [
    "Here, we simulate a substrate being transported through a membrane via a protein transporter. This MultiMixtureGraph contains three mixtures: one for an internal environment, one for an external environment, and one for a membrane containing the protein transporter.\n",
    "\n",
    "The protien-transporter mixture utilizes a membrane-transport component and mechanism. \n",
    "\n",
    "This examples also includes the way compartments were utilized before MultiMixtureGraph was created (Compartments were assigned to species) to show how this can be integraded into the new functionality of Compartments. \n",
    "\n",
    "Additional species T and V act as \"controls\" that are not transported across the membrane. \n"
   ]
  },
  {
   "cell_type": "code",
   "execution_count": 2,
   "id": "a6bb3d9f",
   "metadata": {
    "scrolled": true
   },
   "outputs": [],
   "source": [
    "class MembraneTransport(Mechanism):\n",
    "    def __init__(self, name, transport_protein, type = \"transport_with_protein\", **keywords):\n",
    "        if isinstance(transport_protein, Species):\n",
    "            self.transport_protein = transport_protein\n",
    "        else:\n",
    "            raise ValueError(\"'transport_protein' must be a Species!\")\n",
    "        Mechanism.__init__(self = self, name = name, mechanism_type = type, **keywords)\n",
    "        \n",
    "    def update_species(self, int_species, ext_species):\n",
    "        species = [int_species, ext_species, self.transport_protein]\n",
    "        species += [Complex([int_species, self.transport_protein])]\n",
    "        return species\n",
    "        \n",
    "    def update_reactions(self, int_species, ext_species, component, part_id = None):\n",
    "        kb =(component.get_parameter(\"kb\", part_id = part_id, mechanism  = self)).value\n",
    "        ku = (component.get_parameter(\"ku\", part_id = part_id, mechanism = self)).value\n",
    "        kt = (component.get_parameter(\"kt\", part_id = part_id, mechanism = self)).value\n",
    "        \n",
    "    \n",
    "        comp = Complex([int_species, self.transport_protein])\n",
    "        \n",
    "        binding_rxn = Reaction.from_massaction(inputs=[int_species, self.transport_protein], outputs=[comp], k_forward=kb, k_reverse=ku)\n",
    "        transport_rxn = Reaction.from_massaction(inputs=[comp], outputs=[self.transport_protein, ext_species], k_forward=kt)\n",
    "    \n",
    "        return [binding_rxn, transport_rxn]\n",
    "    \n",
    "    \n",
    "class MembraneTransportProtein(Component):\n",
    "    \n",
    "    def __init__(self, name, int_m, ext_m, transport_prot, **keywords):\n",
    "        self.internal = self.set_species(int_m, material_type = \"molecule\")\n",
    "        self.external = self.set_species(ext_m, material_type = \"molecule\")\n",
    "        self.transport_protien = self.set_species(transport_prot, material_type = \"protien\")\n",
    "        Component.__init__(self = self, name = name, **keywords)\n",
    "    \n",
    "    def update_species(self):\n",
    "        mech_transport = self.get_mechanism(\"transport_with_protein\")\n",
    "        return mech_transport.update_species(self.internal, self.external)\n",
    "    \n",
    "    def update_reactions(self):\n",
    "        mech_transport = self.get_mechanism(\"transport_with_protein\")\n",
    "        return mech_transport.update_reactions(self.internal, self.external, component = self, part_id = self.name)"
   ]
  },
  {
   "cell_type": "code",
   "execution_count": 3,
   "id": "b5379ff9",
   "metadata": {
    "scrolled": true
   },
   "outputs": [
    {
     "name": "stdout",
     "output_type": "stream",
     "text": [
      "internal_mx\n",
      "external_mx\n",
      "transport_mixture\n",
      "CRN STRING REPRESENTATION: \n",
      " Species = substrate_internal, t_internal, substrate_external, v_external, protein_transport_prot_membrane_1, complex_protein_transport_prot_membrane_1_substrate_internal_membrane_1_, complex_protein_transport_prot_membrane_1_substrate_internal_\n",
      "Reactions = [\n",
      "\tsubstrate+protein[transport_prot] <--> complex[protein[transport_prot]:substrate]\n",
      "\tcomplex[protein[transport_prot]:substrate] --> protein[transport_prot]+substrate\n",
      "] \n",
      "\n",
      "\n",
      "CRN PRETTY-PRINT REPRESENTATION:\n",
      " Species(N = 7) = {\n",
      "v (@ 0),  protein[transport_prot] (@ 0),  t (@ 0),  substrate (@ 0),  substrate (@ 0),  complex[protein[transport_prot]:substrate] (@ 0),  complex[protein[transport_prot]:substrate] (@ 0),  \n",
      "}\n",
      "\n",
      "Reactions (2) = [\n",
      "0. substrate+protein[transport_prot] <--> complex[protein[transport_prot]:substrate]\n",
      " Kf=k_forward * substrate_internal * protein_transport_prot_membrane_1\n",
      " Kr=k_reverse * complex_protein_transport_prot_membrane_1_substrate_internal_\n",
      "  k_forward=0.3\n",
      "  k_reverse=0.7\n",
      "\n",
      "1. complex[protein[transport_prot]:substrate] --> protein[transport_prot]+substrate\n",
      " Kf=k_forward * complex_protein_transport_prot_membrane_1_substrate_internal_\n",
      "  k_forward=0.5\n",
      "\n",
      "]\n"
     ]
    }
   ],
   "source": [
    "internal = Compartment(\"internal\")\n",
    "external = Compartment(\"external\")\n",
    "s_int = Species(\"substrate\", compartment = internal)\n",
    "s_ext = Species(\"substrate\", compartment = external)\n",
    "t = Species(\"t\")\n",
    "v = Species (\"v\")\n",
    "\n",
    "M_int = Mixture(\"internal_mx\")\n",
    "M_int.add_species(s_int)\n",
    "M_int.add_species(t)\n",
    "M_ext = Mixture(\"external_mx\")\n",
    "M_ext.add_species(s_ext)\n",
    "M_ext.add_species(v)\n",
    "\n",
    "transport_protein = Species(\"transport_prot\", material_type = \"protein\")\n",
    "\n",
    "params = {\"kb\": 0.3, \"ku\": 0.7, \"kt\": 0.5} # arbitrary\n",
    "\n",
    "mechanism = MembraneTransport(\"transport_with_protein\", transport_protein) \n",
    "transport_molecules =  MembraneTransportProtein(\"membrane1\", s_int, s_ext, transport_protein, parameters = params)\n",
    "M_memb = Mixture(\"transport_mixture\", components = [transport_molecules], parameters = params, mechanisms = mechanism)\n",
    "\n",
    "\n",
    "mmg = MultiMixtureGraph(\"membrane_transport_graph\")\n",
    "m1, cn1, c1 = mmg.add_mixture(M_int, compartment = internal)\n",
    "m2, cn2, c2 = mmg.add_mixture(M_ext, compartment = external)\n",
    "m3, cn3, c3 = mmg.add_mixture(M_memb, compartment = \"membrane\")\n",
    "mmg.connect(cn1, cn3, \"external_membrane\", \"internal\")\n",
    "mmg.connect(cn2, cn3, \"internal_membrane\", \"exernal\")\n",
    "\n",
    "\n",
    "CRN2 = mmg.compile_crn(add_passive_diffusion = False)\n",
    "\n",
    "print(\"CRN STRING REPRESENTATION: \\n\", CRN2, \"\\n\\n\")\n",
    "print(\"CRN PRETTY-PRINT REPRESENTATION:\\n\",\n",
    "      CRN2.pretty_print(show_rates = True, show_attributes = True, show_materials = True, show_keys = False))\n"
   ]
  },
  {
   "cell_type": "markdown",
   "id": "7ed93f58",
   "metadata": {},
   "source": [
    "Now, we simulate deterministically. As you can see, the amount of internal substrate decreases as it is transported across the membrane and transformed to external substrate. Levels of T and V stay constant, and the amount of bound + unbound probe stays constant. This is all what we expect. "
   ]
  },
  {
   "cell_type": "code",
   "execution_count": 4,
   "id": "b501bf05",
   "metadata": {
    "scrolled": true
   },
   "outputs": [],
   "source": [
    "timepoints = np.arange(0, 500, .01)\n",
    "x0_dict = {\"substrate_internal\": 50., \"protein_transport_prot_membrane_1\": 1., \"t_internal\": 15., \"v_external\": 10., \"substrate_external\": 0.}\n",
    "stochastic = False\n",
    "results3 = CRN2.simulate_with_bioscrape_via_sbml(timepoints, initial_condition_dict = x0_dict, stochastic = stochastic)"
   ]
  },
  {
   "cell_type": "code",
   "execution_count": 5,
   "id": "9279eabc",
   "metadata": {
    "scrolled": true
   },
   "outputs": [
    {
     "data": {
      "image/png": "[encoded data removed]",
      "text/plain": [
       "<Figure size 432x288 with 1 Axes>"
      ]
     },
     "metadata": {
      "needs_background": "light"
     },
     "output_type": "display_data"
    }
   ],
   "source": [
    "if results3 is not None:\n",
    "    plt.plot(timepoints, results3[\"substrate_internal\"],label = \"Internal Substrate\")\n",
    "    plt.plot(timepoints, results3[\"substrate_external\"],label = \"External Substrate\")\n",
    "    plt.plot(timepoints, results3[\"protein_transport_prot_membrane_1\"],label = \"Unbound Transport Protein\")\n",
    "    plt.plot(timepoints, results3[\"t_internal\"],label = \"T substrate\")\n",
    "    plt.plot(timepoints, results3[\"v_external\"],label = \"V substrate\")\n",
    "    plt.plot(timepoints, results3[\"complex_protein_transport_prot_membrane_1_substrate_internal_\"],label = \"Bound Transport Protein\")\n",
    "    \n",
    "    plt.xlabel(\"Time\")\n",
    "    plt.ylabel(\"Concentration\")\n",
    "    plt.title(\"Membrane Transport Reaction\")\n",
    "    plt.legend(loc='center left', bbox_to_anchor=(1, 0.5))\n"
   ]
  },
  {
   "cell_type": "markdown",
   "id": "e3f4b16c",
   "metadata": {},
   "source": [
    "# Lattice Wrapper"
   ]
  },
  {
   "cell_type": "markdown",
   "id": "ede32f01",
   "metadata": {},
   "source": [
    "Instead of manually creating a lattice, the user can use the lattice wrapper which automatically creates an n x n diffusion lattice. It can be modified, or compiled right away. As you can see, it allows for the practical creation of many more mixtures in a lattice. For example, below I create a lattice with 100 mixtures."
   ]
  },
  {
   "cell_type": "code",
   "execution_count": 6,
   "id": "8d2369cf",
   "metadata": {
    "scrolled": true
   },
   "outputs": [
    {
     "name": "stdout",
     "output_type": "stream",
     "text": [
      "PROBLEM1\n"
     ]
    },
    {
     "ename": "ValueError",
     "evalue": "Your mixtures, mixture map, and compartment maps are not consistent!",
     "output_type": "error",
     "traceback": [
      "\u001b[0;31m---------------------------------------------------------------------------\u001b[0m",
      "\u001b[0;31mValueError\u001b[0m                                Traceback (most recent call last)",
      "Input \u001b[0;32mIn [6]\u001b[0m, in \u001b[0;36m<cell line: 2>\u001b[0;34m()\u001b[0m\n\u001b[1;32m      1\u001b[0m n \u001b[38;5;241m=\u001b[39m \u001b[38;5;241m10\u001b[39m\n\u001b[0;32m----> 2\u001b[0m mmg\u001b[38;5;241m=\u001b[39m \u001b[43mMultiMixtureGraph\u001b[49m\u001b[43m(\u001b[49m\u001b[38;5;124;43m\"\u001b[39;49m\u001b[38;5;124;43mtest_lattice_wrapper\u001b[39;49m\u001b[38;5;124;43m\"\u001b[39;49m\u001b[43m)\u001b[49m\n\u001b[1;32m      3\u001b[0m specs \u001b[38;5;241m=\u001b[39m [Species(\u001b[38;5;124m\"\u001b[39m\u001b[38;5;124msubstrate\u001b[39m\u001b[38;5;124m\"\u001b[39m)]\n\u001b[1;32m      4\u001b[0m mmg_lattice \u001b[38;5;241m=\u001b[39m mmg\u001b[38;5;241m.\u001b[39mcreate_diffusion_lattice(n, specs, \u001b[38;5;124m\"\u001b[39m\u001b[38;5;124mtest_lattice_wrapper\u001b[39m\u001b[38;5;124m\"\u001b[39m)\n",
      "File \u001b[0;32m~/opt/anaconda3/lib/python3.9/site-packages/biocrnpyler-1.1.1-py3.9.egg/biocrnpyler/multi_mixture_graph.py:51\u001b[0m, in \u001b[0;36mMultiMixtureGraph.__init__\u001b[0;34m(self, name, mixtures, parameters, parameter_file, compartment_mixture_map, compartment_name_map, mixture_graph, mixtures_no_copy, **kwargs)\u001b[0m\n\u001b[1;32m     48\u001b[0m         mixture_graph[item] \u001b[38;5;241m=\u001b[39m []\n\u001b[1;32m     50\u001b[0m \u001b[38;5;28;01mif\u001b[39;00m \u001b[38;5;28mself\u001b[39m\u001b[38;5;241m.\u001b[39mcheck_consistency() \u001b[38;5;129;01mis\u001b[39;00m \u001b[38;5;28;01mFalse\u001b[39;00m:\n\u001b[0;32m---> 51\u001b[0m     \u001b[38;5;28;01mraise\u001b[39;00m \u001b[38;5;167;01mValueError\u001b[39;00m(\u001b[38;5;124m\"\u001b[39m\u001b[38;5;124mYour mixtures, mixture map, and compartment maps are not consistent!\u001b[39m\u001b[38;5;124m\"\u001b[39m)\n\u001b[1;32m     52\u001b[0m \u001b[38;5;66;03m# TODO \u001b[39;00m\n\u001b[1;32m     53\u001b[0m \u001b[38;5;28mself\u001b[39m\u001b[38;5;241m.\u001b[39mdiffusion_rxns \u001b[38;5;241m=\u001b[39m []\n",
      "\u001b[0;31mValueError\u001b[0m: Your mixtures, mixture map, and compartment maps are not consistent!"
     ]
    }
   ],
   "source": [
    "n = 10\n",
    "mmg= MultiMixtureGraph(\"test_lattice_wrapper\")\n",
    "specs = [Species(\"substrate\")]\n",
    "mmg_lattice = mmg.create_diffusion_lattice(n, specs, \"test_lattice_wrapper\")"
   ]
  },
  {
   "cell_type": "code",
   "execution_count": 7,
   "id": "e95979f9",
   "metadata": {
    "scrolled": true
   },
   "outputs": [
    {
     "ename": "NameError",
     "evalue": "name 'mmg_lattice' is not defined",
     "output_type": "error",
     "traceback": [
      "\u001b[0;31m---------------------------------------------------------------------------\u001b[0m",
      "\u001b[0;31mNameError\u001b[0m                                 Traceback (most recent call last)",
      "Input \u001b[0;32mIn [7]\u001b[0m, in \u001b[0;36m<cell line: 1>\u001b[0;34m()\u001b[0m\n\u001b[0;32m----> 1\u001b[0m CRN3 \u001b[38;5;241m=\u001b[39m \u001b[43mmmg_lattice\u001b[49m\u001b[38;5;241m.\u001b[39mcompile_crn(df \u001b[38;5;241m=\u001b[39m \u001b[38;5;241m0.2\u001b[39m)\n",
      "\u001b[0;31mNameError\u001b[0m: name 'mmg_lattice' is not defined"
     ]
    }
   ],
   "source": [
    "CRN3 = mmg_lattice.compile_crn(df = 0.2) "
   ]
  },
  {
   "cell_type": "code",
   "execution_count": 7,
   "id": "f6cb8e91",
   "metadata": {
    "scrolled": true
   },
   "outputs": [
    {
     "ename": "NameError",
     "evalue": "name 'CRN3' is not defined",
     "output_type": "error",
     "traceback": [
      "\u001b[0;31m---------------------------------------------------------------------------\u001b[0m",
      "\u001b[0;31mNameError\u001b[0m                                 Traceback (most recent call last)",
      "Input \u001b[0;32mIn [7]\u001b[0m, in \u001b[0;36m<cell line: 4>\u001b[0;34m()\u001b[0m\n\u001b[1;32m      2\u001b[0m x0_dict \u001b[38;5;241m=\u001b[39m {\u001b[38;5;124m\"\u001b[39m\u001b[38;5;124msubstrate_m1_1\u001b[39m\u001b[38;5;124m\"\u001b[39m: \u001b[38;5;241m150.\u001b[39m}\n\u001b[1;32m      3\u001b[0m stochastic \u001b[38;5;241m=\u001b[39m \u001b[38;5;28;01mFalse\u001b[39;00m\n\u001b[0;32m----> 4\u001b[0m results \u001b[38;5;241m=\u001b[39m \u001b[43mCRN3\u001b[49m\u001b[38;5;241m.\u001b[39msimulate_with_bioscrape_via_sbml(timepoints, initial_condition_dict \u001b[38;5;241m=\u001b[39m x0_dict, stochastic \u001b[38;5;241m=\u001b[39m stochastic)\n",
      "\u001b[0;31mNameError\u001b[0m: name 'CRN3' is not defined"
     ]
    }
   ],
   "source": [
    "timepoints = np.arange(0, 500, 1)\n",
    "x0_dict = {\"substrate_m1_1\": 150.}\n",
    "stochastic = False\n",
    "results = CRN3.simulate_with_bioscrape_via_sbml(timepoints, initial_condition_dict = x0_dict, stochastic = stochastic)"
   ]
  },
  {
   "cell_type": "code",
   "execution_count": 14,
   "id": "69b52e89",
   "metadata": {
    "scrolled": true
   },
   "outputs": [
    {
     "data": {
      "image/png": "[encoded data removed]",
      "text/plain": [
       "<Figure size 432x288 with 16 Axes>"
      ]
     },
     "metadata": {
      "needs_background": "light"
     },
     "output_type": "display_data"
    }
   ],
   "source": [
    "num_plots = 8\n",
    "grids = []\n",
    "for i in range(num_plots):\n",
    "    grids.append(np.zeros((n,n)))\n",
    "grid_vals = [0, 10, 20, 30, 40, 50, 70, 90]\n",
    "\n",
    "for i in range(n):\n",
    "    for j in range(n):\n",
    "        for k in range(len(grids)):\n",
    "            grid = grids[k]\n",
    "            grid[i][j] = int(results[\"substrate_m\" + str(i+j+1)+ \"_1\"][grid_vals[k]])\n",
    "       \n",
    "\n",
    "figure, axis = plt.subplots(int(num_plots/2), 2)\n",
    "  \n",
    "# For Sine Function\n",
    "\n",
    "grid_c = 0\n",
    "for i in range(int(num_plots/2)):\n",
    "    for j in range(2):\n",
    "        cb = axis[i, j].pcolormesh(grids[grid_c])\n",
    "        figure.colorbar(cb, ax=axis[i,j])\n",
    "        axis[i,j].set_title(\"At time \" + str(grid_vals[grid_c]))\n",
    "        grid_c += 1\n",
    "        \n",
    "\n",
    "plt.subplots_adjust(left=0.1,\n",
    "                    bottom=0.1, \n",
    "                    right=0.9, \n",
    "                    top=0.9, \n",
    "                    wspace=.6, \n",
    "                    hspace=.6)\n",
    "plt.rcParams[\"figure.figsize\"] = (6, 6)\n",
    "plt.show()"
   ]
  },
  {
   "cell_type": "markdown",
   "id": "0835bbaa",
   "metadata": {},
   "source": [
    "# Combining two MultiMixtureGraph objects\n",
    "\n",
    "The example is an extremely simple example to show how combining two MultiMixtureGraphs would work. Here, there are two MultiMixtureGraphs with a cytoplasm and internal vesicle. They are combined to share the same cytoplasm, resulting in two vesicles in one cytoplasm"
   ]
  },
  {
   "cell_type": "code",
   "execution_count": 15,
   "id": "3fc4a4f0",
   "metadata": {},
   "outputs": [
    {
     "name": "stdout",
     "output_type": "stream",
     "text": [
      "{'cytoplasm': Mixture: cytoplasm\n",
      " }\n",
      "Compartment = {cytoplasm_1 }, 'm1_1': Mixture: m1\n",
      " }\n",
      "Compartment = {m1_1 }, 'm2_1': Mixture: m2\n",
      " }\n",
      "Compartment = {m2_1 }, 'm3_1': Mixture: m3\n",
      " }\n",
      "Compartment = {m3_1 }, 'm4_1': Mixture: m4\n",
      " }\n",
      "Compartment = {m4_1 }, 'm5_1': Mixture: m5\n",
      " }\n",
      "Compartment = {m5_1 }, 'm6_1': Mixture: m6\n",
      " }\n",
      "Compartment = {m6_1 }, 'm7_1': Mixture: m7\n",
      " }\n",
      "Compartment = {m7_1 }, 'm8_1': Mixture: m8\n",
      " }\n",
      "Compartment = {m8_1 }, 'm9_1': Mixture: m9\n",
      " }\n",
      "Compartment = {m9_1 }, 'internal': Mixture: internal_mx\n",
      " }\n",
      "Compartment = {internal }, 'external': Mixture: external_mx\n",
      " }\n",
      "Compartment = {external }, 'membrane_1': Mixture: transport_mixture\n",
      "Components = [\n",
      "\tMembraneTransportProtein: membrane1 ]\n",
      "Mechanisms = {\n",
      "\ttransport_with_protein:transport_with_protein }\n",
      "Compartment = {membrane_1 }, 'vesicle_1': Mixture: vesicle\n",
      " }\n",
      "Compartment = {vesicle_1 }, 'm1_1_1': Mixture: m1\n",
      " }\n",
      "Compartment = {m1_1 }, 'm2_1_1': Mixture: m2\n",
      " }\n",
      "Compartment = {m2_1 }, 'm3_1_1': Mixture: m3\n",
      " }\n",
      "Compartment = {m3_1 }, 'm4_1_1': Mixture: m4\n",
      " }\n",
      "Compartment = {m4_1 }, 'm5_1_1': Mixture: m5\n",
      " }\n",
      "Compartment = {m5_1 }, 'm6_1_1': Mixture: m6\n",
      " }\n",
      "Compartment = {m6_1 }, 'm7_1_1': Mixture: m7\n",
      " }\n",
      "Compartment = {m7_1 }, 'm8_1_1': Mixture: m8\n",
      " }\n",
      "Compartment = {m8_1 }, 'm9_1_1': Mixture: m9\n",
      " }\n",
      "Compartment = {m9_1 }, 'internal_1': Mixture: internal_mx\n",
      " }\n",
      "Compartment = {internal }, 'external_1': Mixture: external_mx\n",
      " }\n",
      "Compartment = {external }, 'membrane_1_1': Mixture: transport_mixture\n",
      "Components = [\n",
      "\tMembraneTransportProtein: membrane1 ]\n",
      "Mechanisms = {\n",
      "\ttransport_with_protein:transport_with_protein }\n",
      "Compartment = {membrane_1 }, 'vesicle_1_1': Mixture: vesicle\n",
      " }\n",
      "Compartment = {vesicle_1 }}\n",
      "cytoplasm\n",
      "m1\n",
      "m2\n",
      "m3\n",
      "m4\n",
      "m5\n",
      "m6\n",
      "m7\n",
      "m8\n",
      "m9\n",
      "internal_mx\n",
      "external_mx\n",
      "transport_mixture\n",
      "vesicle\n",
      "m1\n",
      "m2\n",
      "m3\n",
      "m4\n",
      "m5\n",
      "m6\n",
      "m7\n",
      "m8\n",
      "m9\n",
      "internal_mx\n",
      "external_mx\n",
      "transport_mixture\n",
      "vesicle\n",
      "Mixture: cytoplasm\n",
      "Mixture: m1\n",
      "Mixture: m2\n",
      "Mixture: m5\n",
      "Mixture: m4\n",
      "Mixture: m3\n",
      "Mixture: m6\n",
      "Mixture: m8\n",
      "Mixture: m7\n",
      "Mixture: m9\n",
      "Mixture: internal_mx\n",
      "Mixture: transport_mixture\n",
      "Mixture: external_mx\n",
      "Mixture: vesicle\n",
      "passive diffusion added\n"
     ]
    }
   ],
   "source": [
    "\n",
    "vesicle = Mixture(\"vesicle\")\n",
    "cytoplasm = Mixture(\"cytoplasm\")\n",
    "\n",
    "# The first MultiMixtureGraph\n",
    "mmg1 = MultiMixtureGraph(\"mmg1\")\n",
    "m1, cn1, c1 = mmg1.add_mixture(vesicle)\n",
    "m2, cn2, c2 = mmg1.add_mixture(cytoplasm)\n",
    "mmg1.connect(cn1, cn2, \"external\", \"vesicle\")\n",
    "\n",
    "# The second MultiMixtureGraph\n",
    "mmg2 = MultiMixtureGraph(\"mmg2\")\n",
    "m3, cn3, c3 = mmg2.add_mixture(vesicle)\n",
    "m4, cn4, c4 = mmg2.add_mixture(cytoplasm)\n",
    "mmg2.connect(cn3, cn4, \"external\", \"vesicle\")\n",
    "\n",
    "\n",
    "# combining \n",
    "mmg3 = MultiMixtureGraph.combine_multi_mixture_graph([mmg1, mmg2], shared = {\"cytoplasm\": [cn2, cn4]}, new_name = \"mmg3\")\n",
    "print(mmg3.compartment_mixture_map)\n",
    "\n",
    "combined_crn = mmg3.compile_crn(mmg3)\n"
   ]
  },
  {
   "cell_type": "markdown",
   "id": "10f6b3ba",
   "metadata": {},
   "source": [
    "As we can see, the result is a MultiMixtureGraph with one cytoplasm and two unique vesicles. "
   ]
  },
  {
   "cell_type": "markdown",
   "id": "4b4346b4",
   "metadata": {},
   "source": [
    "# UNDER CONSTRUCTION: Turing Patterns\n",
    "\n",
    "Plan for this:\n",
    "\n",
    "P -> 2P + S\n",
    "S+ P -> S\n",
    "\n",
    "s diffuses faster than p "
   ]
  },
  {
   "cell_type": "code",
   "execution_count": 8,
   "id": "2f60b46c",
   "metadata": {},
   "outputs": [
    {
     "ename": "ValueError",
     "evalue": "Your mixtures, mixture map, and compartment maps are not consistent!",
     "output_type": "error",
     "traceback": [
      "\u001b[0;31m---------------------------------------------------------------------------\u001b[0m",
      "\u001b[0;31mValueError\u001b[0m                                Traceback (most recent call last)",
      "Input \u001b[0;32mIn [8]\u001b[0m, in \u001b[0;36m<cell line: 8>\u001b[0;34m()\u001b[0m\n\u001b[1;32m      5\u001b[0m dp \u001b[38;5;241m=\u001b[39m \u001b[38;5;241m.3\u001b[39m\n\u001b[1;32m      7\u001b[0m specs \u001b[38;5;241m=\u001b[39m [S, P]\n\u001b[0;32m----> 8\u001b[0m mmg \u001b[38;5;241m=\u001b[39m \u001b[43mMultiMixtureGraph\u001b[49m\u001b[38;5;241;43m.\u001b[39;49m\u001b[43mcreate_diffusion_lattice\u001b[49m\u001b[43m(\u001b[49m\u001b[43mn\u001b[49m\u001b[43m,\u001b[49m\u001b[43m \u001b[49m\u001b[43mspecs\u001b[49m\u001b[43m,\u001b[49m\u001b[43m \u001b[49m\u001b[38;5;124;43m\"\u001b[39;49m\u001b[38;5;124;43mtest_lattice_wrapper\u001b[39;49m\u001b[38;5;124;43m\"\u001b[39;49m\u001b[43m)\u001b[49m\n\u001b[1;32m      9\u001b[0m rxn1 \u001b[38;5;241m=\u001b[39m Reaction\u001b[38;5;241m.\u001b[39mfrom_massaction(inputs\u001b[38;5;241m=\u001b[39m[P], outputs\u001b[38;5;241m=\u001b[39m[S, P, P], k_forward\u001b[38;5;241m=\u001b[39m\u001b[38;5;241m1\u001b[39m, k_reverse\u001b[38;5;241m=\u001b[39m\u001b[38;5;241m0.01\u001b[39m)\n\u001b[1;32m     10\u001b[0m rxn2 \u001b[38;5;241m=\u001b[39m Reaction\u001b[38;5;241m.\u001b[39mfrom_massaction(inputs\u001b[38;5;241m=\u001b[39m[S, P], outputs\u001b[38;5;241m=\u001b[39m[S], k_forward\u001b[38;5;241m=\u001b[39m\u001b[38;5;241m1\u001b[39m, k_reverse\u001b[38;5;241m=\u001b[39m\u001b[38;5;241m0.01\u001b[39m)\n",
      "File \u001b[0;32m~/opt/anaconda3/lib/python3.9/site-packages/biocrnpyler-1.1.1-py3.9.egg/biocrnpyler/multi_mixture_graph.py:382\u001b[0m, in \u001b[0;36mMultiMixtureGraph.create_diffusion_lattice\u001b[0;34m(cls, n, diffusion_species, mmg_name)\u001b[0m\n\u001b[1;32m    380\u001b[0m \u001b[38;5;28;01mfor\u001b[39;00m i \u001b[38;5;129;01min\u001b[39;00m \u001b[38;5;28mrange\u001b[39m(n \u001b[38;5;241m*\u001b[39m n):\n\u001b[1;32m    381\u001b[0m     new_mixtures\u001b[38;5;241m.\u001b[39mappend(Mixture(\u001b[38;5;124m\"\u001b[39m\u001b[38;5;124mm\u001b[39m\u001b[38;5;124m\"\u001b[39m \u001b[38;5;241m+\u001b[39m \u001b[38;5;28mstr\u001b[39m(i\u001b[38;5;241m+\u001b[39m\u001b[38;5;241m1\u001b[39m)))\n\u001b[0;32m--> 382\u001b[0m mmg \u001b[38;5;241m=\u001b[39m \u001b[38;5;28;43mcls\u001b[39;49m\u001b[43m(\u001b[49m\u001b[43mmmg_name\u001b[49m\u001b[43m)\u001b[49m\n\u001b[1;32m    383\u001b[0m mmg\u001b[38;5;241m.\u001b[39mmixture_graph \u001b[38;5;241m=\u001b[39m {}\n\u001b[1;32m    384\u001b[0m mmg\u001b[38;5;241m.\u001b[39mcompartment_mixture_map \u001b[38;5;241m=\u001b[39m {}\n",
      "File \u001b[0;32m~/opt/anaconda3/lib/python3.9/site-packages/biocrnpyler-1.1.1-py3.9.egg/biocrnpyler/multi_mixture_graph.py:51\u001b[0m, in \u001b[0;36mMultiMixtureGraph.__init__\u001b[0;34m(self, name, mixtures, parameters, parameter_file, compartment_mixture_map, compartment_name_map, mixture_graph, mixtures_no_copy, **kwargs)\u001b[0m\n\u001b[1;32m     48\u001b[0m         mixture_graph[item] \u001b[38;5;241m=\u001b[39m []\n\u001b[1;32m     50\u001b[0m \u001b[38;5;28;01mif\u001b[39;00m \u001b[38;5;28mself\u001b[39m\u001b[38;5;241m.\u001b[39mcheck_consistency() \u001b[38;5;129;01mis\u001b[39;00m \u001b[38;5;28;01mFalse\u001b[39;00m:\n\u001b[0;32m---> 51\u001b[0m     \u001b[38;5;28;01mraise\u001b[39;00m \u001b[38;5;167;01mValueError\u001b[39;00m(\u001b[38;5;124m\"\u001b[39m\u001b[38;5;124mYour mixtures, mixture map, and compartment maps are not consistent!\u001b[39m\u001b[38;5;124m\"\u001b[39m)\n\u001b[1;32m     52\u001b[0m \u001b[38;5;66;03m# TODO \u001b[39;00m\n\u001b[1;32m     53\u001b[0m \u001b[38;5;28mself\u001b[39m\u001b[38;5;241m.\u001b[39mdiffusion_rxns \u001b[38;5;241m=\u001b[39m []\n",
      "\u001b[0;31mValueError\u001b[0m: Your mixtures, mixture map, and compartment maps are not consistent!"
     ]
    }
   ],
   "source": [
    "n = 2\n",
    "S = Species(\"S\")\n",
    "P = Species(\"P\")\n",
    "ds = .5\n",
    "dp = .3\n",
    "\n",
    "specs = [S, P]\n",
    "mmg = MultiMixtureGraph.create_diffusion_lattice(n, specs, \"test_lattice_wrapper\")\n",
    "rxn1 = Reaction.from_massaction(inputs=[P], outputs=[S, P, P], k_forward=1, k_reverse=0.01)\n",
    "rxn2 = Reaction.from_massaction(inputs=[S, P], outputs=[S], k_forward=1, k_reverse=0.01)\n",
    "# for mixture in mmg.mixtures: \n",
    "    \n",
    "\n",
    "# add reactions\n",
    "passive_diffusion_dict = {S: ds, P: dp}\n",
    "\n",
    "crn_turing = mmg.compile_crn(add_passive_diffusion = True, passive_diffusion_dict = passive_diffusion_dict, univ_rxns = [rxn1, rxn2])\n"
   ]
  },
  {
   "cell_type": "code",
   "execution_count": 17,
   "id": "3159abf6",
   "metadata": {},
   "outputs": [
    {
     "name": "stdout",
     "output_type": "stream",
     "text": [
      "CRN STRING REPRESENTATION: \n",
      " Species = S_m1_1, P_m1_1, S_m2_1, P_m2_1, S_m3_1, P_m3_1, S_m4_1, P_m4_1, P, S\n",
      "Reactions = [\n",
      "\tP <--> S+2P\n",
      "\tS+P <--> S\n",
      "\tP <--> S+2P\n",
      "\tS+P <--> S\n",
      "\tP <--> S+2P\n",
      "\tS+P <--> S\n",
      "\tP <--> S+2P\n",
      "\tS+P <--> S\n",
      "\tS <--> S\n",
      "\tP <--> P\n",
      "\tS <--> S\n",
      "\tP <--> P\n",
      "\tS <--> S\n",
      "\tP <--> P\n",
      "\tS <--> S\n",
      "\tP <--> P\n",
      "\tS <--> S\n",
      "\tP <--> P\n",
      "\tS <--> S\n",
      "\tP <--> P\n",
      "\tS <--> S\n",
      "\tP <--> P\n",
      "\tS <--> S\n",
      "\tP <--> P\n",
      "\tP <--> S+2P\n",
      "\tS+P <--> S\n",
      "] \n",
      "\n",
      "\n",
      "CRN PRETTY-PRINT REPRESENTATION:\n",
      " Species(N = 10) = {\n",
      "S (@ 0),  S (@ 0),  S (@ 0),  S (@ 0),  S (@ 0),  P (@ 0),  P (@ 0),  P (@ 0),  P (@ 0),  P (@ 0),  \n",
      "}\n",
      "\n",
      "Reactions (26) = [\n",
      "0. P <--> S+2P\n",
      " Kf=k_forward * P\n",
      " Kr=k_reverse * S * P^2\n",
      "  k_forward=1.0\n",
      "  k_reverse=0.01\n",
      "\n",
      "1. S+P <--> S\n",
      " Kf=k_forward * S * P\n",
      " Kr=k_reverse * S\n",
      "  k_forward=1.0\n",
      "  k_reverse=0.01\n",
      "\n",
      "2. P <--> S+2P\n",
      " Kf=k_forward * P\n",
      " Kr=k_reverse * S * P^2\n",
      "  k_forward=1.0\n",
      "  k_reverse=0.01\n",
      "\n",
      "3. S+P <--> S\n",
      " Kf=k_forward * S * P\n",
      " Kr=k_reverse * S\n",
      "  k_forward=1.0\n",
      "  k_reverse=0.01\n",
      "\n",
      "4. P <--> S+2P\n",
      " Kf=k_forward * P\n",
      " Kr=k_reverse * S * P^2\n",
      "  k_forward=1.0\n",
      "  k_reverse=0.01\n",
      "\n",
      "5. S+P <--> S\n",
      " Kf=k_forward * S * P\n",
      " Kr=k_reverse * S\n",
      "  k_forward=1.0\n",
      "  k_reverse=0.01\n",
      "\n",
      "6. P <--> S+2P\n",
      " Kf=k_forward * P\n",
      " Kr=k_reverse * S * P^2\n",
      "  k_forward=1.0\n",
      "  k_reverse=0.01\n",
      "\n",
      "7. S+P <--> S\n",
      " Kf=k_forward * S * P\n",
      " Kr=k_reverse * S\n",
      "  k_forward=1.0\n",
      "  k_reverse=0.01\n",
      "\n",
      "8. S <--> S\n",
      " Kf=k_forward * S_m1_1\n",
      " Kr=k_reverse * S_m2_1\n",
      "  k_forward=0.5\n",
      "  k_reverse=0.5\n",
      "\n",
      "9. P <--> P\n",
      " Kf=k_forward * P_m1_1\n",
      " Kr=k_reverse * P_m2_1\n",
      "  k_forward=0.3\n",
      "  k_reverse=0.3\n",
      "\n",
      "10. S <--> S\n",
      " Kf=k_forward * S_m1_1\n",
      " Kr=k_reverse * S_m3_1\n",
      "  k_forward=0.5\n",
      "  k_reverse=0.5\n",
      "\n",
      "11. P <--> P\n",
      " Kf=k_forward * P_m1_1\n",
      " Kr=k_reverse * P_m3_1\n",
      "  k_forward=0.3\n",
      "  k_reverse=0.3\n",
      "\n",
      "12. S <--> S\n",
      " Kf=k_forward * S_m2_1\n",
      " Kr=k_reverse * S_m1_1\n",
      "  k_forward=0.5\n",
      "  k_reverse=0.5\n",
      "\n",
      "13. P <--> P\n",
      " Kf=k_forward * P_m2_1\n",
      " Kr=k_reverse * P_m1_1\n",
      "  k_forward=0.3\n",
      "  k_reverse=0.3\n",
      "\n",
      "14. S <--> S\n",
      " Kf=k_forward * S_m2_1\n",
      " Kr=k_reverse * S_m4_1\n",
      "  k_forward=0.5\n",
      "  k_reverse=0.5\n",
      "\n",
      "15. P <--> P\n",
      " Kf=k_forward * P_m2_1\n",
      " Kr=k_reverse * P_m4_1\n",
      "  k_forward=0.3\n",
      "  k_reverse=0.3\n",
      "\n",
      "16. S <--> S\n",
      " Kf=k_forward * S_m3_1\n",
      " Kr=k_reverse * S_m4_1\n",
      "  k_forward=0.5\n",
      "  k_reverse=0.5\n",
      "\n",
      "17. P <--> P\n",
      " Kf=k_forward * P_m3_1\n",
      " Kr=k_reverse * P_m4_1\n",
      "  k_forward=0.3\n",
      "  k_reverse=0.3\n",
      "\n",
      "18. S <--> S\n",
      " Kf=k_forward * S_m3_1\n",
      " Kr=k_reverse * S_m1_1\n",
      "  k_forward=0.5\n",
      "  k_reverse=0.5\n",
      "\n",
      "19. P <--> P\n",
      " Kf=k_forward * P_m3_1\n",
      " Kr=k_reverse * P_m1_1\n",
      "  k_forward=0.3\n",
      "  k_reverse=0.3\n",
      "\n",
      "20. S <--> S\n",
      " Kf=k_forward * S_m4_1\n",
      " Kr=k_reverse * S_m3_1\n",
      "  k_forward=0.5\n",
      "  k_reverse=0.5\n",
      "\n",
      "21. P <--> P\n",
      " Kf=k_forward * P_m4_1\n",
      " Kr=k_reverse * P_m3_1\n",
      "  k_forward=0.3\n",
      "  k_reverse=0.3\n",
      "\n",
      "22. S <--> S\n",
      " Kf=k_forward * S_m4_1\n",
      " Kr=k_reverse * S_m2_1\n",
      "  k_forward=0.5\n",
      "  k_reverse=0.5\n",
      "\n",
      "23. P <--> P\n",
      " Kf=k_forward * P_m4_1\n",
      " Kr=k_reverse * P_m2_1\n",
      "  k_forward=0.3\n",
      "  k_reverse=0.3\n",
      "\n",
      "24. P <--> S+2P\n",
      " Kf=k_forward * P\n",
      " Kr=k_reverse * S * P^2\n",
      "  k_forward=1\n",
      "  k_reverse=0.01\n",
      "\n",
      "25. S+P <--> S\n",
      " Kf=k_forward * S * P\n",
      " Kr=k_reverse * S\n",
      "  k_forward=1\n",
      "  k_reverse=0.01\n",
      "\n",
      "]\n"
     ]
    }
   ],
   "source": [
    "print(\"CRN STRING REPRESENTATION: \\n\", crn_turing, \"\\n\\n\")\n",
    "print(\"CRN PRETTY-PRINT REPRESENTATION:\\n\",\n",
    "      crn_turing.pretty_print(show_rates = True, show_attributes = True, show_materials = True, show_keys = False))"
   ]
  },
  {
   "cell_type": "code",
   "execution_count": 18,
   "id": "6748fd12",
   "metadata": {},
   "outputs": [
    {
     "name": "stderr",
     "output_type": "stream",
     "text": [
      "/Users/mohinimisra/opt/anaconda3/lib/python3.9/site-packages/biocrnpyler-1.1.1-py3.9.egg/biocrnpyler/chemical_reaction_network.py:362: UserWarning: Trying to set species that is not in model: S_m_1\n",
      "/Users/mohinimisra/opt/anaconda3/lib/python3.9/site-packages/biocrnpyler-1.1.1-py3.9.egg/biocrnpyler/chemical_reaction_network.py:362: UserWarning: Trying to set species that is not in model: P_m_1\n"
     ]
    }
   ],
   "source": [
    "timepoints = np.arange(0, 10000, 1)\n",
    "x0_dict = {\"S_m_1\": 150., \"P_m_1\": 150.}\n",
    "stochastic = False\n",
    "results = crn_turing.simulate_with_bioscrape_via_sbml(timepoints, initial_condition_dict = x0_dict, stochastic = stochastic)\n"
   ]
  },
  {
   "cell_type": "code",
   "execution_count": 19,
   "id": "23893f23",
   "metadata": {},
   "outputs": [
    {
     "ename": "KeyError",
     "evalue": "'P_m_1'",
     "output_type": "error",
     "traceback": [
      "\u001b[0;31m---------------------------------------------------------------------------\u001b[0m",
      "\u001b[0;31mKeyError\u001b[0m                                  Traceback (most recent call last)",
      "File \u001b[0;32m~/opt/anaconda3/lib/python3.9/site-packages/pandas/core/indexes/base.py:3621\u001b[0m, in \u001b[0;36mIndex.get_loc\u001b[0;34m(self, key, method, tolerance)\u001b[0m\n\u001b[1;32m   3620\u001b[0m \u001b[38;5;28;01mtry\u001b[39;00m:\n\u001b[0;32m-> 3621\u001b[0m     \u001b[38;5;28;01mreturn\u001b[39;00m \u001b[38;5;28;43mself\u001b[39;49m\u001b[38;5;241;43m.\u001b[39;49m\u001b[43m_engine\u001b[49m\u001b[38;5;241;43m.\u001b[39;49m\u001b[43mget_loc\u001b[49m\u001b[43m(\u001b[49m\u001b[43mcasted_key\u001b[49m\u001b[43m)\u001b[49m\n\u001b[1;32m   3622\u001b[0m \u001b[38;5;28;01mexcept\u001b[39;00m \u001b[38;5;167;01mKeyError\u001b[39;00m \u001b[38;5;28;01mas\u001b[39;00m err:\n",
      "File \u001b[0;32m~/opt/anaconda3/lib/python3.9/site-packages/pandas/_libs/index.pyx:136\u001b[0m, in \u001b[0;36mpandas._libs.index.IndexEngine.get_loc\u001b[0;34m()\u001b[0m\n",
      "File \u001b[0;32m~/opt/anaconda3/lib/python3.9/site-packages/pandas/_libs/index.pyx:163\u001b[0m, in \u001b[0;36mpandas._libs.index.IndexEngine.get_loc\u001b[0;34m()\u001b[0m\n",
      "File \u001b[0;32mpandas/_libs/hashtable_class_helper.pxi:5198\u001b[0m, in \u001b[0;36mpandas._libs.hashtable.PyObjectHashTable.get_item\u001b[0;34m()\u001b[0m\n",
      "File \u001b[0;32mpandas/_libs/hashtable_class_helper.pxi:5206\u001b[0m, in \u001b[0;36mpandas._libs.hashtable.PyObjectHashTable.get_item\u001b[0;34m()\u001b[0m\n",
      "\u001b[0;31mKeyError\u001b[0m: 'P_m_1'",
      "\nThe above exception was the direct cause of the following exception:\n",
      "\u001b[0;31mKeyError\u001b[0m                                  Traceback (most recent call last)",
      "Input \u001b[0;32mIn [19]\u001b[0m, in \u001b[0;36m<cell line: 7>\u001b[0;34m()\u001b[0m\n\u001b[1;32m      9\u001b[0m         \u001b[38;5;28;01mfor\u001b[39;00m k \u001b[38;5;129;01min\u001b[39;00m \u001b[38;5;28mrange\u001b[39m(\u001b[38;5;28mlen\u001b[39m(grids)):\n\u001b[1;32m     10\u001b[0m             grid \u001b[38;5;241m=\u001b[39m grids[k]\n\u001b[0;32m---> 11\u001b[0m             grid[i][j] \u001b[38;5;241m=\u001b[39m \u001b[38;5;28mint\u001b[39m(\u001b[43mresults\u001b[49m\u001b[43m[\u001b[49m\u001b[38;5;124;43m\"\u001b[39;49m\u001b[38;5;124;43mP_m_\u001b[39;49m\u001b[38;5;124;43m\"\u001b[39;49m\u001b[38;5;241;43m+\u001b[39;49m\u001b[43m \u001b[49m\u001b[38;5;28;43mstr\u001b[39;49m\u001b[43m(\u001b[49m\u001b[43mi\u001b[49m\u001b[38;5;241;43m+\u001b[39;49m\u001b[43mj\u001b[49m\u001b[38;5;241;43m+\u001b[39;49m\u001b[38;5;241;43m1\u001b[39;49m\u001b[43m)\u001b[49m\u001b[43m]\u001b[49m[grid_vals[k]])\n\u001b[1;32m     14\u001b[0m figure, axis \u001b[38;5;241m=\u001b[39m plt\u001b[38;5;241m.\u001b[39msubplots(\u001b[38;5;28mint\u001b[39m(num_plots\u001b[38;5;241m/\u001b[39m\u001b[38;5;241m2\u001b[39m), \u001b[38;5;241m2\u001b[39m)\n\u001b[1;32m     16\u001b[0m \u001b[38;5;66;03m# For Sine Function\u001b[39;00m\n",
      "File \u001b[0;32m~/opt/anaconda3/lib/python3.9/site-packages/pandas/core/frame.py:3505\u001b[0m, in \u001b[0;36mDataFrame.__getitem__\u001b[0;34m(self, key)\u001b[0m\n\u001b[1;32m   3503\u001b[0m \u001b[38;5;28;01mif\u001b[39;00m \u001b[38;5;28mself\u001b[39m\u001b[38;5;241m.\u001b[39mcolumns\u001b[38;5;241m.\u001b[39mnlevels \u001b[38;5;241m>\u001b[39m \u001b[38;5;241m1\u001b[39m:\n\u001b[1;32m   3504\u001b[0m     \u001b[38;5;28;01mreturn\u001b[39;00m \u001b[38;5;28mself\u001b[39m\u001b[38;5;241m.\u001b[39m_getitem_multilevel(key)\n\u001b[0;32m-> 3505\u001b[0m indexer \u001b[38;5;241m=\u001b[39m \u001b[38;5;28;43mself\u001b[39;49m\u001b[38;5;241;43m.\u001b[39;49m\u001b[43mcolumns\u001b[49m\u001b[38;5;241;43m.\u001b[39;49m\u001b[43mget_loc\u001b[49m\u001b[43m(\u001b[49m\u001b[43mkey\u001b[49m\u001b[43m)\u001b[49m\n\u001b[1;32m   3506\u001b[0m \u001b[38;5;28;01mif\u001b[39;00m is_integer(indexer):\n\u001b[1;32m   3507\u001b[0m     indexer \u001b[38;5;241m=\u001b[39m [indexer]\n",
      "File \u001b[0;32m~/opt/anaconda3/lib/python3.9/site-packages/pandas/core/indexes/base.py:3623\u001b[0m, in \u001b[0;36mIndex.get_loc\u001b[0;34m(self, key, method, tolerance)\u001b[0m\n\u001b[1;32m   3621\u001b[0m     \u001b[38;5;28;01mreturn\u001b[39;00m \u001b[38;5;28mself\u001b[39m\u001b[38;5;241m.\u001b[39m_engine\u001b[38;5;241m.\u001b[39mget_loc(casted_key)\n\u001b[1;32m   3622\u001b[0m \u001b[38;5;28;01mexcept\u001b[39;00m \u001b[38;5;167;01mKeyError\u001b[39;00m \u001b[38;5;28;01mas\u001b[39;00m err:\n\u001b[0;32m-> 3623\u001b[0m     \u001b[38;5;28;01mraise\u001b[39;00m \u001b[38;5;167;01mKeyError\u001b[39;00m(key) \u001b[38;5;28;01mfrom\u001b[39;00m \u001b[38;5;21;01merr\u001b[39;00m\n\u001b[1;32m   3624\u001b[0m \u001b[38;5;28;01mexcept\u001b[39;00m \u001b[38;5;167;01mTypeError\u001b[39;00m:\n\u001b[1;32m   3625\u001b[0m     \u001b[38;5;66;03m# If we have a listlike key, _check_indexing_error will raise\u001b[39;00m\n\u001b[1;32m   3626\u001b[0m     \u001b[38;5;66;03m#  InvalidIndexError. Otherwise we fall through and re-raise\u001b[39;00m\n\u001b[1;32m   3627\u001b[0m     \u001b[38;5;66;03m#  the TypeError.\u001b[39;00m\n\u001b[1;32m   3628\u001b[0m     \u001b[38;5;28mself\u001b[39m\u001b[38;5;241m.\u001b[39m_check_indexing_error(key)\n",
      "\u001b[0;31mKeyError\u001b[0m: 'P_m_1'"
     ]
    }
   ],
   "source": [
    "num_plots = 8\n",
    "grids = []\n",
    "for i in range(num_plots):\n",
    "    grids.append(np.zeros((n,n)))\n",
    "grid_vals = [0, 1000, 2000, 3000, 6000, 8000, 9000, 9999]\n",
    "\n",
    "for i in range(n):\n",
    "    for j in range(n):\n",
    "        for k in range(len(grids)):\n",
    "            grid = grids[k]\n",
    "            grid[i][j] = int(results[\"P_m_\"+ str(i+j+1)][grid_vals[k]])\n",
    "       \n",
    "\n",
    "figure, axis = plt.subplots(int(num_plots/2), 2)\n",
    "  \n",
    "# For Sine Function\n",
    "\n",
    "grid_c = 0\n",
    "for i in range(int(num_plots/2)):\n",
    "    for j in range(2):\n",
    "        cb = axis[i, j].pcolormesh(grids[grid_c])\n",
    "        figure.colorbar(cb, ax=axis[i,j])\n",
    "        axis[i,j].set_title(\"At time \" + str(grid_vals[grid_c]))\n",
    "        grid_c += 1\n",
    "        \n",
    "\n",
    "plt.subplots_adjust(left=0.1,\n",
    "                    bottom=0.1, \n",
    "                    right=0.9, \n",
    "                    top=0.9, \n",
    "                    wspace=.6, \n",
    "                    hspace=.6)\n",
    "plt.rcParams[\"figure.figsize\"] = (6, 6)\n",
    "plt.show()"
   ]
  },
  {
   "cell_type": "code",
   "execution_count": null,
   "id": "819a56c8",
   "metadata": {},
   "outputs": [],
   "source": []
  },
  {
   "cell_type": "code",
   "execution_count": null,
   "id": "bb9cc862",
   "metadata": {},
   "outputs": [],
   "source": []
  }
 ],
 "metadata": {
  "kernelspec": {
   "display_name": "Python 3 (ipykernel)",
   "language": "python",
   "name": "python3"
  },
  "language_info": {
   "codemirror_mode": {
    "name": "ipython",
    "version": 3
   },
   "file_extension": ".py",
   "mimetype": "text/x-python",
   "name": "python",
   "nbconvert_exporter": "python",
   "pygments_lexer": "ipython3",
   "version": "3.9.11"
  }
 },
 "nbformat": 4,
 "nbformat_minor": 5
}
