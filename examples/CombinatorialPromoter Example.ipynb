{
 "cells": [
  {
   "cell_type": "markdown",
   "metadata": {
    "slideshow": {
     "slide_type": "slide"
    }
   },
   "source": [
    "# **Combinatorial Promoter Example**\n",
    "\n",
    "written by Andrey Shur, 5/4/2020"
   ]
  },
  {
   "cell_type": "markdown",
   "metadata": {
    "slideshow": {
     "slide_type": "slide"
    }
   },
   "source": [
    "Here are some examples for how to use the CombinatorialPromoter part.\n",
    "\n",
    "The CombinatorialPromoter is supposed to represent the general case where a promoter is transcribable when bound by a specific combination of regulators.\n",
    "\n",
    "For example, Let's say we have a promoter phrpL which can be bound by the proteins hrpR and hrpS. When both proteins are present, transcription is activated, but when one or the other (or none) is present, transcription is not activated."
   ]
  },
  {
   "cell_type": "code",
   "execution_count": 1,
   "metadata": {
    "slideshow": {
     "slide_type": "skip"
    }
   },
   "outputs": [
    {
     "name": "stderr",
     "output_type": "stream",
     "text": [
      "C:\\ProgramData\\Anaconda3\\lib\\site-packages\\biocrnpyler-0.1-py3.7.egg\\biocrnpyler\\__init__.py:23: UserWarning: No module named 'fa2'\n",
      "C:\\ProgramData\\Anaconda3\\lib\\site-packages\\biocrnpyler-0.1-py3.7.egg\\biocrnpyler\\__init__.py:24: UserWarning: plotting is disabled because you are missing some libraries\n"
     ]
    }
   ],
   "source": [
    "#Using Bioscrape: Basic Imports\n",
    "from bioscrape.types import Model\n",
    "from bioscrape.simulator import py_simulate_model\n",
    "#For arrays and plotting\n",
    "import numpy as np\n",
    "import pylab as plt\n",
    "import seaborn as sns\n",
    "import pandas as pd\n",
    "#this is for the network representation\n",
    "try:\n",
    "    #Bokeh is used for plotting\n",
    "    import bokeh.plotting\n",
    "    import bokeh.io\n",
    "    #ForceAtlas2 is used for graph layout\n",
    "    import fa2\n",
    "    bokeh.io.output_notebook()\n",
    "    plotCRN = True\n",
    "except ModuleNotFoundError:\n",
    "    plotCRN = False\n",
    "#biocrnpyler\n",
    "from biocrnpyler import *\n"
   ]
  },
  {
   "cell_type": "code",
   "execution_count": 15,
   "metadata": {},
   "outputs": [
    {
     "name": "stdout",
     "output_type": "stream",
     "text": [
      "Species (8) = {0. protein[mydna], 1. complex[dna[mydna]:protein[hrpR]], 2. dna[mydna], 3. complex[dna[mydna]:protein[hrpR]:protein[hrpS]], 4. protein[GFP], 5. complex[dna[mydna]:protein[hrpS]], 6. protein[hrpR], 7. protein[hrpS]}\n",
      "Reactions (6) = [\n",
      "0. dna[mydna] --> dna[mydna] + protein[GFP]        \n",
      "        massaction: k_f(dna[mydna])=0.28125*dna[mydna]\n",
      "1. protein[hrpR] + dna[mydna] <--> complex[dna[mydna]:protein[hrpR]]        \n",
      "        massaction: k_f(protein[hrpR],dna[mydna])=100.0*protein[hrpR]*dna[mydna]\n",
      "        k_r(complex[dna[mydna]:protein[hrpR]])=10.0*complex[dna[mydna]:protein[hrpR]]\n",
      "2. protein[hrpS] + dna[mydna] <--> complex[dna[mydna]:protein[hrpS]]        \n",
      "        massaction: k_f(protein[hrpS],dna[mydna])=100.0*protein[hrpS]*dna[mydna]\n",
      "        k_r(complex[dna[mydna]:protein[hrpS]])=10.0*complex[dna[mydna]:protein[hrpS]]\n",
      "3. protein[hrpR] + complex[dna[mydna]:protein[hrpS]] <--> complex[dna[mydna]:protein[hrpR]:protein[hrpS]]        \n",
      "        massaction: k_f(protein[hrpR],complex[dna[mydna]:protein[hrpS]])=100.0*protein[hrpR]*complex[dna[mydna]:protein[hrpS]]\n",
      "        k_r(complex[dna[mydna]:protein[hrpR]:protein[hrpS]])=10.0*complex[dna[mydna]:protein[hrpR]:protein[hrpS]]\n",
      "4. protein[hrpS] + complex[dna[mydna]:protein[hrpR]] <--> complex[dna[mydna]:protein[hrpR]:protein[hrpS]]        \n",
      "        massaction: k_f(protein[hrpS],complex[dna[mydna]:protein[hrpR]])=100.0*protein[hrpS]*complex[dna[mydna]:protein[hrpR]]\n",
      "        k_r(complex[dna[mydna]:protein[hrpR]:protein[hrpS]])=10.0*complex[dna[mydna]:protein[hrpR]:protein[hrpS]]\n",
      "5. complex[dna[mydna]:protein[hrpR]:protein[hrpS]] --> complex[dna[mydna]:protein[hrpR]:protein[hrpS]] + protein[GFP]        \n",
      "        massaction: k_f(complex[dna[mydna]:protein[hrpR]:protein[hrpS]])=0.28125*complex[dna[mydna]:protein[hrpR]:protein[hrpS]]\n",
      "]\n"
     ]
    }
   ],
   "source": [
    "#these are the additional parameters that you need:\n",
    "custom_parameters = {\n",
    "    ('phrpL_hrpR', 'cooperativity'): 1.0, #default is 2, but these proteins bind at cooperativity = 1\n",
    "    ('phrpL_hrpS', 'cooperativity'): 1.0, \n",
    "    ('phrpL_hrpR_hrpS_RNAP', 'ktx'): 0.17025,  #this is the transcription rate\n",
    "    ('phrpL_hrpR_hrpS_RNAP', 'ku'): 11.01321586, #this is the polymerase unbinding rate\n",
    "\n",
    "    ('translation_mm', 'B0030', 'ku'): 10.0, #Unbinding\n",
    "    ('translation_mm', 'B0030', 'ktl'): 1.5, #Translation Rate\n",
    "\n",
    "    ('transcription_mm',  'ktx'): .01,    #These are the parameters for transcription leak\n",
    "    ('transcription_mm', 'ku'): 100,\n",
    "    \"kb\":100, \"ku\":10, \"ktx\":.05, \"ktl\":.2, \"kdeg\":2 #some default parameters\n",
    "}\n",
    "#above you can see the desired part_id is very simple. The general syntax is <promoter.name>_<regulator.name>.\n",
    "#using this syntax you can define the strength of binding of each regulator to the promoter.\n",
    "#cooperativity between different regulators is not supported.\n",
    "\n",
    "#you can also define the transcription rate and binding and unbinding (kb or ku) of polymerase from a transcribable\n",
    "#complex. A transcribable complex is a promoter with regulators bound that is capable of transcription.\n",
    "\n",
    "#By default, only a promoter with all regulators bound will be capable of transcription. This transcribing promoter\n",
    "#can be named by writing <promoter.name>_<regulator1.name>_<regulator2.name>_..._RNAP and so forth. Regulators are\n",
    "#in alphabetical order.\n",
    "\n",
    "#WARNING!!!\n",
    "#out of order regulators will not work! For example, phrpL_hrpR_hrpS_RNAP is correct, but phrpL_hrpS_hrpR_RNAP is not.\n",
    "\n",
    "#now we define the proteins. Their names should match what you put in the promoter, below\n",
    "hrpR = Protein(\"hrpR\")\n",
    "hrpS = Protein(\"hrpS\")\n",
    "\n",
    "#Define the promoter\n",
    "\n",
    "phrpL = CombinatorialPromoter(\"phrpL\",[\"hrpR\",\"hrpS\"], leak=True) \n",
    "#this defines a promoter which binds hrpR and hrpS, and it leaks. \n",
    "#By default, leak only happens when there is nothing bound to the DNA.\n",
    "#this also means that in this promoter, individually bound species (with only one regulator) will not lead tp\n",
    "#any transcription; in other words, they will not leak!\n",
    "\n",
    "#this is our DNA\n",
    "dna = DNAassembly(\"mydna\",promoter=phrpL,rbs=\"B0030\",protein=\"GFP\")\n",
    "\n",
    "#TxTl Extract is a Mixture with more complex internal models\n",
    "extract_1_TXTL = ExpressionExtract(name = \"e coli extract 1\", components = [dna,hrpR,hrpS], \\\n",
    "                                     parameters=custom_parameters, parameter_file = \"example_parameters.tsv\")\n",
    "CRN_extract_1 = extract_1_TXTL.compile_crn()\n",
    "\n",
    "print(CRN_extract_1.pretty_print(show_rates = True, show_materials = True))\n"
   ]
  },
  {
   "cell_type": "code",
   "execution_count": 6,
   "metadata": {},
   "outputs": [
    {
     "name": "stdout",
     "output_type": "stream",
     "text": [
      "{('phrpL_hrpR', 'cooperativity'): 1.0, ('phrpL_hrpS', 'cooperativity'): 1.0, ('phrpL_hrpR_hrpS_RNAP', 'ktx'): 0.17025, ('phrpL_hrpR_hrpS_RNAP', 'ku'): 11.01321586, ('translation_mm', 'B0030', 'ku'): 10.0, ('translation_mm', 'B0030', 'ktl'): 1.5, ('transcription_mm', 'ktx'): 0.01, ('transcription_mm', 'ku'): 100, 'kb': 1.0, 'ku': 1.0, 'ktx': 2.0, 'ktl': 3.0, 'kdeg': 0.5, 'cooperativity': 2.0}\n"
     ]
    },
    {
     "data": {
      "image/png": "[encoded data removed]",
      "text/plain": [
       "<Figure size 432x288 with 1 Axes>"
      ]
     },
     "metadata": {
      "needs_background": "light"
     },
     "output_type": "display_data"
    }
   ],
   "source": [
    "#below is CRN plotting code. set plotCRN to False to disable\n",
    "plotCRN = False\n",
    "if(plotCRN):\n",
    "    DG, DGspec, DGrxn = generate_networkx_graph(CRN_extract_1)\n",
    "    plot = Plot(plot_width=500, plot_height=500, x_range=Range1d(-500, 500), y_range=Range1d(-500, 500))\n",
    "    graphPlot(DG,DGspec,DGrxn,plot)\n",
    "    bokeh.io.show(plot)\n",
    "\n",
    "#this is just a normal time trace of the model, with both proteins present\n",
    "timepoints = np.linspace(0, 200, 1000)\n",
    "x0 = {\"dna_mydna\":5.0, \"protein_hrpS\":10, \"protein_hrpR\":7, \"protein_RNAP\":10., \"protein_Ribo\":50.,}\n",
    "Re1 = CRN_extract_1.simulate_with_bioscrape(timepoints, initial_condition_dict = x0)\n",
    "plt.plot(timepoints,Re1[\"protein_GFP\"], label = \"protein_GFP\")\n",
    "plt.plot(timepoints,Re1[\"protein_hrpR\"], label = \"protein_hrpR\")\n",
    "plt.plot(timepoints,Re1[\"protein_hrpS\"], label = \"protein_hrpS\")\n",
    "plt.plot(timepoints,Re1[\"rna_mydna\"], label = \"rna_mydna\")\n",
    "plt.gca().set_yscale(\"log\")\n",
    "plt.title(\"Time trace of AND gate promoter phrpL\")\n",
    "plt.xlabel(\"time\")\n",
    "plt.ylabel(\"Concenration\")\n",
    "plt.legend()\n",
    "print(parameters)"
   ]
  },
  {
   "cell_type": "markdown",
   "metadata": {},
   "source": [
    "# Vary hrpR and hrpS\n",
    "To really test the combinatorial promoter we will vary the concentrations of hrpR and hrpS."
   ]
  },
  {
   "cell_type": "code",
   "execution_count": 16,
   "metadata": {},
   "outputs": [
    {
     "name": "stderr",
     "output_type": "stream",
     "text": [
      "C:\\ProgramData\\Anaconda3\\lib\\site-packages\\biocrnpyler-0.1-py3.7.egg\\biocrnpyler\\chemical_reaction_network.py:878: UserWarning: Trying to set species that is not in model: protein_RNAP\n",
      "C:\\ProgramData\\Anaconda3\\lib\\site-packages\\biocrnpyler-0.1-py3.7.egg\\biocrnpyler\\chemical_reaction_network.py:878: UserWarning: Trying to set species that is not in model: protein_Ribo\n",
      "C:\\ProgramData\\Anaconda3\\lib\\site-packages\\seaborn\\matrix.py:268: PendingDeprecationWarning: \n",
      "The label function will be deprecated in a future version. Use Tick.label1 instead.\n",
      "  fontsize = tick.label.get_size()\n"
     ]
    },
    {
     "data": {
      "text/plain": [
       "Text(0.5, 1, 'hrpR, hrpS Combinatorial Promoter Heatmap')"
      ]
     },
     "execution_count": 16,
     "metadata": {},
     "output_type": "execute_result"
    },
    {
     "data": {
      "image/png": "[encoded data removed]",
      "text/plain": [
       "<Figure size 432x288 with 2 Axes>"
      ]
     },
     "metadata": {
      "needs_background": "light"
     },
     "output_type": "display_data"
    }
   ],
   "source": [
    "#aggregator data frame\n",
    "GFP_max = pd.DataFrame(columns = ['hrpS_conc', 'hrpR_conc', 'GFP_max'])\n",
    "#Different initial values of R and S\n",
    "conc_hrpR = np.linspace(0, 30, 9)\n",
    "conc_hrpS = np.linspace(0, 30, 9)\n",
    "\n",
    "\n",
    "for conc_R in conc_hrpR:\n",
    "    x0[\"protein_hrpR\"] = conc_R \n",
    "    for conc_S in conc_hrpS:\n",
    "        x0[\"protein_hrpS\"] = conc_S #Change my initial condition dictionary\n",
    "        Re1 = CRN_extract_1.simulate_with_bioscrape(timepoints, initial_condition_dict = x0)\n",
    "        #now we are simulating over and over again, but only taking the final protein_GFP value\n",
    "        GFP_max = GFP_max.append({'hrpS_conc':conc_S,\n",
    "                        'hrpR_conc':conc_R,\n",
    "                        'GFP_max': Re1[\"protein_GFP\"].values[-1]}, ignore_index=True)\n",
    "\n",
    "#now, you make a 2d plot with all the data\n",
    "data = pd.pivot_table(data = GFP_max, index = 'hrpS_conc',\n",
    "               columns = 'hrpR_conc',\n",
    "               values = 'GFP_max')\n",
    "\n",
    "ax = sns.heatmap(data,\n",
    "                 cmap = 'viridis',\n",
    "                linewidths=.2)\n",
    "ax.set_ylim(9,-0.5) #not sure why this is needed\n",
    "\n",
    "ax.set(xlabel='hrpS', ylabel='hrpR')\n",
    "ax.set_title(\"hrpR, hrpS Combinatorial Promoter Heatmap\")"
   ]
  },
  {
   "cell_type": "markdown",
   "metadata": {
    "slideshow": {
     "slide_type": "slide"
    }
   },
   "source": [
    "A couple of things are noted, for example: \n",
    "    1) there's not a lot of \"off space\", before the AND gate turns on.\n",
    "    2) at 0,0, the expression is slightly higher than at 0,30. This is because the promoter does not express when one out of two promoters are bound, but it does when none of them are (because of leak).\n",
    "\n",
    "In order to address these points, we can:\n",
    "\n",
    "    1) increase the unbinding rate\n",
    "    2) define a transcription rate when one of each regulator is present\n",
    "    "
   ]
  },
  {
   "cell_type": "code",
   "execution_count": 17,
   "metadata": {},
   "outputs": [
    {
     "name": "stderr",
     "output_type": "stream",
     "text": [
      "C:\\ProgramData\\Anaconda3\\lib\\site-packages\\seaborn\\matrix.py:268: PendingDeprecationWarning: \n",
      "The label function will be deprecated in a future version. Use Tick.label1 instead.\n",
      "  fontsize = tick.label.get_size()\n"
     ]
    },
    {
     "data": {
      "text/plain": [
       "Text(0.5, 1, 'hrpR, hrpS Combinatorial Promoter Heatmap')"
      ]
     },
     "execution_count": 17,
     "metadata": {},
     "output_type": "execute_result"
    },
    {
     "data": {
      "image/png": "[encoded data removed]",
      "text/plain": [
       "<Figure size 432x288 with 2 Axes>"
      ]
     },
     "metadata": {
      "needs_background": "light"
     },
     "output_type": "display_data"
    }
   ],
   "source": [
    "newparam = {\n",
    "    ('phrpL_hrpR', 'cooperativity'): 1.0, \n",
    "    ('phrpL_hrpS', 'cooperativity'): 1.0, \n",
    "    ('phrpL_hrpR','ku'):100,\n",
    "    ('phrpL_hrpS','ku'):100,\n",
    "    ('phrpL_hrpR_hrpS_RNAP', 'ktx'): 0.17025, \n",
    "    ('phrpL_hrpR_hrpS_RNAP', 'ku'): 11.01321586,\n",
    "    ('phrpL_hrpS_RNAP', 'ku'): 100.,#we'll say that leak has 10x the unbinding rate\n",
    "    ('phrpL_hrpR_RNAP', 'ku'): 100,\n",
    "    ('phrpL','ku'):100,\n",
    "    \n",
    "}\n",
    "parameters.update(newparam)\n",
    "#you can also define the ktx for the leak reaction. I don't think this is necessary\n",
    "#    ('phrpL_hrpR_RNAP', 'ktx'): 0.17, \n",
    "#    ('phrpL_hrpS_RNAP', 'ktx'): 0.17,\n",
    "\n",
    "phrpL = CombinatorialPromoter(\"phrpL\",[\"hrpR\",\"hrpS\"], \n",
    "                              tx_capable_list = [[\"hrpR\",\"hrpS\"],[\"hrpR\"],[\"hrpS\"]],\n",
    "                              leak=True) \n",
    "#now we are saying that there are more species that are capable of transcribing. Specifically, that we \n",
    "#can still transcribe when both are bound, but also when one or the other is bound.\n",
    "\n",
    "#this is our DNA\n",
    "dna = DNAassembly(\"mydna\",promoter=phrpL,rbs=\"B0030\",protein=\"GFP\")\n",
    "\n",
    "extract_1_TXTL = TxTlExtract(name = \"e coli extract 1\", components = [dna,hrpR,hrpS], \\\n",
    "                                     parameters=parameters, parameter_file = \"Perfect Param File Example.tsv\")\n",
    "CRN_extract_1 = extract_1_TXTL.compile_crn()\n",
    "\n",
    "#aggregator data frame\n",
    "GFP_max = pd.DataFrame(columns = ['hrpS_conc', 'hrpR_conc', 'GFP_max'])\n",
    "#Different initial values of R and S\n",
    "conc_hrpR = np.linspace(0, 30, 9)\n",
    "conc_hrpS = np.linspace(0, 30, 9)\n",
    "\n",
    "\n",
    "for conc_R in conc_hrpR:\n",
    "    x0[\"protein_hrpR\"] = conc_R \n",
    "    for conc_S in conc_hrpS:\n",
    "        x0[\"protein_hrpS\"] = conc_S #Change my initial condition dictionary\n",
    "        Re1 = CRN_extract_1.simulate_with_bioscrape(timepoints, initial_condition_dict = x0)\n",
    "        #now we are simulating over and over again, but only taking the final protein_GFP value\n",
    "        GFP_max = GFP_max.append({'hrpS_conc':conc_S,\n",
    "                        'hrpR_conc':conc_R,\n",
    "                        'GFP_max': Re1[\"protein_GFP\"].values[-1]}, ignore_index=True)\n",
    "\n",
    "#now, you make a 2d plot with all the data\n",
    "data = pd.pivot_table(data = GFP_max, index = 'hrpS_conc',\n",
    "               columns = 'hrpR_conc',\n",
    "               values = 'GFP_max')\n",
    "\n",
    "ax = sns.heatmap(data,\n",
    "                 cmap = 'viridis',\n",
    "                linewidths=.2)\n",
    "ax.set_ylim(9,-0.5) #not sure why this is needed\n",
    "\n",
    "ax.set(xlabel='hrpS', ylabel='hrpR')\n",
    "ax.set_title(\"hrpR, hrpS Combinatorial Promoter Heatmap\")"
   ]
  },
  {
   "cell_type": "markdown",
   "metadata": {},
   "source": [
    "If you wanted to make an XOR gate promoter, you could also do it thusly:"
   ]
  },
  {
   "cell_type": "code",
   "execution_count": null,
   "metadata": {},
   "outputs": [],
   "source": [
    "newparam = {\n",
    "    ('phrpL_hrpR', 'cooperativity'): 1.0, \n",
    "    ('phrpL_hrpS', 'cooperativity'): 1.0, \n",
    "    ('phrpL_hrpR','ku'):3, #we have to massively decrease the unbinding rate to make this xor gate work\n",
    "    ('phrpL_hrpS','ku'):3,\n",
    "    ('phrpL_hrpR_hrpS_RNAP', 'ku'): 100, #this time, this one is leak\n",
    "    ('phrpL_hrpR_RNAP', 'ktx'): 0.17, #these are now transcribing at high rates!\n",
    "    ('phrpL_hrpS_RNAP', 'ktx'): 0.17,\n",
    "    ('phrpL_hrpS_RNAP', 'ku'): 11.,\n",
    "    ('phrpL_hrpR_RNAP', 'ku'): 11,\n",
    "    ('phrpL','ku'):100,\n",
    "    \n",
    "}\n",
    "\n",
    "parameters.update(newparam)\n",
    "phrpL = CombinatorialPromoter(\"phrpL\",[\"hrpR\",\"hrpS\"], \n",
    "                              tx_capable_list = [[\"hrpR\"],[\"hrpS\"]],\n",
    "                              leak=True) \n",
    "#this is our DNA\n",
    "dna = DNAassembly(\"mydna\",promoter=phrpL,rbs=\"B0030\",protein=\"GFP\")\n",
    "\n",
    "extract_1_TXTL = TxTlExtract(name = \"e coli extract 1\", components = [dna,hrpR,hrpS], \\\n",
    "                                     parameters=parameters, parameter_file = \"Perfect Param File Example.tsv\")\n",
    "CRN_extract_1 = extract_1_TXTL.compile_crn()\n",
    "\n",
    "#aggregator data frame\n",
    "GFP_max = pd.DataFrame(columns = ['hrpS_conc', 'hrpR_conc', 'GFP_max'])\n",
    "#Different initial values of R and S\n",
    "conc_hrpR = np.linspace(0,30, 9)\n",
    "conc_hrpS = np.linspace(0, 30, 9)\n",
    "for conc_R in conc_hrpR:\n",
    "    x0[\"protein_hrpR\"] = conc_R \n",
    "    for conc_S in conc_hrpS:\n",
    "        x0[\"protein_hrpS\"] = conc_S #Change my initial condition dictionary\n",
    "        Re1 = CRN_extract_1.simulate_with_bioscrape(timepoints, initial_condition_dict = x0)\n",
    "        #now we are simulating over and over again, but only taking the final protein_GFP value\n",
    "        GFP_max = GFP_max.append({'hrpS_conc':conc_S,\n",
    "                        'hrpR_conc':conc_R,\n",
    "                        'GFP_max': Re1[\"protein_GFP\"].values[-1]}, ignore_index=True)\n",
    "\n",
    "#now, you make a 2d plot with all the data\n",
    "data = pd.pivot_table(data = GFP_max, index = 'hrpS_conc',\n",
    "               columns = 'hrpR_conc',\n",
    "               values = 'GFP_max')\n",
    "\n",
    "ax = sns.heatmap(data,\n",
    "                 cmap = 'viridis',\n",
    "                linewidths=.2)\n",
    "ax.set_ylim(9,-0.5) #not sure why this is needed\n",
    "\n",
    "ax.set(xlabel='hrpS', ylabel='hrpR')\n",
    "ax.set_title(\"hrpR, hrpS Combinatorial Promoter Heatmap\")"
   ]
  },
  {
   "cell_type": "code",
   "execution_count": null,
   "metadata": {},
   "outputs": [],
   "source": []
  }
 ],
 "metadata": {
  "celltoolbar": "Slideshow",
  "kernelspec": {
   "display_name": "Python 3",
   "language": "python",
   "name": "python3"
  },
  "language_info": {
   "codemirror_mode": {
    "name": "ipython",
    "version": 3
   },
   "file_extension": ".py",
   "mimetype": "text/x-python",
   "name": "python",
   "nbconvert_exporter": "python",
   "pygments_lexer": "ipython3",
   "version": "3.7.4"
  }
 },
 "nbformat": 4,
 "nbformat_minor": 2
}
