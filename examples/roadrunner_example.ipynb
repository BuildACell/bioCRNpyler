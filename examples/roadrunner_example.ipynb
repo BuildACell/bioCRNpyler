{
 "cells": [
  {
   "cell_type": "markdown",
   "source": [
    "# Roadrunner interface\n",
    "BioCRNpyler is interfaced with libroadrunner to simulate the generated CRNs"
   ],
   "metadata": {
    "collapsed": false,
    "pycharm": {
     "name": "#%% md\n"
    }
   }
  },
  {
   "cell_type": "code",
   "execution_count": 1,
   "metadata": {},
   "outputs": [],
   "source": [
    "#Import everything from biocrnpyler\n",
    "from biocrnpyler import *"
   ]
  },
  {
   "cell_type": "code",
   "execution_count": 2,
   "metadata": {
    "pycharm": {
     "name": "#%%\n"
    }
   },
   "outputs": [
    {
     "name": "stdout",
     "output_type": "stream",
     "text": [
      "Species can be printed to show their string representation: m1_A_attribute m1_B m2_B D\n",
      "\n",
      "Reactions can be printed as well:\n",
      " m1[A(attribute)] --> 2m1[B] \n",
      " m1[B] --> m2[B]+D\n",
      "\n",
      "Directly printing a CRN shows the string representation of the species used in BioCRNpyler:\n",
      "Species = m1_A_attribute, m1_B, m2_B, D\n",
      "Reactions = [\n",
      "\tm1[A(attribute)] --> 2m1[B]\n",
      "\tm1[B] --> m2[B]+D\n",
      "]\n",
      "\n",
      "CRN.pretty_print(...) is a function that prints a more customizable version of the CRN, but doesn't show the proper string representation of species.\n",
      "Species (4) = {0. m1[A(attribute)] init_conc = 0, 1. m1[B] init_conc = 0, 2. m2[B] init_conc = 0, 3. D init_conc = 0}\n",
      "\n",
      "Reactions (2) = [\n",
      "0. m1[A(attribute)] --> 2m1[B]\n",
      " Kf=k_forward * m1_A_attribute\n",
      "  k_forward=3.0\n",
      "\n",
      "1. m1[B] --> m2[B]+D\n",
      " Kf=k_forward * m1_B\n",
      "  k_forward=1.4\n",
      "\n",
      "]\n"
     ]
    }
   ],
   "source": [
    "#Example: Model the CRN consisting of: A --> 2B, 2B <--> B + C where C has the same name as B but a new material\n",
    "A = Species(\"A\", material_type = \"m1\", attributes = [\"attribute\"])\n",
    "B = Species(\"B\", material_type = \"m1\")\n",
    "C = Species(\"B\", material_type = \"m2\")\n",
    "D = Species(\"D\")\n",
    "\n",
    "print(\"Species can be printed to show their string representation:\", A, B, C, D)\n",
    "\n",
    "#Reaction Rates\n",
    "k1 = 3.\n",
    "k2 = 1.4\n",
    "k2rev = 0.15\n",
    "\n",
    "#Reaciton Objects\n",
    "R1 = Reaction.from_massaction([A], [B, B], k_forward = k1)\n",
    "R2 = Reaction.from_massaction([B], [C, D], k_forward = k2)\n",
    "\n",
    "print(\"\\nReactions can be printed as well:\\n\", R1,\"\\n\", R2)\n",
    "\n",
    "#Make a CRN\n",
    "CRN = ChemicalReactionNetwork(species = [A, B, C, D], reactions = [R1, R2])\n",
    "\n",
    "#CRNs can be printed in two different ways\n",
    "print(\"\\nDirectly printing a CRN shows the string representation of the species used in BioCRNpyler:\")\n",
    "print(CRN)\n",
    "\n",
    "print(\"\\nCRN.pretty_print(...) is a function that prints a more customizable version of the CRN, but doesn't show the proper string representation of species.\")\n",
    "print(CRN.pretty_print(show_materials = True, show_rates = True, show_attributes = True))"
   ]
  },
  {
   "cell_type": "markdown",
   "metadata": {},
   "source": [
    "## simulating the compiled network"
   ]
  },
  {
   "cell_type": "code",
   "execution_count": 26,
   "metadata": {
    "pycharm": {
     "name": "#%%\n"
    }
   },
   "outputs": [
    {
     "data": {
      "image/png": "[encoded data removed]",
      "text/plain": [
       "<Figure size 432x288 with 1 Axes>"
      ]
     },
     "metadata": {
      "needs_background": "light"
     },
     "output_type": "display_data"
    },
    {
     "data": {
      "text/plain": [
       "'    time, [m1_A_attribute],      [m1_B], [m2_B], [D]\\n [[    0,              120,           0,      0,   0],\\n  [    1,     -1.19921e-31, 4.59414e-26,    240, 240],\\n  [    2,     -7.49388e-32, 2.87095e-26,    240, 240],\\n  [    3,     -2.99568e-32, 1.14776e-26,    240, 240],\\n  [    4,     -2.13856e-35, 9.74894e-30,    240, 240],\\n  [    5,     -2.07307e-35, 9.45045e-30,    240, 240],\\n  [    6,     -2.00759e-35, 9.15197e-30,    240, 240],\\n  [    7,     -1.94211e-35, 8.85348e-30,    240, 240],\\n  [    8,     -1.87662e-35,   8.555e-30,    240, 240],\\n  [    9,     -1.81114e-35, 8.25651e-30,    240, 240]]\\n'"
      ]
     },
     "execution_count": 26,
     "metadata": {},
     "output_type": "execute_result"
    }
   ],
   "source": [
    "try:\n",
    "    import roadrunner\n",
    "    x0 = {str(A):120}\n",
    "    timepoints = range(0,10)\n",
    "    result = CRN.simulate_with_roadrunner(timepoints, initial_condition_dict = x0)\n",
    "    import pylab\n",
    "    pylab.plot (result[:,0],result[:,1:])\n",
    "    pylab.xlabel('time')\n",
    "    pylab.ylabel('concentration')\n",
    "    pylab.show()\n",
    "except ModuleNotFoundError:\n",
    "    warnings.warn('libroadrunner was not found, please install libroadrunner')"
   ]
  },
  {
   "cell_type": "code",
   "execution_count": 9,
   "metadata": {},
   "outputs": [],
   "source": [
    "rr = None\n",
    "try:\n",
    "    import roadrunner\n",
    "    x0 = {str(A):120}\n",
    "    rr = CRN.simulate_with_roadrunner(timepoints=range(0,10), initial_condition_dict = x0, return_roadrunner=True)\n",
    "except ModuleNotFoundError:\n",
    "    warnings.warn('libroadrunner was not found, please install libroadrunner')\n"
   ]
  },
  {
   "cell_type": "markdown",
   "metadata": {
    "pycharm": {
     "name": "#%% md\n"
    },
    "scrolled": true
   },
   "source": [
    "## reset simulation"
   ]
  },
  {
   "cell_type": "code",
   "execution_count": null,
   "outputs": [],
   "source": [
    "if rr is not None:\n",
    "    rr.reset()\n",
    "    res2 = rr.simulate( start=0, end=9, points=10)\n",
    "    pylab.plot (res2[:,0],res2[:,1:])\n",
    "    pylab.legend(rr.timeCourseSelections[1:])\n",
    "    pylab.show()\n"
   ],
   "metadata": {
    "collapsed": false,
    "pycharm": {
     "name": "#%%\n"
    }
   }
  },
  {
   "cell_type": "markdown",
   "metadata": {},
   "source": [
    "The reset function is needed to simulate the ODE from the inital condition not from the end of the last simulation time point. "
   ]
  }
 ],
 "metadata": {
  "kernelspec": {
   "display_name": "Python 3",
   "language": "python",
   "name": "python3"
  },
  "language_info": {
   "codemirror_mode": {
    "name": "ipython",
    "version": 3
   },
   "file_extension": ".py",
   "mimetype": "text/x-python",
   "name": "python",
   "nbconvert_exporter": "python",
   "pygments_lexer": "ipython3",
   "version": "3.8.5"
  }
 },
 "nbformat": 4,
 "nbformat_minor": 1
}