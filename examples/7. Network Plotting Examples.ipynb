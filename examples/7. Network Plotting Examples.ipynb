{
 "cells": [
  {
   "cell_type": "markdown",
   "metadata": {},
   "source": [
    "## Plotting Installation:\n",
    "\n",
    "The plotting package allows you to make an interactive CRN plot. Plotting requires the [Bokeh](https://docs.bokeh.org/en/latest/docs/installation.html) and [ForceAtlas2](https://journals.plos.org/plosone/article?id=10.1371/journal.pone.0098679) libraries to be installed on your machine. Bokeh is used for plotting, ForceAtlas2 is used for graph layout. To install, type the following into the consol:\n",
    "\n",
    "    Conda install bokeh\n",
    "    pip install fa2\n",
    "\n",
    "Alternatively, follow the installation instructions in the links above.\n",
    "\n",
    "\n"
   ]
  },
  {
   "cell_type": "markdown",
   "metadata": {},
   "source": [
    "## Plotting Example\n",
    "The CRN plot has a default representation:\n",
    "* species are circles\n",
    "    - orange circles are RNA species\n",
    "    - blue circles are complexes\n",
    "    - green circles are proteins\n",
    "    - grey circles are DNA\n",
    "    -there's always a purple circle that represents nothing. If your CRN doesn't have reactions that go to nothing, then it won't have any connections.\n",
    "    \n",
    "* reactions are squares\n",
    "\n",
    "Click on a node (either reaction or species) and all arrows including that node will be highlighted\n",
    "Mouse over a node (either reaction or species) and a tooltip will tell you what it is."
   ]
  },
  {
   "cell_type": "markdown",
   "metadata": {},
   "source": [
    "### Create a BioCRNpyler Model\n",
    "Here we model a DNA assembly with a regulated promoter in a TxTl mixture."
   ]
  },
  {
   "cell_type": "code",
   "execution_count": 3,
   "metadata": {
    "tags": []
   },
   "outputs": [
    {
     "ename": "AttributeError",
     "evalue": "module 'numpy' has no attribute 'float64'",
     "output_type": "error",
     "traceback": [
      "\u001B[0;31m---------------------------------------------------------------------------\u001B[0m",
      "\u001B[0;31mAttributeError\u001B[0m                            Traceback (most recent call last)",
      "\u001B[0;32m<ipython-input-3-454e7d8d40b3>\u001B[0m in \u001B[0;36m<module>\u001B[0;34m\u001B[0m\n\u001B[0;32m----> 1\u001B[0;31m \u001B[0;32mfrom\u001B[0m \u001B[0mbiocrnpyler\u001B[0m \u001B[0;32mimport\u001B[0m \u001B[0;34m*\u001B[0m\u001B[0;34m\u001B[0m\u001B[0;34m\u001B[0m\u001B[0m\n\u001B[0m\u001B[1;32m      2\u001B[0m \u001B[0;34m\u001B[0m\u001B[0m\n\u001B[1;32m      3\u001B[0m \u001B[0;34m\u001B[0m\u001B[0m\n\u001B[1;32m      4\u001B[0m \u001B[0mtxtl\u001B[0m \u001B[0;34m=\u001B[0m \u001B[0mTxTlExtract\u001B[0m\u001B[0;34m(\u001B[0m\u001B[0;34m\"mixture1\"\u001B[0m\u001B[0;34m,\u001B[0m \u001B[0mparameter_file\u001B[0m \u001B[0;34m=\u001B[0m \u001B[0;34m'default_parameters.txt'\u001B[0m\u001B[0;34m)\u001B[0m\u001B[0;34m\u001B[0m\u001B[0;34m\u001B[0m\u001B[0m\n\u001B[1;32m      5\u001B[0m \u001B[0mdna\u001B[0m \u001B[0;34m=\u001B[0m \u001B[0mDNAassembly\u001B[0m\u001B[0;34m(\u001B[0m\u001B[0;34m\"mydna\"\u001B[0m\u001B[0;34m,\u001B[0m\u001B[0mpromoter\u001B[0m\u001B[0;34m=\u001B[0m\u001B[0mRegulatedPromoter\u001B[0m\u001B[0;34m(\u001B[0m\u001B[0;34m\"plac\"\u001B[0m\u001B[0;34m,\u001B[0m\u001B[0;34m[\u001B[0m\u001B[0;34m\"laci\"\u001B[0m\u001B[0;34m]\u001B[0m\u001B[0;34m)\u001B[0m\u001B[0;34m,\u001B[0m\u001B[0mrbs\u001B[0m\u001B[0;34m=\u001B[0m\u001B[0;34m\"UTR1\"\u001B[0m\u001B[0;34m,\u001B[0m\u001B[0mprotein\u001B[0m\u001B[0;34m=\u001B[0m\u001B[0;34m\"GFP\"\u001B[0m\u001B[0;34m,\u001B[0m \u001B[0minitial_conc\u001B[0m \u001B[0;34m=\u001B[0m \u001B[0;36m10\u001B[0m\u001B[0;34m)\u001B[0m\u001B[0;34m\u001B[0m\u001B[0;34m\u001B[0m\u001B[0m\n",
      "\u001B[0;32m~/PycharmProjects/biocrnplyler/biocrnpyler/__init__.py\u001B[0m in \u001B[0;36m<module>\u001B[0;34m\u001B[0m\n\u001B[1;32m     35\u001B[0m \u001B[0;32mfrom\u001B[0m \u001B[0;34m.\u001B[0m\u001B[0msbmlutil\u001B[0m \u001B[0;32mimport\u001B[0m \u001B[0;34m*\u001B[0m\u001B[0;34m\u001B[0m\u001B[0;34m\u001B[0m\u001B[0m\n\u001B[1;32m     36\u001B[0m \u001B[0;32mtry\u001B[0m\u001B[0;34m:\u001B[0m\u001B[0;34m\u001B[0m\u001B[0;34m\u001B[0m\u001B[0m\n\u001B[0;32m---> 37\u001B[0;31m     \u001B[0;32mfrom\u001B[0m \u001B[0;34m.\u001B[0m\u001B[0mplotting\u001B[0m \u001B[0;32mimport\u001B[0m \u001B[0;34m*\u001B[0m\u001B[0;34m\u001B[0m\u001B[0;34m\u001B[0m\u001B[0m\n\u001B[0m\u001B[1;32m     38\u001B[0m \u001B[0;32mexcept\u001B[0m \u001B[0mModuleNotFoundError\u001B[0m \u001B[0;32mas\u001B[0m \u001B[0me\u001B[0m\u001B[0;34m:\u001B[0m\u001B[0;34m\u001B[0m\u001B[0;34m\u001B[0m\u001B[0m\n\u001B[1;32m     39\u001B[0m     \u001B[0mwarn\u001B[0m\u001B[0;34m(\u001B[0m\u001B[0mstr\u001B[0m\u001B[0;34m(\u001B[0m\u001B[0me\u001B[0m\u001B[0;34m)\u001B[0m\u001B[0;34m)\u001B[0m\u001B[0;34m\u001B[0m\u001B[0;34m\u001B[0m\u001B[0m\n",
      "\u001B[0;32m~/PycharmProjects/biocrnplyler/biocrnpyler/plotting.py\u001B[0m in \u001B[0;36m<module>\u001B[0;34m\u001B[0m\n\u001B[1;32m      8\u001B[0m \u001B[0;34m\u001B[0m\u001B[0m\n\u001B[1;32m      9\u001B[0m \u001B[0;32mimport\u001B[0m \u001B[0mrandom\u001B[0m\u001B[0;34m\u001B[0m\u001B[0;34m\u001B[0m\u001B[0m\n\u001B[0;32m---> 10\u001B[0;31m \u001B[0;32mimport\u001B[0m \u001B[0mnetworkx\u001B[0m \u001B[0;32mas\u001B[0m \u001B[0mnx\u001B[0m\u001B[0;34m\u001B[0m\u001B[0;34m\u001B[0m\u001B[0m\n\u001B[0m\u001B[1;32m     11\u001B[0m \u001B[0;32mimport\u001B[0m \u001B[0mstatistics\u001B[0m\u001B[0;34m\u001B[0m\u001B[0;34m\u001B[0m\u001B[0m\n\u001B[1;32m     12\u001B[0m from bokeh.models import (BoxSelectTool, Circle,Square, EdgesAndLinkedNodes, HoverTool,\n",
      "\u001B[0;32m~/PycharmProjects/biocrnplyler/venv/lib/python3.7/site-packages/networkx/__init__.py\u001B[0m in \u001B[0;36m<module>\u001B[0;34m\u001B[0m\n\u001B[1;32m    113\u001B[0m \u001B[0;32mfrom\u001B[0m \u001B[0mnetworkx\u001B[0m\u001B[0;34m.\u001B[0m\u001B[0mgenerators\u001B[0m \u001B[0;32mimport\u001B[0m \u001B[0;34m*\u001B[0m\u001B[0;34m\u001B[0m\u001B[0;34m\u001B[0m\u001B[0m\n\u001B[1;32m    114\u001B[0m \u001B[0;34m\u001B[0m\u001B[0m\n\u001B[0;32m--> 115\u001B[0;31m \u001B[0;32mimport\u001B[0m \u001B[0mnetworkx\u001B[0m\u001B[0;34m.\u001B[0m\u001B[0mreadwrite\u001B[0m\u001B[0;34m\u001B[0m\u001B[0;34m\u001B[0m\u001B[0m\n\u001B[0m\u001B[1;32m    116\u001B[0m \u001B[0;32mfrom\u001B[0m \u001B[0mnetworkx\u001B[0m\u001B[0;34m.\u001B[0m\u001B[0mreadwrite\u001B[0m \u001B[0;32mimport\u001B[0m \u001B[0;34m*\u001B[0m\u001B[0;34m\u001B[0m\u001B[0;34m\u001B[0m\u001B[0m\n\u001B[1;32m    117\u001B[0m \u001B[0;34m\u001B[0m\u001B[0m\n",
      "\u001B[0;32m~/PycharmProjects/biocrnplyler/venv/lib/python3.7/site-packages/networkx/readwrite/__init__.py\u001B[0m in \u001B[0;36m<module>\u001B[0;34m\u001B[0m\n\u001B[1;32m     13\u001B[0m \u001B[0;32mfrom\u001B[0m \u001B[0mnetworkx\u001B[0m\u001B[0;34m.\u001B[0m\u001B[0mreadwrite\u001B[0m\u001B[0;34m.\u001B[0m\u001B[0mnx_yaml\u001B[0m \u001B[0;32mimport\u001B[0m \u001B[0;34m*\u001B[0m\u001B[0;34m\u001B[0m\u001B[0;34m\u001B[0m\u001B[0m\n\u001B[1;32m     14\u001B[0m \u001B[0;32mfrom\u001B[0m \u001B[0mnetworkx\u001B[0m\u001B[0;34m.\u001B[0m\u001B[0mreadwrite\u001B[0m\u001B[0;34m.\u001B[0m\u001B[0mgml\u001B[0m \u001B[0;32mimport\u001B[0m \u001B[0;34m*\u001B[0m\u001B[0;34m\u001B[0m\u001B[0;34m\u001B[0m\u001B[0m\n\u001B[0;32m---> 15\u001B[0;31m \u001B[0;32mfrom\u001B[0m \u001B[0mnetworkx\u001B[0m\u001B[0;34m.\u001B[0m\u001B[0mreadwrite\u001B[0m\u001B[0;34m.\u001B[0m\u001B[0mgraphml\u001B[0m \u001B[0;32mimport\u001B[0m \u001B[0;34m*\u001B[0m\u001B[0;34m\u001B[0m\u001B[0;34m\u001B[0m\u001B[0m\n\u001B[0m\u001B[1;32m     16\u001B[0m \u001B[0;32mfrom\u001B[0m \u001B[0mnetworkx\u001B[0m\u001B[0;34m.\u001B[0m\u001B[0mreadwrite\u001B[0m\u001B[0;34m.\u001B[0m\u001B[0mgexf\u001B[0m \u001B[0;32mimport\u001B[0m \u001B[0;34m*\u001B[0m\u001B[0;34m\u001B[0m\u001B[0;34m\u001B[0m\u001B[0m\n\u001B[1;32m     17\u001B[0m \u001B[0;32mfrom\u001B[0m \u001B[0mnetworkx\u001B[0m\u001B[0;34m.\u001B[0m\u001B[0mreadwrite\u001B[0m\u001B[0;34m.\u001B[0m\u001B[0mnx_shp\u001B[0m \u001B[0;32mimport\u001B[0m \u001B[0;34m*\u001B[0m\u001B[0;34m\u001B[0m\u001B[0;34m\u001B[0m\u001B[0m\n",
      "\u001B[0;32m~/PycharmProjects/biocrnplyler/venv/lib/python3.7/site-packages/networkx/readwrite/graphml.py\u001B[0m in \u001B[0;36m<module>\u001B[0;34m\u001B[0m\n\u001B[1;32m    312\u001B[0m \u001B[0;34m\u001B[0m\u001B[0m\n\u001B[1;32m    313\u001B[0m \u001B[0;34m\u001B[0m\u001B[0m\n\u001B[0;32m--> 314\u001B[0;31m \u001B[0;32mclass\u001B[0m \u001B[0mGraphML\u001B[0m\u001B[0;34m(\u001B[0m\u001B[0mobject\u001B[0m\u001B[0;34m)\u001B[0m\u001B[0;34m:\u001B[0m\u001B[0;34m\u001B[0m\u001B[0;34m\u001B[0m\u001B[0m\n\u001B[0m\u001B[1;32m    315\u001B[0m     \u001B[0mNS_GRAPHML\u001B[0m \u001B[0;34m=\u001B[0m \u001B[0;34m\"http://graphml.graphdrawing.org/xmlns\"\u001B[0m\u001B[0;34m\u001B[0m\u001B[0;34m\u001B[0m\u001B[0m\n\u001B[1;32m    316\u001B[0m     \u001B[0mNS_XSI\u001B[0m \u001B[0;34m=\u001B[0m \u001B[0;34m\"http://www.w3.org/2001/XMLSchema-instance\"\u001B[0m\u001B[0;34m\u001B[0m\u001B[0;34m\u001B[0m\u001B[0m\n",
      "\u001B[0;32m~/PycharmProjects/biocrnplyler/venv/lib/python3.7/site-packages/networkx/readwrite/graphml.py\u001B[0m in \u001B[0;36mGraphML\u001B[0;34m()\u001B[0m\n\u001B[1;32m    342\u001B[0m     \u001B[0;32melse\u001B[0m\u001B[0;34m:\u001B[0m\u001B[0;34m\u001B[0m\u001B[0;34m\u001B[0m\u001B[0m\n\u001B[1;32m    343\u001B[0m         \u001B[0;31m# prepend so that python types are created upon read (last entry wins)\u001B[0m\u001B[0;34m\u001B[0m\u001B[0;34m\u001B[0m\u001B[0;34m\u001B[0m\u001B[0m\n\u001B[0;32m--> 344\u001B[0;31m         types = [(np.float64, \"float\"), (np.float32, \"float\"),\n\u001B[0m\u001B[1;32m    345\u001B[0m                  \u001B[0;34m(\u001B[0m\u001B[0mnp\u001B[0m\u001B[0;34m.\u001B[0m\u001B[0mfloat16\u001B[0m\u001B[0;34m,\u001B[0m \u001B[0;34m\"float\"\u001B[0m\u001B[0;34m)\u001B[0m\u001B[0;34m,\u001B[0m \u001B[0;34m(\u001B[0m\u001B[0mnp\u001B[0m\u001B[0;34m.\u001B[0m\u001B[0mfloat_\u001B[0m\u001B[0;34m,\u001B[0m \u001B[0;34m\"float\"\u001B[0m\u001B[0;34m)\u001B[0m\u001B[0;34m,\u001B[0m\u001B[0;34m\u001B[0m\u001B[0;34m\u001B[0m\u001B[0m\n\u001B[1;32m    346\u001B[0m                  \u001B[0;34m(\u001B[0m\u001B[0mnp\u001B[0m\u001B[0;34m.\u001B[0m\u001B[0mint\u001B[0m\u001B[0;34m,\u001B[0m \u001B[0;34m\"int\"\u001B[0m\u001B[0;34m)\u001B[0m\u001B[0;34m,\u001B[0m \u001B[0;34m(\u001B[0m\u001B[0mnp\u001B[0m\u001B[0;34m.\u001B[0m\u001B[0mint8\u001B[0m\u001B[0;34m,\u001B[0m \u001B[0;34m\"int\"\u001B[0m\u001B[0;34m)\u001B[0m\u001B[0;34m,\u001B[0m\u001B[0;34m\u001B[0m\u001B[0;34m\u001B[0m\u001B[0m\n",
      "\u001B[0;31mAttributeError\u001B[0m: module 'numpy' has no attribute 'float64'"
     ]
    }
   ],
   "source": [
    "from biocrnpyler import *\n",
    "\n",
    "\n",
    "txtl = TxTlExtract(\"mixture1\", parameter_file = 'default_parameters.txt')\n",
    "dna = DNAassembly(\"mydna\",promoter=RegulatedPromoter(\"plac\",[\"laci\"]),rbs=\"UTR1\",protein=\"GFP\", initial_conc = 10)\n",
    "txtl.add_component(dna)\n",
    "crn1 = txtl.compile_crn()\n",
    "print(crn1.pretty_print())"
   ]
  },
  {
   "cell_type": "markdown",
   "metadata": {},
   "source": [
    "## Plotting a reaction graph\n",
    "First we import bokeh in order to plot an interactive graph then use the graphPlot function and the BioCRNpyler.plotting.generate_networkx_graph(crn) function to produce a graph. Mouseover the circles to see which species they identify and the squares to see reactions."
   ]
  },
  {
   "cell_type": "code",
   "execution_count": null,
   "metadata": {
    "tags": []
   },
   "outputs": [],
   "source": [
    "try:\n",
    "    from bokeh.models import (Plot , Range1d)\n",
    "    import bokeh.plotting\n",
    "    import bokeh.io\n",
    "    bokeh.io.output_notebook() #this makes the graph appear in line with the notebook\n",
    "    DG, DGspec, DGrxn = generate_networkx_graph(crn1) #this creates the networkx objects\n",
    "    plot = Plot(plot_width=500, plot_height=500, x_range=Range1d(-500, 500), y_range=Range1d(-500, 500)) #this generates a bokeh plot\n",
    "    graphPlot(DG,DGspec,DGrxn,plot,layout=\"force\",posscale=1) #now you draw the network on the plot. Layout \"force\" is the default.\n",
    "    #\"posscale\" scales the entire graph. This mostly just affects the size of the arrows relative to everything else\n",
    "    bokeh.io.show(plot) #if you don't type this the plot won't show\n",
    "except ModuleNotFoundError:\n",
    "    print('please install the plotting libraries: pip install biocrnpyler[all]')\n",
    "\n",
    "\n",
    "#mouse over nodes to get a tooltip telling you what they are\n",
    "#mouse over single lines to outline them\n",
    "#click on nodes to highlight all edges that touch them\n",
    "#use the magnifying glass symbol to zoom in and out\n",
    "#click and drag to move around\n",
    "\n",
    "#NOTE: this function is not deterministic in how it displays the network, because it uses randomness to push the nodes around"
   ]
  },
  {
   "cell_type": "markdown",
   "metadata": {},
   "source": [
    "### Advanced options for generate_networkx_graph\n",
    "The following options are useful changing how plotting works.\n",
    "\n",
    "To get better control over the way reactions and species text is display using the following keywords (default values shown below):\n",
    "\n",
    "    use_pretty_print=False\n",
    "    pp_show_rates=True\n",
    "    pp_show_attributes=True\n",
    "    pp_show_material=True\n",
    "\n",
    "To get better control over the colors of different nodes, use the keywords to set a species' color.\n",
    "The higher keywords will take precedence.\n",
    "\n",
    "    repr(species): \"color\"\n",
    "    species.name: \"color\"\n",
    "    (species.material_type, tuple(specie.attributes)): \"color\"\n",
    "    species.material_type: \"color\"\n",
    "    tuple(species.attributes): \"color\"\n"
   ]
  },
  {
   "cell_type": "code",
   "execution_count": null,
   "metadata": {
    "tags": []
   },
   "outputs": [],
   "source": [
    "try:\n",
    "    from bokeh.models import (Plot , Range1d)\n",
    "    import bokeh.plotting\n",
    "    import bokeh.io\n",
    "    bokeh.io.output_notebook() #this makes the graph appear in line with the notebook\n",
    "\n",
    "    #this demonstrates the \"circle\" layout. reactions are in the middle with species on the outside.\n",
    "    #also, the pretty_print text display style\n",
    "\n",
    "    colordict = {\n",
    "        \"G1\":\"red\", #will only effect the species dna_G1 and rna_G1\n",
    "        \"protein_GFP\": \"green\", #will only effect the species protein_GFP\n",
    "        \"protein\": \"blue\" #All protein species, protein_Ribo, protein_RNAase, and protein_RNAP will be blue\n",
    "        #All other species will be grey by default. This will include all complexes.\n",
    "    }\n",
    "    DG, DGspec, DGrxn = generate_networkx_graph(crn1,\n",
    "                                                colordict = colordict,\n",
    "                                                use_pretty_print=True, #uses pretty print\n",
    "                                                pp_show_rates=False, #this would put the reaction rates in the reaction name. It's already listed seperately in the tool tip\n",
    "                                                pp_show_attributes=False,\n",
    "                                                pp_show_material = True #this lists the material of the species being displayed\n",
    "    )\n",
    "\n",
    "    plot = Plot(plot_width=500, plot_height=500, x_range=Range1d(-500, 500), y_range=Range1d(-500, 500))\n",
    "    graphPlot(DG,DGspec,DGrxn,plot,layout=\"circle\",posscale=1)\n",
    "    bokeh.io.show(plot)\n",
    "except ModuleNotFoundError:\n",
    "    print('please install the plotting libraries: pip install biocrnpyler[all]')\n"
   ]
  },
  {
   "cell_type": "code",
   "execution_count": null,
   "metadata": {},
   "outputs": [],
   "source": []
  }
 ],
 "metadata": {
  "kernelspec": {
   "display_name": "Python 3",
   "language": "python",
   "name": "python3"
  },
  "language_info": {
   "codemirror_mode": {
    "name": "ipython",
    "version": 3
   },
   "file_extension": ".py",
   "mimetype": "text/x-python",
   "name": "python",
   "nbconvert_exporter": "python",
   "pygments_lexer": "ipython3",
   "version": "3.7.6"
  }
 },
 "nbformat": 4,
 "nbformat_minor": 2
}