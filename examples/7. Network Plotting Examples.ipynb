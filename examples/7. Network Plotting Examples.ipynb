{
 "cells": [
  {
   "cell_type": "markdown",
   "metadata": {},
   "source": [
    "## Plotting Installation:\n",
    "\n",
    "The plotting package allows you to make an interactive CRN plot. Plotting requires the [Bokeh](https://docs.bokeh.org/en/latest/docs/installation.html) and [ForceAtlas2](https://journals.plos.org/plosone/article?id=10.1371/journal.pone.0098679) libraries to be installed on your machine. Bokeh is used for plotting, ForceAtlas2 is used for graph layout. To install, type the following into the consol:\n",
    "\n",
    "    Conda install bokeh\n",
    "    pip install fa2\n",
    "\n",
    "Alternatively, follow the installation instructions in the links above.\n",
    "\n",
    "\n"
   ]
  },
  {
   "cell_type": "markdown",
   "metadata": {},
   "source": [
    "## Plotting Example\n",
    "The CRN plot has a default representation:\n",
    "* species are circles\n",
    "    - orange circles are RNA species\n",
    "    - blue circles are complexes\n",
    "    - green circles are proteins\n",
    "    - grey circles are DNA\n",
    "    -there's always a purple circle that represents nothing. If your CRN doesn't have reactions that go to nothing, then it won't have any connections.\n",
    "    \n",
    "* reactions are squares\n",
    "\n",
    "Click on a node (either reaction or species) and all arrows including that node will be highlighted\n",
    "Mouse over a node (either reaction or species) and a tooltip will tell you what it is."
   ]
  },
  {
   "cell_type": "markdown",
   "metadata": {},
   "source": [
    "### Create a BioCRNpyler Model\n",
    "Here we model a DNA assembly with a regulated promoter in a TxTl mixture."
   ]
  },
  {
   "cell_type": "code",
   "execution_count": null,
   "metadata": {
    "tags": []
   },
   "outputs": [],
   "source": [
    "from biocrnpyler import *\n",
    "\n",
    "\n",
    "txtl = TxTlExtract(\"mixture1\", parameter_file = 'default_parameters.txt')\n",
    "dna = DNAassembly(\"mydna\",promoter=RegulatedPromoter(\"plac\",[\"laci\"]),rbs=\"UTR1\",protein=\"GFP\", initial_concentration = 10)\n",
    "txtl.add_component(dna)\n",
    "crn1 = txtl.compile_crn()\n",
    "crn1.add_reactions([Reaction.from_massaction([Species(\"mydna\",material_type=\"rna\")],[],k_forward=0.1)])\n",
    "print(crn1.pretty_print())"
   ]
  },
  {
   "cell_type": "markdown",
   "metadata": {},
   "source": [
    "## Plotting a reaction graph\n",
    "First we import bokeh in order to plot an interactive graph then use the graphPlot function and the BioCRNpyler.plotting.generate_networkx_graph(crn) function to produce a graph. Mouseover the circles to see which species they identify and the squares to see reactions."
   ]
  },
  {
   "cell_type": "code",
   "execution_count": null,
   "metadata": {
    "tags": []
   },
   "outputs": [],
   "source": [
    "try:\n",
    "    from bokeh.models import (Plot , Range1d)\n",
    "    import bokeh.plotting\n",
    "    import bokeh.io\n",
    "    bokeh.io.output_notebook() #this makes the graph appear in line with the notebook\n",
    "    plot = render_network_bokeh(crn1)\n",
    "    bokeh.io.show(plot) #if you don't type this the plot won't show\n",
    "except ModuleNotFoundError:\n",
    "    print('please install the plotting libraries: pip install biocrnpyler[all]')\n",
    "\n",
    "\n",
    "#mouse over nodes to get a tooltip telling you what they are\n",
    "#mouse over single lines to outline them\n",
    "#click on nodes to highlight all edges that touch them\n",
    "#use the magnifying glass symbol to zoom in and out\n",
    "#click and drag to move around\n",
    "\n",
    "#NOTE: this function is not deterministic in how it displays the network, because it uses randomness to push the nodes around"
   ]
  },
  {
   "cell_type": "markdown",
   "metadata": {},
   "source": [
    "### Advanced options for generate_networkx_graph\n",
    "The following options are useful changing how plotting works.\n",
    "\n",
    "To get better control over the way reactions and species text is display using the following keywords (default values shown below):\n",
    "\n",
    "    use_pretty_print=False\n",
    "    pp_show_rates=True\n",
    "    pp_show_attributes=True\n",
    "    pp_show_material=True\n",
    "\n",
    "To get better control over the colors of different nodes, use the keywords to set a species' color.\n",
    "The higher keywords will take precedence.\n",
    "\n",
    "    repr(species): \"color\"\n",
    "    species.name: \"color\"\n",
    "    (species.material_type, tuple(specie.attributes)): \"color\"\n",
    "    species.material_type: \"color\"\n",
    "    tuple(species.attributes): \"color\"\n"
   ]
  },
  {
   "cell_type": "code",
   "execution_count": null,
   "metadata": {
    "tags": []
   },
   "outputs": [],
   "source": [
    "try:\n",
    "    from bokeh.models import (Plot , Range1d)\n",
    "    import bokeh.plotting\n",
    "    import bokeh.io\n",
    "    bokeh.io.output_notebook() #this makes the graph appear in line with the notebook\n",
    "\n",
    "    #this demonstrates the \"circle\" layout. reactions are in the middle with species on the outside.\n",
    "    #also, the pretty_print text display style\n",
    "\n",
    "    colordict = {\n",
    "        \"G1\":\"red\", #will only effect the species dna_G1 and rna_G1\n",
    "        \"protein_GFP\": \"lightgreen\", #will only effect the species protein_GFP\n",
    "        \"protein\": \"blue\" #All protein species, protein_Ribo, protein_RNAase, and protein_RNAP will be blue\n",
    "        #All other species will be grey by default. This will include all complexes.\n",
    "    }\n",
    "    plot = render_network_bokeh(crn1,\n",
    "                            colordict = colordict,\n",
    "                            use_pretty_print=True, #uses pretty print\n",
    "                            pp_show_rates=False, #this would put the reaction rates in the reaction name. It's already listed seperately in the tool tip\n",
    "                            pp_show_attributes=False,\n",
    "                            pp_show_material = True, #this lists the material of the species being displayed\n",
    "                            layout=\"circle\",\n",
    "    )\n",
    "    bokeh.io.show(plot)\n",
    "except ModuleNotFoundError:\n",
    "    print('please install the plotting libraries: pip install biocrnpyler[all]')\n"
   ]
  },
  {
   "cell_type": "code",
   "execution_count": null,
   "metadata": {},
   "outputs": [],
   "source": [
    "#this is an example of how to use the new image plotting. It is designed to combine dnaplotlib and the network representation to show constructs and where proteins are bound to them.\n",
    "\n",
    "#to use this to its full potential you must make dna_constructs:\n",
    "txtl = TxTlExtract(\"mixture1\", parameter_file = 'default_parameters.txt')\n",
    "\n",
    "ptet = RegulatedPromoter(\"ptet\",[\"tetR\"])\n",
    "utr1 = RBS(\"utr1\")\n",
    "gfp = CDS(\"GFP\")\n",
    "t16 = Terminator(\"t16\")\n",
    "\n",
    "construct = DNA_construct([ptet,utr1,gfp,t16], initial_concentration=5)\n",
    "\n",
    "\n",
    "dna = DNAassembly(\"mydna\",promoter=RegulatedPromoter(\"plac\",[\"laci\"]),rbs=utr1,protein=\"GFP\", initial_concentration = 10)\n",
    "txtl.add_component(dna)\n",
    "txtl.add_component(construct)\n",
    "crn1 = txtl.compile_crn()\n",
    "crn1.add_reactions([Reaction.from_massaction([Species(\"mydna\",material_type=\"rna\")],[],k_forward=0.1)])\n",
    "try:\n",
    "    #dnaplotlib is a cool library for plotting DNAs.\n",
    "    #please use my fork located at https://github.com/dr3y/dnaplotlib\n",
    "    #to install it type: pip install git+git://github.com/dr3y/dnaplotlib.git@master\n",
    "    import dnaplotlib as dpl\n",
    "    %matplotlib inline\n",
    "    dpl_enabled = True\n",
    "except (ModuleNotFoundError,ImportError) as e:\n",
    "    dpl_enabled = False\n",
    "\n",
    "try:\n",
    "    from bokeh.models import (Plot , Range1d)\n",
    "    import bokeh.plotting\n",
    "    import bokeh.io\n",
    "    bokeh.io.output_notebook() #this makes the graph appear in line with the notebook\n",
    "\n",
    "    #this demonstrates the \"circle\" layout. reactions are in the middle with species on the outside.\n",
    "    #also, the pretty_print text display style\n",
    "\n",
    "    colordict = {\n",
    "        \"G1\":\"red\", #will only effect the species dna_G1 and rna_G1\n",
    "        \"protein_GFP\": \"green\", #will only effect the species protein_GFP\n",
    "        \"GFP\":\"lightgreen\", #this will affect how the dnaplotlib is drawn\n",
    "        \"protein\": \"blue\" #All protein species, protein_Ribo, protein_RNAase, and protein_RNAP will be blue\n",
    "        #All other species will be grey by default. This will include all complexes.\n",
    "    }\n",
    "    colordict = {}\n",
    "    if(dpl_enabled):\n",
    "        images =render_mixture(txtl,crn1,colordict)\n",
    "    else:\n",
    "        images = None\n",
    "    plot = render_network_bokeh(crn1,\n",
    "                                                colordict = colordict,\n",
    "                                                use_pretty_print=True, #uses pretty print\n",
    "                                                pp_show_rates=False, #this would put the reaction rates in the reaction name. It's already listed seperately in the tool tip\n",
    "                                                pp_show_attributes=False,\n",
    "                                                pp_show_material = True, #this lists the material of the species being displayed\n",
    "                                                imagedict =images, #this is a dictionary of which images to show for each species\n",
    "                                                layout=\"circle\",\n",
    "    )\n",
    "    bokeh.io.show(plot)\n",
    "except ModuleNotFoundError:\n",
    "    print('please install the plotting libraries: pip install biocrnpyler[all]')"
   ]
  }
 ],
 "metadata": {
  "kernelspec": {
   "name": "python37464bitbaseconda4bf18afa65be4bc0b1df4a316a30f53b",
   "display_name": "Python 3.7.7 64-bit ('base': conda)"
  },
  "language_info": {
   "codemirror_mode": {
    "name": "ipython",
    "version": 3
   },
   "file_extension": ".py",
   "mimetype": "text/x-python",
   "name": "python",
   "nbconvert_exporter": "python",
   "pygments_lexer": "ipython3",
   "version": "3.7.7"
  },
  "metadata": {
   "interpreter": {
    "hash": "7b4b4feff2f24a0f0a34464dbe537a36fda679851528fb8735cb41fa49dffb2d"
   }
  }
 },
 "nbformat": 4,
 "nbformat_minor": 2
}